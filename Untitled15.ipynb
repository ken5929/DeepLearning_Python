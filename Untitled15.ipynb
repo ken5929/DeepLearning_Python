{
  "nbformat": 4,
  "nbformat_minor": 0,
  "metadata": {
    "colab": {
      "provenance": []
    },
    "kernelspec": {
      "name": "python3",
      "display_name": "Python 3"
    },
    "language_info": {
      "name": "python"
    }
  },
  "cells": [
    {
      "cell_type": "code",
      "execution_count": 1,
      "metadata": {
        "colab": {
          "base_uri": "https://localhost:8080/"
        },
        "id": "r5aRevy8jhP3",
        "outputId": "7bdff7b2-5254-4666-a0a6-a998fabe13f2"
      },
      "outputs": [
        {
          "output_type": "stream",
          "name": "stdout",
          "text": [
            "안녕하세요\n",
            "10\n",
            "20\n",
            "30\n"
          ]
        }
      ],
      "source": [
        "print (\"안녕하세요\")      #print(\"\")안에 출력할 내용을 적어 사용\n",
        "\n",
        "a = 10\n",
        "print(a)\n",
        "\n",
        "a = 20\n",
        "print(a)\n",
        "\n",
        "a = 30\n",
        "print(a)"
      ]
    },
    {
      "cell_type": "code",
      "source": [
        "#type()함수는 타입을 알려주는 함수\n",
        "\n",
        "a = 10\n",
        "b = 10.123\n",
        "c = 0o111       #8진수\n",
        "d = 0x8BF       #16진수\n",
        "\n",
        "print(a)\n",
        "print(b)\n",
        "print(c)\n",
        "print(d)\n",
        "print()\n",
        "\n",
        "print(type(a))\n",
        "print(type(b))\n",
        "print(type(c))\n",
        "print(type(d))"
      ],
      "metadata": {
        "colab": {
          "base_uri": "https://localhost:8080/"
        },
        "id": "pnc4LlLFoEt3",
        "outputId": "f9a2da17-693a-49c2-dbd8-968671d2229b"
      },
      "execution_count": 7,
      "outputs": [
        {
          "output_type": "stream",
          "name": "stdout",
          "text": [
            "10\n",
            "10.123\n",
            "73\n",
            "2239\n",
            "\n",
            "<class 'int'>\n",
            "<class 'float'>\n",
            "<class 'int'>\n",
            "<class 'int'>\n"
          ]
        }
      ]
    },
    {
      "cell_type": "code",
      "source": [
        "#사칙연산\n",
        "\n",
        "a = 4\n",
        "b = 3\n",
        "\n",
        "print(a)\n",
        "print(b)\n",
        "print()\n",
        "print(a+b)          #덧셈\n",
        "print(a*b)          #곱셉\n",
        "print(a-b)          #뺄셈\n",
        "print(a/b)          #나누기\n",
        "print(a**b)         #제곱\n",
        "print(7%3)          #나머지\n"
      ],
      "metadata": {
        "colab": {
          "base_uri": "https://localhost:8080/"
        },
        "id": "ubSRW05l306w",
        "outputId": "947d4aea-b05b-45cf-a0fb-28c67e4550f2"
      },
      "execution_count": 33,
      "outputs": [
        {
          "output_type": "stream",
          "name": "stdout",
          "text": [
            "4\n",
            "3\n",
            "\n",
            "7\n",
            "12\n",
            "1\n",
            "1.3333333333333333\n",
            "64\n",
            "1\n"
          ]
        }
      ]
    },
    {
      "cell_type": "code",
      "source": [
        "'문장을 적으면 안되요.'\n",
        "\n",
        "'''\n",
        "이부분도 주석입니다\n",
        "여러 줄을 주석으로 구성하고 싶을 떄에는\n",
        "문자열을 사용하면 됩니다.\n",
        "'''\n",
        "\n",
        "# 문자열 안에 \"\"를 사용하기 위해서 ''로 문자열을 구성\n",
        "a = 'a. 누구는 말했다 \"최선을 다해라\"\\n'\n",
        "print(a)\n",
        "\n",
        "#문자열 안에 ''를 사용하기 위해 \"\"로 문자열을 구성\n",
        "b = \"b. 누구는 말했다 '최선을 다해라'\\n\"\n",
        "print(b)\n",
        "\n",
        "#'''로 묶으면 띄어쓰기, 줄 바꿈까지 같이 출력이 가능하다\n",
        "c = '''안녕\n",
        "           하세\n",
        "           요\n",
        "\n",
        "'''\n",
        "print(c)\n",
        "\n"
      ],
      "metadata": {
        "colab": {
          "base_uri": "https://localhost:8080/"
        },
        "id": "k_1nwJ25ptDm",
        "outputId": "a46ca512-31a8-485e-af89-01397dd846b7"
      },
      "execution_count": 8,
      "outputs": [
        {
          "output_type": "stream",
          "name": "stdout",
          "text": [
            "a. 누구는 말했다 \"최선을 다해라\"\n",
            "\n",
            "b. 누구는 말했다 '최선을 다해라'\n",
            "\n",
            "안녕\n",
            "           하세\n",
            "           요\n",
            "\n",
            "\n"
          ]
        }
      ]
    },
    {
      "cell_type": "code",
      "source": [
        "a = \"누구는 말했다\\n 최선을 다해라\\n\"           # \\n은 줄바꿈 \\t는 tap키 만큼 공간주기\n",
        "print(a)\n",
        "\n",
        "b = '115\\t23\\t2516'\n",
        "c = '1\\t31255\\t456'\n",
        "\n",
        "print(b)\n",
        "print(c)"
      ],
      "metadata": {
        "colab": {
          "base_uri": "https://localhost:8080/"
        },
        "id": "uwYU7vI_q7rP",
        "outputId": "fd6fc7ac-8270-4c28-ab09-4fccc237dc57"
      },
      "execution_count": 9,
      "outputs": [
        {
          "output_type": "stream",
          "name": "stdout",
          "text": [
            "누구는 말했다\n",
            " 최선을 다해라\n",
            "\n",
            "115\t23\t2516\n",
            "1\t31255\t456\n"
          ]
        }
      ]
    },
    {
      "cell_type": "code",
      "source": [
        "a1 = \"python\"                   # 문자도 더하기로 이어 붙이기가 가능하다\n",
        "b1 = \"is good\"\n",
        "\n",
        "test = a1 + b1\n",
        "print(test)\n",
        "\n"
      ],
      "metadata": {
        "id": "rBnBuuetr5_f"
      },
      "execution_count": null,
      "outputs": []
    },
    {
      "cell_type": "code",
      "source": [
        "test = \"python good\\n\"        # 문자에 곱샘을 주면 그 횟수만큼 반복한다\n",
        "print(test*2)\n"
      ],
      "metadata": {
        "colab": {
          "base_uri": "https://localhost:8080/"
        },
        "id": "0Khe0rYEsLGP",
        "outputId": "f7369000-0c04-4505-8bc5-1f748abc9b95"
      },
      "execution_count": 35,
      "outputs": [
        {
          "output_type": "stream",
          "name": "stdout",
          "text": [
            "python good\n",
            "python good\n",
            "\n"
          ]
        }
      ]
    },
    {
      "cell_type": "code",
      "source": [
        "print(\"=\" *30)\n",
        "print(\"Python\")\n",
        "print(\"=\" *30)"
      ],
      "metadata": {
        "colab": {
          "base_uri": "https://localhost:8080/"
        },
        "id": "bb7BZrfHtPTS",
        "outputId": "583f8790-5355-4b1f-9a4b-efe44d364648"
      },
      "execution_count": 37,
      "outputs": [
        {
          "output_type": "stream",
          "name": "stdout",
          "text": [
            "==============================\n",
            "Python\n",
            "==============================\n"
          ]
        }
      ]
    },
    {
      "cell_type": "code",
      "source": [
        "test = \"python is good\"           #인덱싱 번호로 출력이 가능하다\n",
        "\n",
        "print(test[3])"
      ],
      "metadata": {
        "colab": {
          "base_uri": "https://localhost:8080/"
        },
        "id": "HwJo_2EYuF5o",
        "outputId": "9336b932-ed49-42b0-8125-43df7c739468"
      },
      "execution_count": 38,
      "outputs": [
        {
          "output_type": "stream",
          "name": "stdout",
          "text": [
            "h\n"
          ]
        }
      ]
    },
    {
      "cell_type": "code",
      "source": [
        "test1 = \"i love\\tpython.\"           # len()은 길이를 알려준다\n",
        "print(test1)\n",
        "print(len(test1))"
      ],
      "metadata": {
        "colab": {
          "base_uri": "https://localhost:8080/"
        },
        "id": "OkP-Dflqupdo",
        "outputId": "777b74db-2ba5-4676-d8ea-1252891d0508"
      },
      "execution_count": 11,
      "outputs": [
        {
          "output_type": "stream",
          "name": "stdout",
          "text": [
            "i love\tpython.\n",
            "14\n"
          ]
        }
      ]
    },
    {
      "cell_type": "code",
      "source": [
        "test1 = \"pyhton is good\"            # count()는 해당 문자가 몇개인지 세어준다\n",
        "print(test1.count('o'))\n",
        "print(test1.count('a'))"
      ],
      "metadata": {
        "colab": {
          "base_uri": "https://localhost:8080/"
        },
        "id": "I75MI_p6u1pX",
        "outputId": "4734a70d-2298-402a-ce86-ee60dd2d4ac8"
      },
      "execution_count": 12,
      "outputs": [
        {
          "output_type": "stream",
          "name": "stdout",
          "text": [
            "3\n",
            "0\n"
          ]
        }
      ]
    },
    {
      "cell_type": "code",
      "source": [
        "test = \"python is good\"            # join()은 포함 시키는 함수이다.\n",
        "print(','.join(test))\n"
      ],
      "metadata": {
        "colab": {
          "base_uri": "https://localhost:8080/"
        },
        "id": "M22hu_iQu-BX",
        "outputId": "0e1e6746-61c7-4af1-9b0e-22fad3d712e6"
      },
      "execution_count": 13,
      "outputs": [
        {
          "output_type": "stream",
          "name": "stdout",
          "text": [
            "p,y,t,h,o,n, ,i,s, ,g,o,o,d\n"
          ]
        }
      ]
    },
    {
      "cell_type": "code",
      "source": [
        "test1 = \"pyhton is good\"           #upper()함수는 대문자로 바꿔준다\n",
        "test2 = \"Pyhton is Good\"\n",
        "\n",
        "print(test1.upper())\n",
        "print(test2.upper())"
      ],
      "metadata": {
        "colab": {
          "base_uri": "https://localhost:8080/"
        },
        "id": "eJ_wGNVqvOsI",
        "outputId": "c94e5faa-1d56-4045-a6e2-17ee2064034f"
      },
      "execution_count": 14,
      "outputs": [
        {
          "output_type": "stream",
          "name": "stdout",
          "text": [
            "PYHTON IS GOOD\n",
            "PYHTON IS GOOD\n"
          ]
        }
      ]
    },
    {
      "cell_type": "code",
      "source": [
        "test1 = \"pyhton is good\"          # lower()함수는 소문자로 바꿔준다\n",
        "test2 = \"Pyhton is Good\"\n",
        "\n",
        "print(test1.lower())\n",
        "print(test2.lower())"
      ],
      "metadata": {
        "colab": {
          "base_uri": "https://localhost:8080/"
        },
        "id": "1y8o9xwWvYAI",
        "outputId": "502b845b-81b6-41cb-8bdd-0f6cffbf13aa"
      },
      "execution_count": 15,
      "outputs": [
        {
          "output_type": "stream",
          "name": "stdout",
          "text": [
            "pyhton is good\n",
            "pyhton is good\n"
          ]
        }
      ]
    },
    {
      "cell_type": "markdown",
      "source": [
        "# 새 섹션"
      ],
      "metadata": {
        "id": "a-O-L_pM9cgd"
      }
    },
    {
      "cell_type": "code",
      "source": [
        "test = \"  hi  \"                 #strip 함수는 빈칸을 제거해준다.\n",
        "\n",
        "print(test)\n",
        "print(test.strip())\n",
        "print(test.lstrip())            #왼쪽제거\n",
        "print(test.rstrip())            #오른쪽제거"
      ],
      "metadata": {
        "colab": {
          "base_uri": "https://localhost:8080/"
        },
        "id": "sU1o7VgavdUX",
        "outputId": "4b496d30-8250-44bc-b2ce-db231d94bc61"
      },
      "execution_count": 16,
      "outputs": [
        {
          "output_type": "stream",
          "name": "stdout",
          "text": [
            "  hi  \n",
            "hi\n",
            "hi  \n",
            "  hi\n"
          ]
        }
      ]
    },
    {
      "cell_type": "code",
      "source": [
        "test = \"pyhton is good\"             #split()함수는 기준을 잡고 나눠준다\n",
        "print(test.split())\n",
        "\n",
        "test1 = 'a, b, c, d e'\n",
        "print(test1.split(','))"
      ],
      "metadata": {
        "colab": {
          "base_uri": "https://localhost:8080/"
        },
        "id": "5jKQ3O5nvqJg",
        "outputId": "e334ef6e-7da9-41a4-db09-9b8a954aad8b"
      },
      "execution_count": 18,
      "outputs": [
        {
          "output_type": "stream",
          "name": "stdout",
          "text": [
            "['pyhton', 'is', 'good']\n",
            "['a', ' b', ' c', ' d e']\n"
          ]
        }
      ]
    },
    {
      "cell_type": "code",
      "source": [
        "test1 = \"python is good\"\n",
        "print(\"원래 단어 : \"+ test1 + \"\\n바뀐단어 : \" + test1.replace(\"good\",\"bad\"))\n",
        "print(\"원래 단어 : \"+ test1 + \"\\n바뀐단어 : \" + test1.replace(\"python is\",\"i am\"))"
      ],
      "metadata": {
        "colab": {
          "base_uri": "https://localhost:8080/"
        },
        "id": "twkpNXWBv3vn",
        "outputId": "a3a3149a-ac64-45b7-c495-176959462792"
      },
      "execution_count": 23,
      "outputs": [
        {
          "output_type": "stream",
          "name": "stdout",
          "text": [
            "원래 단어 : python is good\n",
            "바뀐단어 : python is bad\n",
            "원래 단어 : python is good\n",
            "바뀐단어 : i am good\n"
          ]
        }
      ]
    },
    {
      "cell_type": "code",
      "source": [
        "test = \"python is good\"             #슬라이싱을 활용하면 원하는 만큼 출력이 가능하다\n",
        "print(test[:4])\n",
        "print(test[3:8])\n",
        "print(test[8:])"
      ],
      "metadata": {
        "colab": {
          "base_uri": "https://localhost:8080/"
        },
        "id": "-GLoEpp_6NcL",
        "outputId": "08964a38-6ad6-41be-aef4-6ec091df93f1"
      },
      "execution_count": 41,
      "outputs": [
        {
          "output_type": "stream",
          "name": "stdout",
          "text": [
            "pyth\n",
            "hon i\n",
            "s good\n"
          ]
        }
      ]
    },
    {
      "cell_type": "code",
      "source": [
        "print(\"사과 10개가 있습니다.\")                              #포맷을 활용하자\n",
        "\n",
        "print(\"사과 %d개가 있습니다\" %3)\n",
        "\n",
        "number = 7\n",
        "print(\"사과 %d개가 있습니다\" %number)\n",
        "\n",
        "fruit = \"사과\"\n",
        "number = 4\n",
        "print(\"저는 %d개의 %s가 있습니다\"%(number, fruit))        # %를 사용하고 묶으면 한번에 가능하다\n"
      ],
      "metadata": {
        "colab": {
          "base_uri": "https://localhost:8080/"
        },
        "id": "izJaFRMswtwA",
        "outputId": "e312e852-aba8-49cd-dfd8-d9085c4d1965"
      },
      "execution_count": 26,
      "outputs": [
        {
          "output_type": "stream",
          "name": "stdout",
          "text": [
            "사과 10개가 있습니다.\n",
            "사과 3개가 있습니다\n",
            "사과 7개가 있습니다\n",
            "저는 4개의 사과가 있습니다\n"
          ]
        }
      ]
    },
    {
      "cell_type": "code",
      "source": [
        "test = \"python is good\"\n",
        "print(\"{0:<20}\".format(test))           #왼쪽정렬\n",
        "print(\"{0:>20}\".format(test))           #오른쪽 정렬\n",
        "print(\"{0:^20}\".format(test))           #가운데 정렬\n",
        "print(\"{0:=^20}\".format(test))          #빈칸 채우기\n",
        "\n",
        "pi = 3.141592\n",
        "print(\"(0.0.4f)\".format(pi))\n",
        "print(\"%d.2f\"%pi)"
      ],
      "metadata": {
        "colab": {
          "base_uri": "https://localhost:8080/"
        },
        "id": "VdpCDuhgxzcJ",
        "outputId": "f34b666d-b346-4830-c8ca-eaed80e31b71"
      },
      "execution_count": 49,
      "outputs": [
        {
          "output_type": "stream",
          "name": "stdout",
          "text": [
            "python is good      \n",
            "      python is good\n",
            "   python is good   \n",
            "===python is good===\n",
            "(0.0.4f)\n",
            "3.2f\n"
          ]
        }
      ]
    },
    {
      "cell_type": "code",
      "source": [
        "name = \"홍길동\"\n",
        "age = 30\n",
        "print(f\"나의 이름은 {name}입니다. 나이는 {age}살 입니다.\")        # 앞에 f를 사용해서 묶어주면 {}를 통해서 포맷팅을 하기 쉬워진다."
      ],
      "metadata": {
        "colab": {
          "base_uri": "https://localhost:8080/"
        },
        "id": "SVdZyYwcyawB",
        "outputId": "6ddb9c73-e9fb-474d-b000-0ea47a741f80"
      },
      "execution_count": 29,
      "outputs": [
        {
          "output_type": "stream",
          "name": "stdout",
          "text": [
            "나의 이름은 홍길동입니다. 나이는 30살 입니다.\n"
          ]
        }
      ]
    },
    {
      "cell_type": "code",
      "source": [
        "a = input(\"내용을 입력해주세요 : \")\n",
        "b = int(input(\"정수를 입력해주세요 : \"))\n",
        "c = float(input(\"실수를 입력해주세요 : \"))\n",
        "\n",
        "print(a)\n",
        "print(b+c)"
      ],
      "metadata": {
        "colab": {
          "base_uri": "https://localhost:8080/"
        },
        "id": "LX3-YfjpyrdR",
        "outputId": "f3cda212-bedd-4d2f-c299-fb28ea6b4a8e"
      },
      "execution_count": 30,
      "outputs": [
        {
          "output_type": "stream",
          "name": "stdout",
          "text": [
            "내용을 입력해주세요 : 히힣\n",
            "정수를 입력해주세요 : 14\n",
            "실수를 입력해주세요 : 48.123\n",
            "히힣\n",
            "62.123\n"
          ]
        }
      ]
    }
  ]
}