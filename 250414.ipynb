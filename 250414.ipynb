{
  "nbformat": 4,
  "nbformat_minor": 0,
  "metadata": {
    "colab": {
      "provenance": []
    },
    "kernelspec": {
      "name": "python3",
      "display_name": "Python 3"
    },
    "language_info": {
      "name": "python"
    }
  },
  "cells": [
    {
      "cell_type": "markdown",
      "source": [
        "# 파일 입출력\n",
        "\n",
        "이제까지 값을 '입력'받을 때는 사용자가 직접 입력하는 방식을 사용하고 '출력'할 때는 모니터 화면에 결괏값을 출력하는 방식을 사용했다.\n",
        "이번에는 파일을 통한 입출력 방법에 대해 알아본다."
      ],
      "metadata": {
        "id": "lXsN56aQnsQy"
      }
    },
    {
      "cell_type": "markdown",
      "source": [
        "## 파일 생성하기\n",
        "\n",
        "- open(파일, 이름, 파일_열기_모드)를 사용한다.\n",
        "- 파일 열기 모드에는 r,w,aㄱ 있다.\n",
        "- 쓰기모드(w)로 열면 파일이 없으면 새로 만들고, 있으면 내용이 지워진다.\n"
      ],
      "metadata": {
        "id": "NUPwexyAn2lB"
      }
    },
    {
      "cell_type": "code",
      "execution_count": null,
      "metadata": {
        "id": "jKElXUbdlK3F"
      },
      "outputs": [],
      "source": [
        "# f = open(파일이름, 파일열기모드(w는 write 쓰기모드 열기))\n",
        "f = open(\"새파일.txt\", 'w')\n",
        "f.colse()"
      ]
    },
    {
      "cell_type": "markdown",
      "source": [
        "- 경로를 적을때는 / 또는 \\ 또는 r''를 사용해야한다."
      ],
      "metadata": {
        "id": "nJ8hRQUkocbK"
      }
    },
    {
      "cell_type": "code",
      "source": [
        "# 다른 디렉토리에 있는 파일을 열 때에는 경로를 직접 지정\n",
        "# 존재하지 않는 디렉토리 지정시, 오류 발생\n",
        "f = open(\"새폴더//새파일.txt\",'w')\n",
        "f.close()"
      ],
      "metadata": {
        "id": "62GFnl-xoj-C"
      },
      "execution_count": null,
      "outputs": []
    },
    {
      "cell_type": "markdown",
      "source": [
        "# 파일을 쓰기 모드로 열어 내용쓰기"
      ],
      "metadata": {
        "id": "H6NeKakMoxLq"
      }
    },
    {
      "cell_type": "code",
      "source": [
        "f = open(\"새파일.txt\", 'w')\n",
        "\n",
        "for i in range(1,11):\n",
        "  data = f\"{i} 번째 줄입니다.\\n\"\n",
        "  f.write(data)\n",
        "\n",
        "f.close()"
      ],
      "metadata": {
        "id": "fYD1jR4JozPZ"
      },
      "execution_count": 31,
      "outputs": []
    },
    {
      "cell_type": "markdown",
      "source": [
        "# 파일을 읽는 여러가지 방법"
      ],
      "metadata": {
        "id": "C51tNtC_psda"
      }
    },
    {
      "cell_type": "markdown",
      "source": [
        "# readline 함수 이용하기\n",
        "\n",
        "- readline()은 한 줄씩 읽는다,\n",
        "- 반복문과 함께 사용 가능하다."
      ],
      "metadata": {
        "id": "gvU-4QBWpw8y"
      }
    },
    {
      "cell_type": "code",
      "source": [
        "f = open(\"새파일.txt\",'w')\n",
        "line = f.readline()\n",
        "print(line)\n",
        "\n",
        "line = f.readline()\n",
        "print(line)\n",
        "\n",
        "line = f.readline()\n",
        "print(line)\n",
        "\n",
        "line = f.readline()\n",
        "print(line)\n",
        "\n",
        "line = f.readline()\n",
        "print(line)\n"
      ],
      "metadata": {
        "colab": {
          "base_uri": "https://localhost:8080/",
          "height": 221
        },
        "id": "UmdgytFdp5Dq",
        "outputId": "f1a839bd-9959-452f-9f3c-93058d5a087b"
      },
      "execution_count": 32,
      "outputs": [
        {
          "output_type": "error",
          "ename": "UnsupportedOperation",
          "evalue": "not readable",
          "traceback": [
            "\u001b[0;31m---------------------------------------------------------------------------\u001b[0m",
            "\u001b[0;31mUnsupportedOperation\u001b[0m                      Traceback (most recent call last)",
            "\u001b[0;32m<ipython-input-32-1de11fd03fbe>\u001b[0m in \u001b[0;36m<cell line: 0>\u001b[0;34m()\u001b[0m\n\u001b[1;32m      1\u001b[0m \u001b[0mf\u001b[0m \u001b[0;34m=\u001b[0m \u001b[0mopen\u001b[0m\u001b[0;34m(\u001b[0m\u001b[0;34m\"새파일.txt\"\u001b[0m\u001b[0;34m,\u001b[0m\u001b[0;34m'w'\u001b[0m\u001b[0;34m)\u001b[0m\u001b[0;34m\u001b[0m\u001b[0;34m\u001b[0m\u001b[0m\n\u001b[0;32m----> 2\u001b[0;31m \u001b[0mline\u001b[0m \u001b[0;34m=\u001b[0m \u001b[0mf\u001b[0m\u001b[0;34m.\u001b[0m\u001b[0mreadline\u001b[0m\u001b[0;34m(\u001b[0m\u001b[0;34m)\u001b[0m\u001b[0;34m\u001b[0m\u001b[0;34m\u001b[0m\u001b[0m\n\u001b[0m\u001b[1;32m      3\u001b[0m \u001b[0mprint\u001b[0m\u001b[0;34m(\u001b[0m\u001b[0mline\u001b[0m\u001b[0;34m)\u001b[0m\u001b[0;34m\u001b[0m\u001b[0;34m\u001b[0m\u001b[0m\n\u001b[1;32m      4\u001b[0m \u001b[0;34m\u001b[0m\u001b[0m\n\u001b[1;32m      5\u001b[0m \u001b[0mline\u001b[0m \u001b[0;34m=\u001b[0m \u001b[0mf\u001b[0m\u001b[0;34m.\u001b[0m\u001b[0mreadline\u001b[0m\u001b[0;34m(\u001b[0m\u001b[0;34m)\u001b[0m\u001b[0;34m\u001b[0m\u001b[0;34m\u001b[0m\u001b[0m\n",
            "\u001b[0;31mUnsupportedOperation\u001b[0m: not readable"
          ]
        }
      ]
    },
    {
      "cell_type": "markdown",
      "source": [
        "# readines 함수 사용하기\n",
        "\n",
        "- readlines() 파일의 모든 줄을 리스트로 반환한다."
      ],
      "metadata": {
        "id": "LyfxCf5BqHli"
      }
    },
    {
      "cell_type": "code",
      "source": [
        "f = open(\"새파일.txt\",'w')\n",
        "lines = f.readlines()\n",
        "\n",
        "for line in lines:\n",
        "  print(line)\n",
        "f.close()"
      ],
      "metadata": {
        "colab": {
          "base_uri": "https://localhost:8080/",
          "height": 221
        },
        "id": "8xTVtphIqNa6",
        "outputId": "04174b64-0682-4586-f42b-83332e2fb245"
      },
      "execution_count": null,
      "outputs": [
        {
          "output_type": "error",
          "ename": "UnsupportedOperation",
          "evalue": "not readable",
          "traceback": [
            "\u001b[0;31m---------------------------------------------------------------------------\u001b[0m",
            "\u001b[0;31mUnsupportedOperation\u001b[0m                      Traceback (most recent call last)",
            "\u001b[0;32m<ipython-input-11-bc9fcfbc3e9c>\u001b[0m in \u001b[0;36m<cell line: 0>\u001b[0;34m()\u001b[0m\n\u001b[1;32m      1\u001b[0m \u001b[0mf\u001b[0m \u001b[0;34m=\u001b[0m \u001b[0mopen\u001b[0m\u001b[0;34m(\u001b[0m\u001b[0;34m\"새파일.txt\"\u001b[0m\u001b[0;34m,\u001b[0m\u001b[0;34m'w'\u001b[0m\u001b[0;34m)\u001b[0m\u001b[0;34m\u001b[0m\u001b[0;34m\u001b[0m\u001b[0m\n\u001b[0;32m----> 2\u001b[0;31m \u001b[0mlines\u001b[0m \u001b[0;34m=\u001b[0m \u001b[0mf\u001b[0m\u001b[0;34m.\u001b[0m\u001b[0mreadlines\u001b[0m\u001b[0;34m(\u001b[0m\u001b[0;34m)\u001b[0m\u001b[0;34m\u001b[0m\u001b[0;34m\u001b[0m\u001b[0m\n\u001b[0m\u001b[1;32m      3\u001b[0m \u001b[0;34m\u001b[0m\u001b[0m\n\u001b[1;32m      4\u001b[0m \u001b[0;32mfor\u001b[0m \u001b[0mline\u001b[0m \u001b[0;32min\u001b[0m \u001b[0mlines\u001b[0m\u001b[0;34m:\u001b[0m\u001b[0;34m\u001b[0m\u001b[0;34m\u001b[0m\u001b[0m\n\u001b[1;32m      5\u001b[0m   \u001b[0mprint\u001b[0m\u001b[0;34m(\u001b[0m\u001b[0mline\u001b[0m\u001b[0;34m)\u001b[0m\u001b[0;34m\u001b[0m\u001b[0;34m\u001b[0m\u001b[0m\n",
            "\u001b[0;31mUnsupportedOperation\u001b[0m: not readable"
          ]
        }
      ]
    },
    {
      "cell_type": "markdown",
      "source": [
        "# read 함수 사용하기\n",
        "\n",
        "- read()는 파일의 전체 내용을 문자열로 반환한다."
      ],
      "metadata": {
        "id": "WePnsS0AqjLD"
      }
    },
    {
      "cell_type": "code",
      "source": [
        "f = open(\"새파일.txt\",'w')\n",
        "data = f.read()\n",
        "print(data)\n",
        "f.close()\n"
      ],
      "metadata": {
        "id": "Hn7AiKvsquIa"
      },
      "execution_count": null,
      "outputs": []
    },
    {
      "cell_type": "markdown",
      "source": [
        "# 파일 객체를 for문과 함께 사용하기\n",
        "\n",
        "- 파일 객체 자체를 for문에 넣으면 자동으로 한 줄 씩 읽는다."
      ],
      "metadata": {
        "id": "7v-hTgDSq2Rj"
      }
    },
    {
      "cell_type": "code",
      "source": [
        "f = open(\"새파일.txt\", 'r')\n",
        "for line in f:\n",
        "  print(line)\n",
        "\n",
        "f.close()\n"
      ],
      "metadata": {
        "id": "681vXoPGq9Ai"
      },
      "execution_count": 47,
      "outputs": []
    },
    {
      "cell_type": "markdown",
      "source": [
        "# 파일에 새로운 내용 추가하기\n",
        "\n",
        "- 'a'모드로 열면 기존 내용 뒤에 추가된다.\n"
      ],
      "metadata": {
        "id": "xQqj3nV4rCiD"
      }
    },
    {
      "cell_type": "code",
      "source": [
        "f = open(\"새파일.txt\", 'a')\n",
        "\n",
        "for i in range(11,20):\n",
        "  data = f\"{i} 번째 줄입니다.\\n\"\n",
        "  f.write(data)\n",
        "\n",
        "f.close()"
      ],
      "metadata": {
        "id": "_w8Svc8arHDi"
      },
      "execution_count": null,
      "outputs": []
    },
    {
      "cell_type": "markdown",
      "source": [
        "# with 문과 함꼐 사용하기\n",
        "\n",
        "- with open()을 사용하면 close()를 따로 호출하지 않아도 된다."
      ],
      "metadata": {
        "id": "PYewP6tHroEb"
      }
    },
    {
      "cell_type": "code",
      "source": [
        "with open(\"too.txt\", 'w') as f:\n",
        "  f.write(\"Life is too short, you need python\")"
      ],
      "metadata": {
        "id": "jeXq2aRzrvD7"
      },
      "execution_count": null,
      "outputs": []
    },
    {
      "cell_type": "markdown",
      "source": [
        "# 4장 연습문제"
      ],
      "metadata": {
        "id": "HdVf3IKYsMh7"
      }
    },
    {
      "cell_type": "markdown",
      "source": [
        "# 01. 홀수, 짝수 판별하기\n",
        "\n",
        "- 주어진 자연수가 홀수인지, 짞수인지 판별해 주는 is_odd를 작성해보자. is_odd 함수는 홀수이면 True, 짝수이면 False를 리턴해야한다."
      ],
      "metadata": {
        "id": "K31PnFppsOyT"
      }
    },
    {
      "cell_type": "code",
      "source": [
        "def is_odd(num):\n",
        "  if num % 2 == 0:\n",
        "    return False\n",
        "  else:\n",
        "    return True\n",
        "\n",
        "\n",
        "\n",
        "is_odd(14)"
      ],
      "metadata": {
        "colab": {
          "base_uri": "https://localhost:8080/"
        },
        "id": "N7BMkl-psf1j",
        "outputId": "46f29b2d-9fe3-45e4-d04c-2528b775bc36"
      },
      "execution_count": null,
      "outputs": [
        {
          "output_type": "execute_result",
          "data": {
            "text/plain": [
              "False"
            ]
          },
          "metadata": {},
          "execution_count": 15
        }
      ]
    },
    {
      "cell_type": "markdown",
      "source": [
        "# 모든수 평균값 계산\n",
        "\n",
        "입력으로 들어오는 모든 수의 평균 값을 계산해 주는 함수를 작성해 보자. (단 입력으로 들어오는 수의 개수는 정해져 있지 않다.)"
      ],
      "metadata": {
        "id": "DKWhnTMTtkVc"
      }
    },
    {
      "cell_type": "code",
      "source": [
        "def avg_numbers(*args):\n",
        "  result = 0\n",
        "  for i in args:\n",
        "    result += i\n",
        "  return result / len(args)\n",
        "\n",
        "avg_numbers(1,2)\n",
        "avg_numbers(1,2,3,4,5)"
      ],
      "metadata": {
        "colab": {
          "base_uri": "https://localhost:8080/"
        },
        "id": "UHiq9tDTtqZj",
        "outputId": "4b6a4eda-1105-453c-f0bc-c8ec40661692"
      },
      "execution_count": 21,
      "outputs": [
        {
          "output_type": "execute_result",
          "data": {
            "text/plain": [
              "3.0"
            ]
          },
          "metadata": {},
          "execution_count": 21
        }
      ]
    },
    {
      "cell_type": "markdown",
      "source": [
        "# 프로그램 오류 수정하기 1\n",
        "\n",
        "다음은 2개의 숫자를 입력받아 더한 후에 리턴하는 프로그램이다.\n",
        "\n",
        "input1 = input(\"첫 번째 숫자를 입력하세요: \")\n",
        "input2 = input(\"두 번째 숫자를 입력하세요: \")\n",
        "\n",
        "total = input1 + input2\n",
        "\n",
        "print(\"두 수의  합은 %s입니다.\" % total)\n",
        "\n",
        "3과 6을 입력했을때 9가 아닌 36이라는 결괏값이 출력되었다. 이 프로그램의 오류를 수정하자."
      ],
      "metadata": {
        "id": "eVw1sbhYzggm"
      }
    },
    {
      "cell_type": "code",
      "source": [
        "input1 = input(\"첫 번째 숫자를 입력하세요: \")\n",
        "input2 = input(\"두 번째 숫자를 입력하세요: \")\n",
        "\n",
        "total = int(input1) + int(input2)\n",
        "\n",
        "print(\"두 수의  합은 %s입니다.\" % total)"
      ],
      "metadata": {
        "id": "6_Dp8vOSwWvn",
        "colab": {
          "base_uri": "https://localhost:8080/"
        },
        "outputId": "7c756b5e-347d-4908-d2af-f9573091917e"
      },
      "execution_count": 22,
      "outputs": [
        {
          "output_type": "stream",
          "name": "stdout",
          "text": [
            "첫 번째 숫자를 입력하세요: 3\n",
            "두 번째 숫자를 입력하세요: 6\n",
            "두 수의  합은 9입니다.\n"
          ]
        }
      ]
    },
    {
      "cell_type": "markdown",
      "source": [
        "# 다음 중 출력 결과가 다른 하나를 골라보자.\n",
        "\n",
        "print(\"you\" \"need\" \"python\")\n",
        "\n",
        "print(\"you\"+\"need\"+\"python\")\n",
        "\n",
        "print(\"you\", \"need\", \"python\")\n",
        "\n",
        "print(\"\".join([\"you\", \"need\", \"python\"]))\n",
        "\n",
        "\n",
        "세번째만 띄어쓰기가 들어간다."
      ],
      "metadata": {
        "id": "X-2Uy4G9z-kN"
      }
    },
    {
      "cell_type": "code",
      "source": [
        "print(\"you\" \"need\" \"python\")\n",
        "\n",
        "print(\"you\"+\"need\"+\"python\")\n",
        "\n",
        "print(\"you\", \"need\", \"python\")\n",
        "\n",
        "print(\"\".join([\"you\", \"need\", \"python\"]))"
      ],
      "metadata": {
        "colab": {
          "base_uri": "https://localhost:8080/"
        },
        "id": "8qG5moRD0LiV",
        "outputId": "43432a2b-4a6a-456c-968a-c3e3b15a708b"
      },
      "execution_count": 23,
      "outputs": [
        {
          "output_type": "stream",
          "name": "stdout",
          "text": [
            "youneedpython\n",
            "youneedpython\n",
            "you need python\n",
            "youneedpython\n"
          ]
        }
      ]
    },
    {
      "cell_type": "markdown",
      "source": [
        "# 프로그램 오류 수정하기2\n",
        "\n",
        "다음은 파일(test.txt)에 \"Life is too short\" 문자열을 저장한 후 다시 그 파일을 읽어 출력하는 프로그램이다.\n",
        "\n",
        "f1 = open(\"test.txt\", 'w')\n",
        "\n",
        "f1.write(\"Life is too short\")\n",
        "\n",
        "f2 = open(\"test.txt\", 'r')\n",
        "\n",
        "print(f2.read())\n",
        "\n",
        "이 프로그램은 우리가 예상한 'Life is too short'라는 문장을 출력하지 않는다. 우리가 예상한 값을 출력 할 수 있도록 프로그램을 수정해 보자"
      ],
      "metadata": {
        "id": "J7IG8-8h0T3-"
      }
    },
    {
      "cell_type": "code",
      "source": [
        "f1 = open(\"test.txt\", 'w')\n",
        "f1.write(\"Life is too short\")\n",
        "f1.close()\n",
        "\n",
        "f2 = open(\"test.txt\", 'r')\n",
        "print(f2.read())\n",
        "f2.close()\n"
      ],
      "metadata": {
        "colab": {
          "base_uri": "https://localhost:8080/"
        },
        "id": "UxxK3sFh0qGF",
        "outputId": "b8616330-51bf-48d3-9c61-be3fbf31a477"
      },
      "execution_count": 24,
      "outputs": [
        {
          "output_type": "stream",
          "name": "stdout",
          "text": [
            "Life is too short\n"
          ]
        }
      ]
    },
    {
      "cell_type": "markdown",
      "source": [
        "# 사용자 입력 저장하기\n",
        "\n",
        "사용자의 입력을 파일(test.txt)에 저장하는 프로그램을 작성해 보자. 단, 프로그램을 다시 실행하더라도 기존에 작성한 내용을 유지하고 새로 입력한 내용을 추가해야한다.\n",
        "\n",
        "user_input = input(\"자정할 내용을 입력하세요: \")\n",
        "\n",
        "f = open('test.txt,     )\n",
        "\n",
        "f.write(user_input)\n",
        "\n",
        "f.write(               )\n",
        "\n",
        "f.close()"
      ],
      "metadata": {
        "id": "nUKnPxfC0tYt"
      }
    },
    {
      "cell_type": "code",
      "source": [
        "user_input = input(\"저장 할 내용을 입력하세요 : \")\n",
        "f = open('test.txt', 'a')\n",
        "f.write(user_input)\n",
        "f.write('\\n')\n",
        "f.close()"
      ],
      "metadata": {
        "colab": {
          "base_uri": "https://localhost:8080/"
        },
        "id": "1j3_7AWr1FHO",
        "outputId": "3b2a68e9-7a1f-45fc-f3fd-743af96f707a"
      },
      "execution_count": 28,
      "outputs": [
        {
          "name": "stdout",
          "output_type": "stream",
          "text": [
            "저장 할 내용을 입력하세요 : 가나다라\n"
          ]
        }
      ]
    },
    {
      "cell_type": "markdown",
      "source": [
        "# 파일의 문자열 바꾸기\n",
        "\n",
        "다음과 같은 내용을 지닌 test.txt가 있다. 이 파일의 내용 중 \"java\"라는 문자열을 \"python\"으로 바꾸어 저장해보자\n",
        "\n",
        "Life is too short\n",
        "\n",
        "you nedd java"
      ],
      "metadata": {
        "id": "pTIVj5_w1pC3"
      }
    },
    {
      "cell_type": "code",
      "source": [
        "f=open('test.txt','r')\n",
        "body = \"Life is too short\\n you need java\"\n",
        "f.close()\n",
        "body = \"Life is too short\\n you need python\"\n",
        "f = open('test.txt', 'w')\n",
        "f.write(body)\n",
        "f.close()"
      ],
      "metadata": {
        "id": "T5S-s6VU10oG"
      },
      "execution_count": 29,
      "outputs": []
    },
    {
      "cell_type": "markdown",
      "source": [
        "#입력값을 모두 더해 출력하기\n",
        "\n",
        "다음과 같이 실행할 떄 입력값을 모두 더해 출력하는 스크립트(C:\\doit\\myargv.py)를 작성해보자"
      ],
      "metadata": {
        "id": "PNesNEJh10ON"
      }
    },
    {
      "cell_type": "code",
      "source": [
        "import sys\n",
        "\n",
        "sum = 0\n",
        "\n",
        "args = sys.argv[1:]\n",
        "for i in args:\n",
        "  sum += int(i)\n",
        "\n",
        "print(sum)"
      ],
      "metadata": {
        "colab": {
          "base_uri": "https://localhost:8080/",
          "height": 110
        },
        "id": "rxIIOg4C20PO",
        "outputId": "6e1e26f3-1ec7-44e1-922e-76ac1a4c0a3f"
      },
      "execution_count": 30,
      "outputs": [
        {
          "output_type": "error",
          "ename": "SyntaxError",
          "evalue": "unexpected character after line continuation character (<ipython-input-30-73bb5750841f>, line 3)",
          "traceback": [
            "\u001b[0;36m  File \u001b[0;32m\"<ipython-input-30-73bb5750841f>\"\u001b[0;36m, line \u001b[0;32m3\u001b[0m\n\u001b[0;31m    c:\\> cd doit\u001b[0m\n\u001b[0m       ^\u001b[0m\n\u001b[0;31mSyntaxError\u001b[0m\u001b[0;31m:\u001b[0m unexpected character after line continuation character\n"
          ]
        }
      ]
    },
    {
      "cell_type": "markdown",
      "source": [
        "# 클래스\n",
        "\n",
        "- 관련 있는 변수(데이터)와 함수(기능)를 하나로 묶은 것\n",
        "- '비슷한 데이터 + 기능'을 묶어서, 프로그램을 더 체계적이고 깔금하게 만드는 도구"
      ],
      "metadata": {
        "id": "V-Czfbji_nkh"
      }
    },
    {
      "cell_type": "markdown",
      "source": [
        "# 클래스는 왜 필요한가?\n",
        "\n",
        "프로그램이 커지거나 복잡해지면, 데이터 관리가 힘들고 오류가 발생하기 쉬움.\n",
        "\n",
        "클래스를 사용하면 서로 독립적인 객체를 만들 수 있고, 깔끔하고 유지보수하기 쉬운 프로그램을 만들 수 있음\n"
      ],
      "metadata": {
        "id": "IVWl6LdK_x8B"
      }
    },
    {
      "cell_type": "markdown",
      "source": [
        "# 계산기 프로그램을 만들며 클래스 알아보기\n",
        "\n",
        "- 전역변수(result)를 사용해서 결과값을 유지하는 방식\n"
      ],
      "metadata": {
        "id": "39Zoy99W_7yZ"
      }
    },
    {
      "cell_type": "code",
      "source": [
        "result = 0\n",
        "\n",
        "def add(num):\n",
        "  global result\n",
        "  result += num\n",
        "  return result\n",
        "\n",
        "print(add(3))\n",
        "print(add(4))"
      ],
      "metadata": {
        "colab": {
          "base_uri": "https://localhost:8080/"
        },
        "id": "DrOK1KjsAHiZ",
        "outputId": "e9f184f7-6fed-4a41-c1d9-1a0d33250633"
      },
      "execution_count": 33,
      "outputs": [
        {
          "output_type": "stream",
          "name": "stdout",
          "text": [
            "3\n",
            "7\n"
          ]
        }
      ]
    },
    {
      "cell_type": "markdown",
      "source": [
        "- 계산기가 2대 이상 필요한 경우, 함수를 여러 개 만들어야 하는 단점이 있다."
      ],
      "metadata": {
        "id": "tP2KbvSZAVuZ"
      }
    },
    {
      "cell_type": "code",
      "source": [
        "result1 = 0\n",
        "result2 = 0\n",
        "\n",
        "def add1(num):\n",
        "  global result1\n",
        "  result1 += num\n",
        "  return result1\n",
        "\n",
        "def add2(num):\n",
        "  global result2\n",
        "  result2 += num\n",
        "  return result2\n",
        "\n",
        "print(add1(3))\n",
        "print(add1(4))\n",
        "\n",
        "print(add2(5))\n",
        "print(add2(6))"
      ],
      "metadata": {
        "colab": {
          "base_uri": "https://localhost:8080/"
        },
        "id": "PJRrNTBiAZJp",
        "outputId": "4b64b755-e88c-4368-86cf-449fe3371a9d"
      },
      "execution_count": 34,
      "outputs": [
        {
          "output_type": "stream",
          "name": "stdout",
          "text": [
            "3\n",
            "7\n",
            "5\n",
            "11\n"
          ]
        }
      ]
    },
    {
      "cell_type": "markdown",
      "source": [
        "# 클래스와 객체\n",
        "\n",
        "- 클래스를 사용하면 객체별로 독립적인 값을 유지할 수 있다."
      ],
      "metadata": {
        "id": "VeWRe2IyAvqx"
      }
    },
    {
      "cell_type": "code",
      "source": [
        "class Calcurator:\n",
        "  def __init__(self):\n",
        "    self.result= 0\n",
        "\n",
        "  def add(self, num):\n",
        "    self.result += num\n",
        "    return self.result\n",
        "\n",
        "cal1 = Calcurator()\n",
        "cal2 = Calcurator()\n",
        "\n",
        "print(cal1.add(3))\n",
        "print(cal1.add(4))\n",
        "print(cal2.add(5))\n",
        "print(cal2.add(6))"
      ],
      "metadata": {
        "colab": {
          "base_uri": "https://localhost:8080/"
        },
        "id": "t0qh9WDPA0Ca",
        "outputId": "c65e4eb4-5b78-42b0-c613-b0ef6485527f"
      },
      "execution_count": 36,
      "outputs": [
        {
          "output_type": "stream",
          "name": "stdout",
          "text": [
            "3\n",
            "7\n",
            "5\n",
            "11\n"
          ]
        }
      ]
    },
    {
      "cell_type": "markdown",
      "source": [
        "# 사칙연산 클래스 만들기"
      ],
      "metadata": {
        "id": "2hnRtIXcBnqi"
      }
    },
    {
      "cell_type": "code",
      "source": [
        "class FourCal:\n",
        "  # 에러 발생을 줄이기 위해, 매개변수를 사잔에 초기화 해놓는 경우가 많다.\n",
        "  def __init__(self, first = 0, second = 0): # 있으면 무조건 실행, 없어도 됨.\n",
        "    self.first = first\n",
        "    self.second = second\n",
        "\n",
        "  def setdata(self, first, second):\n",
        "    self.first = first\n",
        "    self.second = second\n",
        "\n",
        "  def add(self):\n",
        "    return self.first + self.second\n",
        "\n",
        "  def mul(self):\n",
        "    return self.first * self.second\n",
        "\n",
        "  def sub(self):\n",
        "    return self.first - self.second\n",
        "\n",
        "  def div(self):\n",
        "    return self.first / self.second\n",
        "\n",
        "a = FourCal(10, 2)\n",
        "# a.setdata(4,2)\n",
        "print(a.add())\n",
        "print(a.sub())\n",
        "print(a.mul())\n",
        "print(a.div())"
      ],
      "metadata": {
        "colab": {
          "base_uri": "https://localhost:8080/"
        },
        "id": "hG62SrQaBlH0",
        "outputId": "1416cc92-6083-455d-bcec-2bd21e53fb97"
      },
      "execution_count": 39,
      "outputs": [
        {
          "output_type": "stream",
          "name": "stdout",
          "text": [
            "12\n",
            "8\n",
            "20\n",
            "5.0\n"
          ]
        }
      ]
    },
    {
      "cell_type": "markdown",
      "source": [
        "# 생성자\n",
        "\n",
        "-  __init__ 매서드를 생성자(Consructor)라고 부른다\n",
        "- 객체가 생성될 떄 자동으로 호출된다."
      ],
      "metadata": {
        "id": "yTgb5mJlDjsT"
      }
    },
    {
      "cell_type": "code",
      "source": [
        "class FourCal:\n",
        "  def __init__(self, first = 0, second = 0):\n",
        "    self.first = first\n",
        "    self.second = second\n",
        "    print(\"객체 생성\")\n",
        "\n",
        "  def add(self):\n",
        "    return self.first + self.second\n",
        "\n",
        "a = FourCal(4, 2)\n",
        "print(a.add())"
      ],
      "metadata": {
        "colab": {
          "base_uri": "https://localhost:8080/"
        },
        "id": "G1ZZ4VQGDuDS",
        "outputId": "977ee93a-a623-4180-b45d-a63d6cc93e8f"
      },
      "execution_count": 41,
      "outputs": [
        {
          "output_type": "stream",
          "name": "stdout",
          "text": [
            "객체 생성\n",
            "6\n"
          ]
        }
      ]
    },
    {
      "cell_type": "markdown",
      "source": [
        "# 클래스의 상속\n",
        "\n",
        "- 상속받으면 기존 클래스(FourCal)의 기능을 그대로 사용할 수 있다."
      ],
      "metadata": {
        "id": "I7Ao4CLYEEYz"
      }
    },
    {
      "cell_type": "code",
      "source": [
        "class MoreFourCal(FourCal):\n",
        "  def pow(self):\n",
        "    return self.first ** self.second\n",
        "\n",
        "b = MoreFourCal(4, 2)\n",
        "print(b.pow())\n",
        "print(b.add())"
      ],
      "metadata": {
        "colab": {
          "base_uri": "https://localhost:8080/"
        },
        "id": "xMdotyIpEJM_",
        "outputId": "67ae9c8b-4153-4638-a03b-0964a2c66df1"
      },
      "execution_count": 42,
      "outputs": [
        {
          "output_type": "stream",
          "name": "stdout",
          "text": [
            "객체 생성\n",
            "16\n",
            "6\n"
          ]
        }
      ]
    },
    {
      "cell_type": "markdown",
      "source": [
        "# 메서드 오버라이딩\n",
        "\n",
        "- 상속한 후 메서드를 재정의하면 오버라이딩(overriding)이라고 한다."
      ],
      "metadata": {
        "id": "9HRF_w3nFQz7"
      }
    },
    {
      "cell_type": "code",
      "source": [
        "class SaleFourCal(FourCal):\n",
        "  def div(self):\n",
        "    if self.second == 0:\n",
        "      return 0\n",
        "    else:\n",
        "      return self.first / self.second\n",
        "\n",
        "c = SaleFourCal(4,0)\n",
        "print(c.div())\n",
        "\n",
        "d = FourCal(4,2)\n",
        "print(d.div())"
      ],
      "metadata": {
        "colab": {
          "base_uri": "https://localhost:8080/",
          "height": 239
        },
        "id": "5r5j6Za0FYmL",
        "outputId": "5cbc1d63-1940-468c-c389-2da3975560d0"
      },
      "execution_count": 46,
      "outputs": [
        {
          "output_type": "stream",
          "name": "stdout",
          "text": [
            "객체 생성\n",
            "0\n",
            "객체 생성\n"
          ]
        },
        {
          "output_type": "error",
          "ename": "AttributeError",
          "evalue": "'FourCal' object has no attribute 'div'",
          "traceback": [
            "\u001b[0;31m---------------------------------------------------------------------------\u001b[0m",
            "\u001b[0;31mAttributeError\u001b[0m                            Traceback (most recent call last)",
            "\u001b[0;32m<ipython-input-46-1f5c525e1fdd>\u001b[0m in \u001b[0;36m<cell line: 0>\u001b[0;34m()\u001b[0m\n\u001b[1;32m     10\u001b[0m \u001b[0;34m\u001b[0m\u001b[0m\n\u001b[1;32m     11\u001b[0m \u001b[0md\u001b[0m \u001b[0;34m=\u001b[0m \u001b[0mFourCal\u001b[0m\u001b[0;34m(\u001b[0m\u001b[0;36m4\u001b[0m\u001b[0;34m,\u001b[0m\u001b[0;36m2\u001b[0m\u001b[0;34m)\u001b[0m\u001b[0;34m\u001b[0m\u001b[0;34m\u001b[0m\u001b[0m\n\u001b[0;32m---> 12\u001b[0;31m \u001b[0mprint\u001b[0m\u001b[0;34m(\u001b[0m\u001b[0md\u001b[0m\u001b[0;34m.\u001b[0m\u001b[0mdiv\u001b[0m\u001b[0;34m(\u001b[0m\u001b[0;34m)\u001b[0m\u001b[0;34m)\u001b[0m\u001b[0;34m\u001b[0m\u001b[0;34m\u001b[0m\u001b[0m\n\u001b[0m",
            "\u001b[0;31mAttributeError\u001b[0m: 'FourCal' object has no attribute 'div'"
          ]
        }
      ]
    },
    {
      "cell_type": "markdown",
      "source": [
        "# API란 무엇인가?\n",
        "\n",
        "API(Application Programming Interface)는 서로 다른 소프트웨어 시스템 간에 정보를 주고 받거나 기능을 사용할 수 있또록 도와주는 서비스.\n",
        "\n",
        "쉽게 말하면,\"요청하면 필요한 데이터를 보내주는 자동화 시스템\""
      ],
      "metadata": {
        "id": "2gMO0YxqdxqE"
      }
    },
    {
      "cell_type": "markdown",
      "source": [
        "# 이번에 사용할 3개의 API 소개 및 활용 방법\n",
        "\n",
        "1. The Cat API      랜덤 고양이 사진\n",
        "2. Open-Metro API   현재/예보 날씨 데이터\n",
        "3."
      ],
      "metadata": {
        "id": "WGf4zOSieG1b"
      }
    },
    {
      "cell_type": "markdown",
      "source": [
        "# 1. 고양이 사진 API(The Cat API)\n",
        "\n",
        "소개\n",
        "- 전 세계 고양이 사진을 무료로 제공하는 공개 API입니다.\n",
        "- 랜덤 고양이 사진이나, 특정 품종의 고양이 사진도 가져올수 있다."
      ],
      "metadata": {
        "id": "CMnSF4UueVoz"
      }
    },
    {
      "cell_type": "markdown",
      "source": [
        "# 대표 예제 코드"
      ],
      "metadata": {
        "id": "Stgd7W0kfIxD"
      }
    },
    {
      "cell_type": "markdown",
      "source": [
        "# 반환되는 JSON 구조\n",
        "\n",
        "```\n",
        "[\n",
        "   {\n",
        "      \"id\": \"9sp\",\n",
        "      \"url\": \"https://cdn2.thecatapi.com/images/9sp.jpg\",\n",
        "      \"width\": 1024,\n",
        "      \"height\": 768\n",
        "   }\n",
        "]\n",
        "\n",
        "```"
      ],
      "metadata": {
        "id": "SY4CtMvnnboS"
      }
    },
    {
      "cell_type": "code",
      "source": [
        "import requests\n",
        "from IPython.display import Image, display\n",
        "import json\n",
        "\n",
        "url = \"https://api.thecatapi.com/v1/images/search\"\n",
        "response = requests.get(url)\n",
        "data = response.json()\n",
        "cat_url = data[0]['url']\n",
        "print(json.dumps(data, indent=3))\n",
        "\n",
        "print(\"오늘의 고양이 사진\")\n",
        "display(Image(url=cat_url))"
      ],
      "metadata": {
        "colab": {
          "base_uri": "https://localhost:8080/",
          "height": 561
        },
        "id": "EfoEvPlRfKz3",
        "outputId": "c08bee62-ceb3-49e0-d13f-6ba2fe8cfcaf"
      },
      "execution_count": 73,
      "outputs": [
        {
          "output_type": "stream",
          "name": "stdout",
          "text": [
            "[\n",
            "   {\n",
            "      \"id\": \"30t\",\n",
            "      \"url\": \"https://cdn2.thecatapi.com/images/30t.jpg\",\n",
            "      \"width\": 500,\n",
            "      \"height\": 375\n",
            "   }\n",
            "]\n",
            "오늘의 고양이 사진\n"
          ]
        },
        {
          "output_type": "display_data",
          "data": {
            "text/html": [
              "<img src=\"https://cdn2.thecatapi.com/images/30t.jpg\"/>"
            ],
            "text/plain": [
              "<IPython.core.display.Image object>"
            ]
          },
          "metadata": {}
        }
      ]
    },
    {
      "cell_type": "markdown",
      "source": [
        "# 2. 날씨정보 API(Open-Meteo API)\n",
        "\n",
        "소개\n",
        "- 위치(위도, 경도)를 기준으로 현재 날씨, 예보, 기온, 풍속 등 다양한 날씨 정보를 제공합니다.\n",
        "- 무료이며, 인증키 없이 바로 사용할 수 있습니다."
      ],
      "metadata": {
        "id": "qhJIquQ9hfe9"
      }
    },
    {
      "cell_type": "code",
      "source": [
        "import requests\n",
        "from datetime import datetime\n",
        "import json\n",
        "\n",
        "latitude = 37.5665\n",
        "longitude = 126.9780\n",
        "today = datetime.utcnow().date()\n",
        "\n",
        "url = (\n",
        "    f\"https://api.open-meteo.com/v1/forecast?\"\n",
        "    f\"latitude={latitude}&longitude={longitude}\"\n",
        "    f\"&daily=temperature_2m_max,temperature_2m_min&timezone=Asia%2FSeoul\"\n",
        ")\n",
        "\n",
        "response = requests.get(url)\n",
        "data = response.json()\n",
        "print(json.dumps(data, indent=3))\n",
        "\n",
        "dates = data['daily']['time']\n",
        "max_temps = data['daily']['temperature_2m_max']\n",
        "min_temps = data['daily']['temperature_2m_min']\n",
        "for i, date in enumerate(dates):\n",
        "  if date == str(today):\n",
        "    print(f\"오늘({today}) 서울 날씨\")\n",
        "    print(f\"- 최고기온 : {max_temps[i]}℃\")\n",
        "    print(f\"- 최저기온 : {min_temps[i]}℃\")\n",
        "    break"
      ],
      "metadata": {
        "colab": {
          "base_uri": "https://localhost:8080/"
        },
        "id": "nePgalQKhvv8",
        "outputId": "2a279ed8-c4af-40f7-fd8e-4da53def1feb"
      },
      "execution_count": 64,
      "outputs": [
        {
          "output_type": "stream",
          "name": "stdout",
          "text": [
            "{\n",
            "   \"latitude\": 37.55,\n",
            "   \"longitude\": 127.0,\n",
            "   \"generationtime_ms\": 0.05745887756347656,\n",
            "   \"utc_offset_seconds\": 32400,\n",
            "   \"timezone\": \"Asia/Seoul\",\n",
            "   \"timezone_abbreviation\": \"GMT+9\",\n",
            "   \"elevation\": 34.0,\n",
            "   \"daily_units\": {\n",
            "      \"time\": \"iso8601\",\n",
            "      \"temperature_2m_max\": \"\\u00b0C\",\n",
            "      \"temperature_2m_min\": \"\\u00b0C\"\n",
            "   },\n",
            "   \"daily\": {\n",
            "      \"time\": [\n",
            "         \"2025-04-14\",\n",
            "         \"2025-04-15\",\n",
            "         \"2025-04-16\",\n",
            "         \"2025-04-17\",\n",
            "         \"2025-04-18\",\n",
            "         \"2025-04-19\",\n",
            "         \"2025-04-20\"\n",
            "      ],\n",
            "      \"temperature_2m_max\": [\n",
            "         6.2,\n",
            "         13.1,\n",
            "         20.1,\n",
            "         22.3,\n",
            "         18.7,\n",
            "         18.5,\n",
            "         18.6\n",
            "      ],\n",
            "      \"temperature_2m_min\": [\n",
            "         1.9,\n",
            "         1.7,\n",
            "         4.5,\n",
            "         10.7,\n",
            "         10.0,\n",
            "         8.6,\n",
            "         11.3\n",
            "      ]\n",
            "   }\n",
            "}\n",
            "오늘(2025-04-14) 서울 날씨\n",
            "- 최고기온 : 6.2℃\n",
            "- 최저기온 : 1.9℃\n"
          ]
        }
      ]
    },
    {
      "cell_type": "markdown",
      "source": [
        "# 반환되는 JSON 구조\n",
        "\n",
        "```\n",
        "{\n",
        "   \"latitude\": 37.55,\n",
        "   \"longitude\": 127.0,\n",
        "   \"generationtime_ms\": 0.05745887756347656,\n",
        "   \"utc_offset_seconds\": 32400,\n",
        "   \"timezone\": \"Asia/Seoul\",\n",
        "   \"timezone_abbreviation\": \"GMT+9\",\n",
        "   \"elevation\": 34.0,\n",
        "   \"daily_units\": {\n",
        "      \"time\": \"iso8601\",\n",
        "      \"temperature_2m_max\": \"\\u00b0C\",\n",
        "      \"temperature_2m_min\": \"\\u00b0C\"\n",
        "   },\n",
        "   \"daily\": {\n",
        "      \"time\": [\n",
        "         \"2025-04-14\",\n",
        "         \"2025-04-15\",\n",
        "         \"2025-04-16\",\n",
        "         \"2025-04-17\",\n",
        "         \"2025-04-18\",\n",
        "         \"2025-04-19\",\n",
        "         \"2025-04-20\"\n",
        "      ],\n",
        "      \"temperature_2m_max\": [\n",
        "         6.2,\n",
        "         13.1,\n",
        "         20.1,\n",
        "         22.3,\n",
        "         18.7,\n",
        "         18.5,\n",
        "         18.6\n",
        "      ],\n",
        "      \"temperature_2m_min\": [\n",
        "         1.9,\n",
        "         1.7,\n",
        "         4.5,\n",
        "         10.7,\n",
        "         10.0,\n",
        "         8.6,\n",
        "         11.3\n",
        "      ]\n",
        "   }\n",
        "}\n",
        "```"
      ],
      "metadata": {
        "id": "JTfG2Aq3iJws"
      }
    },
    {
      "cell_type": "markdown",
      "source": [
        "# 3. 명언 받기"
      ],
      "metadata": {
        "id": "-gSvWsDXlyu2"
      }
    },
    {
      "cell_type": "code",
      "source": [
        "import requests\n",
        "import json\n",
        "\n",
        "url = \"https://zenquotes.io/api/random\"\n",
        "response = requests.get(url)\n",
        "data = response.json()\n",
        "print(json.dumps(data, indent=3))\n",
        "\n",
        "quote = data[0]['q']\n",
        "author = data[0]['a']\n",
        "\n",
        "print(\"오늘의 명언\")\n",
        "print(f'\"{quote}\" - {author}')"
      ],
      "metadata": {
        "colab": {
          "base_uri": "https://localhost:8080/"
        },
        "id": "8KyFIE6Ol5RV",
        "outputId": "fa31715c-b1c0-4c79-c9b2-3f7d14925efa"
      },
      "execution_count": 63,
      "outputs": [
        {
          "output_type": "stream",
          "name": "stdout",
          "text": [
            "[\n",
            "   {\n",
            "      \"q\": \"Learn to use your emotions to think, not think with your emotions.\",\n",
            "      \"a\": \"Robert Kiyosaki\",\n",
            "      \"h\": \"<blockquote>&ldquo;Learn to use your emotions to think, not think with your emotions.&rdquo; &mdash; <footer>Robert Kiyosaki</footer></blockquote>\"\n",
            "   }\n",
            "]\n",
            "오늘의 명언\n",
            "\"Learn to use your emotions to think, not think with your emotions.\" - Robert Kiyosaki\n"
          ]
        }
      ]
    },
    {
      "cell_type": "markdown",
      "source": [
        "# 반환되는 JSON\n",
        "\n",
        "```\n",
        "[\n",
        "  {\n",
        "      \"q\": \"Learn to use your emotions to think, not think with your emotions.\",\n",
        "      \"a\": \"Robert Kiyosaki\",\n",
        "      \"h\": \"<blockquote>&ldquo;Learn to use your emotions to think, not think with your emotions.&rdquo; &mdash; <footer>Robert Kiyosaki</footer></blockquote>\"\n",
        "  }\n",
        "]\n",
        "```"
      ],
      "metadata": {
        "id": "k3b_a_gxoC5G"
      }
    },
    {
      "cell_type": "markdown",
      "source": [
        "# 아침 루틴 만들기\n",
        "\n",
        "1. 랜덤  고양이 사진 보여주기\n",
        "2. 오늘 서울 날씨 알려주기\n",
        "3. 오늘의 명언 출력하기\n",
        "4. 추가 기능 제공(자율)"
      ],
      "metadata": {
        "id": "y30Mma0Arc0w"
      }
    },
    {
      "cell_type": "code",
      "source": [
        "import requests\n",
        "from IPython.display import Image, display\n",
        "import requests\n",
        "from datetime import datetime\n",
        "\n",
        "class Routine:\n",
        "\n",
        "  def cats():\n",
        "    cat_url = \"https://api.thecatapi.com/v1/images/search\"\n",
        "    cat_response = requests.get(cat_url)\n",
        "    cat_data = cat_response.json()\n",
        "    cat_url = cat_data[0]['url']\n",
        "    print(\"오늘의 고양이 사진\")\n",
        "    display(Image(url=cat_url))\n",
        "\n",
        "\n",
        "  def meteo(latitude,longitude):\n",
        "    today = datetime.utcnow().date()\n",
        "\n",
        "    url = (\n",
        "      f\"https://api.open-meteo.com/v1/forecast?\"\n",
        "      f\"latitude={latitude}&longitude={longitude}\"\n",
        "      f\"&daily=temperature_2m_max,temperature_2m_min&timezone=Asia%2FSeoul\"\n",
        "    )\n",
        "\n",
        "    response = requests.get(url)\n",
        "    data = response.json()\n",
        "\n",
        "    dates = data['daily']['time']\n",
        "    max_temps = data['daily']['temperature_2m_max']\n",
        "    min_temps = data['daily']['temperature_2m_min']\n",
        "    for i, date in enumerate(dates):\n",
        "      if date == str(today):\n",
        "        print(f\"오늘({today}) 날씨\")\n",
        "        print(f\"- 최고기온 : {max_temps[i]}℃\")\n",
        "        print(f\"- 최저기온 : {min_temps[i]}℃\")\n",
        "        break\n",
        "\n",
        "  def quote():\n",
        "    url = \"https://zenquotes.io/api/random\"\n",
        "    response = requests.get(url)\n",
        "    data = response.json()\n",
        "\n",
        "    quote = data[0]['q']\n",
        "    author = data[0]['a']\n",
        "\n",
        "    print(\"오늘의 명언 : \")\n",
        "    print(f'\"{quote}\" - {author}')\n",
        "\n",
        "  def jokes():\n",
        "    joke_url = \"https://official-joke-api.appspot.com/jokes/programming/random\"\n",
        "    joke_response = requests.get(joke_url)\n",
        "    joke_data = joke_response.json()\n",
        "\n",
        "    setup = joke_data[0]['setup']\n",
        "    punchline = joke_data[0]['punchline']\n",
        "\n",
        "    print(\"오늘의 농담 : \")\n",
        "    print(f\"{setup}\\n {punchline}\")\n",
        "\n",
        "\n",
        "routine = Routine\n",
        "\n",
        "routine.cats()\n",
        "routine.meteo(38.895, 77.015)   # 워싱턴의 경도, 위도\n",
        "routine.quote()\n",
        "routine.jokes()\n"
      ],
      "metadata": {
        "colab": {
          "base_uri": "https://localhost:8080/",
          "height": 446
        },
        "id": "_kPy_963rqPQ",
        "outputId": "6cabf34b-fd34-471d-ec0c-aadbccdecee6"
      },
      "execution_count": 20,
      "outputs": [
        {
          "output_type": "stream",
          "name": "stdout",
          "text": [
            "오늘의 고양이 사진\n"
          ]
        },
        {
          "output_type": "display_data",
          "data": {
            "text/html": [
              "<img src=\"https://cdn2.thecatapi.com/images/ar7.gif\"/>"
            ],
            "text/plain": [
              "<IPython.core.display.Image object>"
            ]
          },
          "metadata": {}
        },
        {
          "output_type": "stream",
          "name": "stdout",
          "text": [
            "오늘(2025-04-14) 날씨\n",
            "- 최고기온 : 25.2℃\n",
            "- 최저기온 : 12.3℃\n",
            "오늘의 명언 : \n",
            "\"If you hang out with chickens, you're going to cluck and if you hang out with eagles, you're going to fly.\" - Steve Maraboli\n",
            "오늘의 농담 : \n",
            "Why dot net developers don't wear glasses?\n",
            " Because they see sharp.\n"
          ]
        }
      ]
    }
  ]
}