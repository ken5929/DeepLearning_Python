{
  "nbformat": 4,
  "nbformat_minor": 0,
  "metadata": {
    "colab": {
      "provenance": []
    },
    "kernelspec": {
      "name": "python3",
      "display_name": "Python 3"
    },
    "language_info": {
      "name": "python"
    }
  },
  "cells": [
    {
      "cell_type": "markdown",
      "source": [
        "# **함수 (function)**\n",
        "\n",
        "- 독립적으로 정의되어 호출될 수 있는 코드 블록\n",
        "\n",
        "- 이미 정의된 내장함수 사용 가능\n",
        "\n",
        "- def 키워드를 사용하여 정의\n",
        "\n",
        "- 함수를 호출하면 함수 내부의 코드가 실행\n",
        "\n",
        "- 함수는 '특정 작업'을 수행하는 코드의 묶음\n",
        "\n",
        "- 특정한 기능, 입력값을 가지고, '기능'에 맞는 출력값을 반환"
      ],
      "metadata": {
        "id": "TPAQGegFyogE"
      }
    },
    {
      "cell_type": "code",
      "source": [
        "# def = define: 함수를 정의하다 / 함수명: 소문자로 시작 / (): 매개변수를 받기 위해 사용, 매개변수는 괄호() 안에 작성\n",
        "def say_hello():\n",
        "  print('Hello!')\n",
        "\n",
        "say_hello()"
      ],
      "metadata": {
        "colab": {
          "base_uri": "https://localhost:8080/"
        },
        "id": "HNNlL2TWys9Q",
        "outputId": "76dc4a9c-35a3-4b27-e26d-c8a8720d67e1"
      },
      "execution_count": null,
      "outputs": [
        {
          "output_type": "stream",
          "name": "stdout",
          "text": [
            "Hello!\n"
          ]
        }
      ]
    },
    {
      "cell_type": "markdown",
      "source": [
        "## **매개 변수 (Parameter)**\n",
        "- 함수 정의 시 괄호 안에 적는 변수\n",
        "\n",
        "## **인자 (Argument)**\n",
        "- 함수를 호출할 때 괄호 아에 넣어주는 실제 값"
      ],
      "metadata": {
        "id": "7q0KLClyyxx7"
      }
    },
    {
      "cell_type": "code",
      "source": [
        "# name 매개 변수를 전달받아 'Hello, name'을 출력하는 greet 함수 정의\n",
        "def greet(name):\n",
        "  print(f'Hello, {name}!')\n",
        "\n",
        "# greet 함수 호출, 인자는 '이순신'으로 정의\n",
        "greet('이순신')"
      ],
      "metadata": {
        "colab": {
          "base_uri": "https://localhost:8080/"
        },
        "id": "NSwTTosgy1X-",
        "outputId": "ec3456f9-091b-4292-f7d8-930552e7e14a"
      },
      "execution_count": null,
      "outputs": [
        {
          "output_type": "stream",
          "name": "stdout",
          "text": [
            "Hello, 이순신!\n"
          ]
        }
      ]
    },
    {
      "cell_type": "code",
      "source": [
        "# name 매개 변수를 전달받아 'Hello, name'을 출력하는 greet 함수 정의\n",
        "def greet(name):\n",
        "  print(f'Hello, {name}!')\n",
        "\n",
        "# input으로 name을 입력받아 greet 함수 호출, 인자는 입력받은 name으로 정의\n",
        "name = input('이름을 입력하세요: ')\n",
        "greet(name)"
      ],
      "metadata": {
        "colab": {
          "base_uri": "https://localhost:8080/"
        },
        "id": "6XbGGczUy8gW",
        "outputId": "2d14bb48-fb74-4c1f-b1f1-6e8ee8b6ba75"
      },
      "execution_count": null,
      "outputs": [
        {
          "output_type": "stream",
          "name": "stdout",
          "text": [
            "이름을 입력하세요: 이순신\n",
            "Hello, 이순신!\n"
          ]
        }
      ]
    },
    {
      "cell_type": "code",
      "source": [
        "# a, b를 입력받아서 두 개의 변수를 더해서 출력하는 함수\n",
        "\n",
        "def sum_two():\n",
        "  a = int(input())\n",
        "  b = int(input())\n",
        "\n",
        "  print(f'{a} + {b} = {a + b}')\n",
        "\n",
        "sum_two()"
      ],
      "metadata": {
        "colab": {
          "base_uri": "https://localhost:8080/"
        },
        "id": "gA29DOmoy_2q",
        "outputId": "2dbdf155-38c1-4895-c65d-00fbef668329"
      },
      "execution_count": null,
      "outputs": [
        {
          "output_type": "stream",
          "name": "stdout",
          "text": [
            "15\n",
            "10\n",
            "15 + 10 = 25\n"
          ]
        }
      ]
    },
    {
      "cell_type": "markdown",
      "source": [
        "## **함수의 반환값 (return)**\n",
        "\n",
        "- 함수의 결과를 돌려주도록 만들기 가능\n",
        "\n",
        "- return을 쓰지 않으면 결과를 저장하거나 본문에서 활용 불가"
      ],
      "metadata": {
        "id": "eswC8buhzGkO"
      }
    },
    {
      "cell_type": "code",
      "source": [
        "def add(a, b):\n",
        "  # a + b의 결과 값을 함수 외부로 전달\n",
        "  return a + b\n",
        "\n",
        "# add 함수를 호출하여 반환값을 result 변수에 저장\n",
        "result = add(3, 4)\n",
        "print(result)"
      ],
      "metadata": {
        "colab": {
          "base_uri": "https://localhost:8080/"
        },
        "id": "FsWrvU-3zHcu",
        "outputId": "10ce733f-3ed9-4739-92a2-443a509406fa"
      },
      "execution_count": null,
      "outputs": [
        {
          "output_type": "stream",
          "name": "stdout",
          "text": [
            "7\n"
          ]
        }
      ]
    },
    {
      "cell_type": "markdown",
      "source": [
        "## **함수에서 여러개의 값 반환**\n",
        "\n",
        "- 함수는 한번에 여러 개의 값 반환 가능 (튜플 형태로 반환)"
      ],
      "metadata": {
        "id": "Aw8_4sFbzMnE"
      }
    },
    {
      "cell_type": "code",
      "source": [
        "# 예시: 이름과 나이를 반환하는 함수\n",
        "def get_person():\n",
        "  name = 'Bob'\n",
        "  age = 22\n",
        "\n",
        "  # 여러개의 자료를 쉼표(,)로 이으면, 튜플로 변경되서  하나의 값을 반환\n",
        "  return name, age\n",
        "\n",
        "# 함수의 반환값을 튜플로 받아 각각 사용 가능\n",
        "n, a = get_person()\n",
        "print(n, a) # Bob 22 출력"
      ],
      "metadata": {
        "colab": {
          "base_uri": "https://localhost:8080/"
        },
        "id": "dP_kGQOxzNQK",
        "outputId": "7065ff44-64d1-4673-ba3f-96e31c007af7"
      },
      "execution_count": null,
      "outputs": [
        {
          "output_type": "stream",
          "name": "stdout",
          "text": [
            "Bob 22\n"
          ]
        }
      ]
    },
    {
      "cell_type": "markdown",
      "source": [
        "## **매개 변수 기본값**\n",
        "\n",
        "- 함수 매개 변수의 기본값 지정 가능\n",
        "\n",
        "- 값을 전달하지 않으면 기본값 사용"
      ],
      "metadata": {
        "id": "pANHRHMzzPdk"
      }
    },
    {
      "cell_type": "code",
      "source": [
        "# greet 함수의 매개 변수 name의 기본값을 'Guest'로 설정\n",
        "def greet(name='Guest'):\n",
        "  print(f'Hello, {name}!')\n",
        "\n",
        "# greet 함수 호출 시 인자를 설정하지 않았으므로 기본값인 Guest로 출력\n",
        "greet()\n",
        "# greet 함수 호출 시 인자를 설정하였으므로 기본값을 입력한 Charlie로 덮어씌어 호출\n",
        "greet('Charlie')"
      ],
      "metadata": {
        "colab": {
          "base_uri": "https://localhost:8080/"
        },
        "id": "MxfkM3OyzQwi",
        "outputId": "e56b59b4-aac4-4470-bfb4-98ff0036693c"
      },
      "execution_count": null,
      "outputs": [
        {
          "output_type": "stream",
          "name": "stdout",
          "text": [
            "Hello, Guest!\n",
            "Hello, Charlie!\n"
          ]
        }
      ]
    },
    {
      "cell_type": "markdown",
      "source": [
        "## **키워드 인자**\n",
        "\n",
        "- 함수를 호출할 때 인자 이름을 써서 전달 가능\n",
        "\n",
        "- 순서가 바뀌어도 정확하게 매칭"
      ],
      "metadata": {
        "id": "lDXy-WcPzUgZ"
      }
    },
    {
      "cell_type": "code",
      "source": [
        "def introduce(name, age):\n",
        "  print(f'My name is {name}, and I am {age} years old')\n",
        "\n",
        "# 키워드 인자를 사용하지 않고, 매개변수의 순서대로 입력\n",
        "introduce('이순신', 27)\n",
        "\n",
        "# 매개변수의 순서대로가 아니라 키워드 인자를 이용해 사용\n",
        "introduce(age=20, name='홍길동')"
      ],
      "metadata": {
        "colab": {
          "base_uri": "https://localhost:8080/"
        },
        "id": "YtJ3lyLNzVIk",
        "outputId": "5bd82cba-2099-4e1e-e23c-585ee032490e"
      },
      "execution_count": null,
      "outputs": [
        {
          "output_type": "stream",
          "name": "stdout",
          "text": [
            "My name is 이순신, and I am 27 years old\n",
            "My name is 홍길동, and I am 20 years old\n"
          ]
        }
      ]
    },
    {
      "cell_type": "markdown",
      "source": [
        "## **가변 인자 (args, *kwargs)**\n",
        "\n",
        "- 입력 값 개수가 정해져 있지 않을때 사용"
      ],
      "metadata": {
        "id": "Z1gqF6Jzzal-"
      }
    },
    {
      "cell_type": "code",
      "source": [
        "def show_args(*args):\n",
        "  for arg in args:\n",
        "    print(arg)\n",
        "\n",
        "show_args('apple', 'banana', 'cherry')\n",
        "\n",
        "def show_kargs(**kwargs):\n",
        "  for key, value in kwargs.items():\n",
        "    print(f'{key} : {value}')\n",
        "\n",
        "show_kargs(name='Eve', age=28)"
      ],
      "metadata": {
        "colab": {
          "base_uri": "https://localhost:8080/"
        },
        "id": "2K1_EchEzbt3",
        "outputId": "68cf8df5-ee58-40e7-8ef7-a30b4e46ec6f"
      },
      "execution_count": null,
      "outputs": [
        {
          "output_type": "stream",
          "name": "stdout",
          "text": [
            "apple\n",
            "banana\n",
            "cherry\n",
            "name : Eve\n",
            "age : 28\n"
          ]
        }
      ]
    },
    {
      "cell_type": "markdown",
      "source": [
        "## **메서드 (method)**\n",
        "\n",
        "- 특정 객체에서 호출\n",
        "\n",
        "- 그 객체의 상태를 변경하거나 동작을 수행\n",
        "\n",
        "- 특정 객체 (클래스 인스턴스)에 종속되어 사용\n",
        "\n",
        "- 객체 이름 뒤에 온점(.)을 붙이고 메서드의 이름을 써서 호출\n"
      ],
      "metadata": {
        "id": "fTUnMmJxze9U"
      }
    },
    {
      "cell_type": "markdown",
      "source": [
        "## **함수와 메서드 사용 장점**\n",
        "\n",
        "- 코드 재사용성을 높여 개발 시간을 단축\n",
        "\n",
        "- 코드의 가독성과 유지보수성을 향상\n",
        "\n",
        "- 코드의 복잡성을 줄이고 관리 용이\n",
        "\n",
        "## **함수와 메서드 사용 단점**\n",
        "\n",
        "- 함수와 메서드가 너무 많아지면 코드 관리 어려움 증가\n",
        "\n",
        "- 함수와 메서드의 오류는 전체 프로그램에 영향 가능\n",
        "\n",
        "- 복잡한 함수는 이해하기 어려워지고 디버깅 어려움 가능"
      ],
      "metadata": {
        "id": "bh1KwATRzkDZ"
      }
    },
    {
      "cell_type": "markdown",
      "source": [
        "# **모듈 (module)**\n",
        "\n",
        "- 관련된 함수, 클래스, 변수 등을 정의하고 하나의 파일로 모아 놓은 것\n",
        "\n",
        "- 모듈은 일반적인 하나의 파이썬 파일 (.py)\n",
        "\n",
        "- 다른 파일에서 불러와 사용 가능\n",
        "\n",
        "- 코드를 기능별로 정리하고 재사용성 증가\n"
      ],
      "metadata": {
        "id": "GNhvIFGUzmhf"
      }
    },
    {
      "cell_type": "markdown",
      "source": [
        "## **Random 모듈**\n",
        "\n",
        "- 무작위(랜덤) 값을 생성할 때 사용하는 파이썬 표준 라이브러리\n",
        "\n",
        "- 주로 난수 생성, 무작위 선택, 섞기(shuffling) 등에 사용\n",
        "\n",
        "- import random 명령어를 통해 사용"
      ],
      "metadata": {
        "id": "JewCfAWzzqpD"
      }
    },
    {
      "cell_type": "markdown",
      "source": [
        "**내장 함수**\n",
        "\n",
        "- random.random(): 0 ~ 1 사이 실수 반환\n",
        "\n",
        "- random.randint(a, b): a ~ b 사이 정수 반환\n",
        "\n",
        "- random.choice(seq): 시퀀스에서 하나 선택\n",
        "\n",
        "- random.sample(seq, k): 시퀀스에서 k개 샘플 추출 (중복 없음)\n",
        "\n",
        "- random.shuffle(list): 리스트 섞기\n",
        "\n",
        "- random.seed(value): 난수 고정, 동일한 규칙으로 무작위 수 생성"
      ],
      "metadata": {
        "id": "RB8PjUcazsCX"
      }
    },
    {
      "cell_type": "code",
      "source": [
        "import random\n",
        "\n",
        "print(random.random())\n",
        "print(random.random() * 1000)\n",
        "print(random.randint(0, 1000))\n",
        "\n",
        "list_a = [1, 2, 3, 4, 5, 6, 7, 8, 9, 0]\n",
        "print(random.choice(list_a))\n",
        "\n",
        "text = 'iasdsjkdfnqeyibaskdbasd'\n",
        "print(random.choice(text))\n",
        "\n",
        "print(random.sample(list_a, 3))\n",
        "print(random.sample(list_a, 5))\n",
        "\n",
        "print(list_a)\n",
        "random.shuffle(list_a)\n",
        "print(list_a)\n",
        "\n",
        "random.seed(42)\n",
        "print(random.randint(1, 100))"
      ],
      "metadata": {
        "colab": {
          "base_uri": "https://localhost:8080/"
        },
        "id": "yrMYwK3gzu3Z",
        "outputId": "4f47f595-0f8c-46c3-fcf5-62166d1a0798"
      },
      "execution_count": null,
      "outputs": [
        {
          "output_type": "stream",
          "name": "stdout",
          "text": [
            "0.5736381217882905\n",
            "685.9496149381395\n",
            "138\n",
            "7\n",
            "s\n",
            "[8, 2, 7]\n",
            "[9, 4, 0, 6, 2]\n",
            "[1, 2, 3, 4, 5, 6, 7, 8, 9, 0]\n",
            "[1, 9, 6, 7, 2, 8, 0, 4, 3, 5]\n",
            "82\n"
          ]
        }
      ]
    },
    {
      "cell_type": "markdown",
      "source": [
        "### **문제 1. 가위 바위 보 게임 만들기**\n",
        "\n",
        "요구사항\n",
        "\n",
        "- random 모듈을 사용하여 컴퓨터가 '가위', '바위', '보' 중 무작위로 하나를 선택하게 만든다.\n",
        "\n",
        "- 사용자로부터 '가위', '바위', '보' 중 하나를 입력받는다\n",
        "\n",
        "- 사용자가 입력한 값이 '가위', '바위', '보'가 아닐 경우 '올바른 문자를 입력해주세요'를 출력한다\n",
        "\n",
        "- 사용자와 컴퓨터의 선택을 비교하여 결과를 출력한다\n",
        "\n",
        "  - 사용자의 승리, 패배, 무승부 출력"
      ],
      "metadata": {
        "id": "de-vqbMszyaf"
      }
    },
    {
      "cell_type": "code",
      "source": [
        "import random\n",
        "\n",
        "def match_win_case(user, computer):\n",
        "  win_case = ['가위_보', '바위_가위', '보_바위']\n",
        "\n",
        "  if user + '_' + computer in win_case:\n",
        "    return '승리'\n",
        "  else:\n",
        "    return '패배'\n",
        "\n",
        "\n",
        "while True:\n",
        "  rsp = ['가위', '바위', '보']\n",
        "\n",
        "  user_choice = input('▶ 가위/바위/보 중 하나를 선택해주세요: ')\n",
        "\n",
        "  if user_choice not in rsp:\n",
        "    print('▶ 잘못된 입력입니다. 다시 입력해주세요\\n')\n",
        "  else:\n",
        "    random_choice = ''.join(random.sample(rsp, 1))\n",
        "    result = ''\n",
        "\n",
        "    if user_choice == random_choice:\n",
        "      result = '무승부'\n",
        "    else:\n",
        "      result = match_win_case(user_choice, random_choice)\n",
        "\n",
        "    print(f'▶ 사용자 선택 {user_choice} VS 컴퓨터 선택 {random_choice}이므로, {result}입니다')\n",
        "\n",
        "    break"
      ],
      "metadata": {
        "colab": {
          "base_uri": "https://localhost:8080/"
        },
        "id": "0CTK7GqvzzpT",
        "outputId": "f90d9ba1-3130-44fa-df38-92c180f263a2"
      },
      "execution_count": null,
      "outputs": [
        {
          "output_type": "stream",
          "name": "stdout",
          "text": [
            "▶ 가위/바위/보 중 하나를 선택해주세요: 바위\n",
            "▶ 사용자 선택 바위 VS 컴퓨터 선택 가위이므로, 승리입니다\n"
          ]
        }
      ]
    },
    {
      "cell_type": "markdown",
      "source": [
        "### **문제 2. 로또 번호 추첨기 만들기**\n",
        "\n",
        "요구사항\n",
        "\n",
        "- random 모듈을 사용하여 로또 번호를 생성한다\n",
        "\n",
        "- 로또 번호는 1부터 45 사이의 숫자 중 중복 없이 6개를 뽑는다\n",
        "\n",
        "- 6개의 번호를 오름차순으로 정렬하여 출력한다\n",
        "\n",
        "심화) random.sample() 사용 금지\n",
        "\n",
        "- 보너스 번호 1개를 추가로 뽑아 함께 출력한다\n",
        "  (보너스 번호도 1 ~ 45 범위, 기존 6개 번호와 중복 불가)\n",
        "- 번호를 뽑는 과정을 단계별로 출력하여, 뽑힐 때마다 '현재 뽑힌 번호: [번호 목록]' 형식으로 보여준다\n",
        "- 사용자가 로또 번호를 몇 세트 뽑을지 입력할 수 있게 한다"
      ],
      "metadata": {
        "id": "a_UdYz9Zz8ju"
      }
    },
    {
      "cell_type": "code",
      "source": [
        "import random\n",
        "\n",
        "lotto_list = []\n",
        "\n",
        "while len(lotto_list) < 6:\n",
        "  random_number = random.randint(1, 45)\n",
        "\n",
        "  if random_number not in lotto_list:\n",
        "    lotto_list.append(random_number)\n",
        "\n",
        "lotto_list.sort()\n",
        "print(lotto_list)"
      ],
      "metadata": {
        "colab": {
          "base_uri": "https://localhost:8080/"
        },
        "id": "HrN2vd3Hz-Nr",
        "outputId": "cf412279-abd8-4c89-fcae-4ee44f35d904"
      },
      "execution_count": null,
      "outputs": [
        {
          "output_type": "stream",
          "name": "stdout",
          "text": [
            "[2, 7, 9, 15, 16, 18]\n"
          ]
        }
      ]
    },
    {
      "cell_type": "code",
      "source": [
        "import random\n",
        "\n",
        "def make_lotto_list(times):\n",
        "  for i in range(0, times, 1):\n",
        "    lotto_list = []\n",
        "    bonus_num = 0\n",
        "\n",
        "    print(f'\\n▶ {i+1}번째 세트 추첨을 진행합니다\\n')\n",
        "\n",
        "    while len(lotto_list) < 6:\n",
        "      random_number = random.randint(1, 45)\n",
        "\n",
        "      if random_number not in lotto_list:\n",
        "        lotto_list.append(random_number)\n",
        "        print(f'▶ 현재 뽑힌 번호: {random_number} / 번호 목록: {lotto_list}')\n",
        "\n",
        "    lotto_list.sort()\n",
        "\n",
        "    while True:\n",
        "      random_number = random.randint(1, 45)\n",
        "\n",
        "      if random_number not in lotto_list:\n",
        "        bonus_num = random_number\n",
        "        print(f'▶ 보너스 번호: {random_number} / 번호 목록: {lotto_list} + {bonus_num}')\n",
        "        break\n",
        "\n",
        "\n",
        "    result = ' '.join(map(str, lotto_list))\n",
        "    print(f'▶ 출력된 결과: {result} + {bonus_num}')\n",
        "\n",
        "times = int(input('▶ 원하는 세트 횟수를 입력하세요: '))\n",
        "make_lotto_list(times)"
      ],
      "metadata": {
        "colab": {
          "base_uri": "https://localhost:8080/"
        },
        "id": "PcTGkKyB0DWn",
        "outputId": "6068b341-d91a-4608-8f10-1f5a61ed01d5"
      },
      "execution_count": null,
      "outputs": [
        {
          "output_type": "stream",
          "name": "stdout",
          "text": [
            "▶ 원하는 세트 횟수를 입력하세요: 20\n",
            "\n",
            "▶ 1번째 세트 추첨을 진행합니다\n",
            "\n",
            "▶ 현재 뽑힌 번호: 44 / 번호 목록: [44]\n",
            "▶ 현재 뽑힌 번호: 35 / 번호 목록: [44, 35]\n",
            "▶ 현재 뽑힌 번호: 6 / 번호 목록: [44, 35, 6]\n",
            "▶ 현재 뽑힌 번호: 38 / 번호 목록: [44, 35, 6, 38]\n",
            "▶ 현재 뽑힌 번호: 28 / 번호 목록: [44, 35, 6, 38, 28]\n",
            "▶ 현재 뽑힌 번호: 3 / 번호 목록: [44, 35, 6, 38, 28, 3]\n",
            "▶ 보너스 번호: 2 / 번호 목록: [3, 6, 28, 35, 38, 44] + 2\n",
            "▶ 출력된 결과: 3 6 28 35 38 44 + 2\n",
            "\n",
            "▶ 2번째 세트 추첨을 진행합니다\n",
            "\n",
            "▶ 현재 뽑힌 번호: 6 / 번호 목록: [6]\n",
            "▶ 현재 뽑힌 번호: 14 / 번호 목록: [6, 14]\n",
            "▶ 현재 뽑힌 번호: 15 / 번호 목록: [6, 14, 15]\n",
            "▶ 현재 뽑힌 번호: 33 / 번호 목록: [6, 14, 15, 33]\n",
            "▶ 현재 뽑힌 번호: 39 / 번호 목록: [6, 14, 15, 33, 39]\n",
            "▶ 현재 뽑힌 번호: 2 / 번호 목록: [6, 14, 15, 33, 39, 2]\n",
            "▶ 보너스 번호: 36 / 번호 목록: [2, 6, 14, 15, 33, 39] + 36\n",
            "▶ 출력된 결과: 2 6 14 15 33 39 + 36\n",
            "\n",
            "▶ 3번째 세트 추첨을 진행합니다\n",
            "\n",
            "▶ 현재 뽑힌 번호: 13 / 번호 목록: [13]\n",
            "▶ 현재 뽑힌 번호: 42 / 번호 목록: [13, 42]\n",
            "▶ 현재 뽑힌 번호: 45 / 번호 목록: [13, 42, 45]\n",
            "▶ 현재 뽑힌 번호: 35 / 번호 목록: [13, 42, 45, 35]\n",
            "▶ 현재 뽑힌 번호: 27 / 번호 목록: [13, 42, 45, 35, 27]\n",
            "▶ 현재 뽑힌 번호: 15 / 번호 목록: [13, 42, 45, 35, 27, 15]\n",
            "▶ 보너스 번호: 29 / 번호 목록: [13, 15, 27, 35, 42, 45] + 29\n",
            "▶ 출력된 결과: 13 15 27 35 42 45 + 29\n",
            "\n",
            "▶ 4번째 세트 추첨을 진행합니다\n",
            "\n",
            "▶ 현재 뽑힌 번호: 38 / 번호 목록: [38]\n",
            "▶ 현재 뽑힌 번호: 18 / 번호 목록: [38, 18]\n",
            "▶ 현재 뽑힌 번호: 1 / 번호 목록: [38, 18, 1]\n",
            "▶ 현재 뽑힌 번호: 11 / 번호 목록: [38, 18, 1, 11]\n",
            "▶ 현재 뽑힌 번호: 45 / 번호 목록: [38, 18, 1, 11, 45]\n",
            "▶ 현재 뽑힌 번호: 28 / 번호 목록: [38, 18, 1, 11, 45, 28]\n",
            "▶ 보너스 번호: 22 / 번호 목록: [1, 11, 18, 28, 38, 45] + 22\n",
            "▶ 출력된 결과: 1 11 18 28 38 45 + 22\n",
            "\n",
            "▶ 5번째 세트 추첨을 진행합니다\n",
            "\n",
            "▶ 현재 뽑힌 번호: 18 / 번호 목록: [18]\n",
            "▶ 현재 뽑힌 번호: 10 / 번호 목록: [18, 10]\n",
            "▶ 현재 뽑힌 번호: 14 / 번호 목록: [18, 10, 14]\n",
            "▶ 현재 뽑힌 번호: 22 / 번호 목록: [18, 10, 14, 22]\n",
            "▶ 현재 뽑힌 번호: 7 / 번호 목록: [18, 10, 14, 22, 7]\n",
            "▶ 현재 뽑힌 번호: 6 / 번호 목록: [18, 10, 14, 22, 7, 6]\n",
            "▶ 보너스 번호: 25 / 번호 목록: [6, 7, 10, 14, 18, 22] + 25\n",
            "▶ 출력된 결과: 6 7 10 14 18 22 + 25\n",
            "\n",
            "▶ 6번째 세트 추첨을 진행합니다\n",
            "\n",
            "▶ 현재 뽑힌 번호: 7 / 번호 목록: [7]\n",
            "▶ 현재 뽑힌 번호: 23 / 번호 목록: [7, 23]\n",
            "▶ 현재 뽑힌 번호: 39 / 번호 목록: [7, 23, 39]\n",
            "▶ 현재 뽑힌 번호: 17 / 번호 목록: [7, 23, 39, 17]\n",
            "▶ 현재 뽑힌 번호: 3 / 번호 목록: [7, 23, 39, 17, 3]\n",
            "▶ 현재 뽑힌 번호: 30 / 번호 목록: [7, 23, 39, 17, 3, 30]\n",
            "▶ 보너스 번호: 35 / 번호 목록: [3, 7, 17, 23, 30, 39] + 35\n",
            "▶ 출력된 결과: 3 7 17 23 30 39 + 35\n",
            "\n",
            "▶ 7번째 세트 추첨을 진행합니다\n",
            "\n",
            "▶ 현재 뽑힌 번호: 8 / 번호 목록: [8]\n",
            "▶ 현재 뽑힌 번호: 25 / 번호 목록: [8, 25]\n",
            "▶ 현재 뽑힌 번호: 6 / 번호 목록: [8, 25, 6]\n",
            "▶ 현재 뽑힌 번호: 36 / 번호 목록: [8, 25, 6, 36]\n",
            "▶ 현재 뽑힌 번호: 19 / 번호 목록: [8, 25, 6, 36, 19]\n",
            "▶ 현재 뽑힌 번호: 41 / 번호 목록: [8, 25, 6, 36, 19, 41]\n",
            "▶ 보너스 번호: 40 / 번호 목록: [6, 8, 19, 25, 36, 41] + 40\n",
            "▶ 출력된 결과: 6 8 19 25 36 41 + 40\n",
            "\n",
            "▶ 8번째 세트 추첨을 진행합니다\n",
            "\n",
            "▶ 현재 뽑힌 번호: 24 / 번호 목록: [24]\n",
            "▶ 현재 뽑힌 번호: 37 / 번호 목록: [24, 37]\n",
            "▶ 현재 뽑힌 번호: 13 / 번호 목록: [24, 37, 13]\n",
            "▶ 현재 뽑힌 번호: 5 / 번호 목록: [24, 37, 13, 5]\n",
            "▶ 현재 뽑힌 번호: 3 / 번호 목록: [24, 37, 13, 5, 3]\n",
            "▶ 현재 뽑힌 번호: 43 / 번호 목록: [24, 37, 13, 5, 3, 43]\n",
            "▶ 보너스 번호: 15 / 번호 목록: [3, 5, 13, 24, 37, 43] + 15\n",
            "▶ 출력된 결과: 3 5 13 24 37 43 + 15\n",
            "\n",
            "▶ 9번째 세트 추첨을 진행합니다\n",
            "\n",
            "▶ 현재 뽑힌 번호: 19 / 번호 목록: [19]\n",
            "▶ 현재 뽑힌 번호: 6 / 번호 목록: [19, 6]\n",
            "▶ 현재 뽑힌 번호: 15 / 번호 목록: [19, 6, 15]\n",
            "▶ 현재 뽑힌 번호: 7 / 번호 목록: [19, 6, 15, 7]\n",
            "▶ 현재 뽑힌 번호: 25 / 번호 목록: [19, 6, 15, 7, 25]\n",
            "▶ 현재 뽑힌 번호: 18 / 번호 목록: [19, 6, 15, 7, 25, 18]\n",
            "▶ 보너스 번호: 30 / 번호 목록: [6, 7, 15, 18, 19, 25] + 30\n",
            "▶ 출력된 결과: 6 7 15 18 19 25 + 30\n",
            "\n",
            "▶ 10번째 세트 추첨을 진행합니다\n",
            "\n",
            "▶ 현재 뽑힌 번호: 41 / 번호 목록: [41]\n",
            "▶ 현재 뽑힌 번호: 24 / 번호 목록: [41, 24]\n",
            "▶ 현재 뽑힌 번호: 11 / 번호 목록: [41, 24, 11]\n",
            "▶ 현재 뽑힌 번호: 23 / 번호 목록: [41, 24, 11, 23]\n",
            "▶ 현재 뽑힌 번호: 14 / 번호 목록: [41, 24, 11, 23, 14]\n",
            "▶ 현재 뽑힌 번호: 43 / 번호 목록: [41, 24, 11, 23, 14, 43]\n",
            "▶ 보너스 번호: 18 / 번호 목록: [11, 14, 23, 24, 41, 43] + 18\n",
            "▶ 출력된 결과: 11 14 23 24 41 43 + 18\n",
            "\n",
            "▶ 11번째 세트 추첨을 진행합니다\n",
            "\n",
            "▶ 현재 뽑힌 번호: 45 / 번호 목록: [45]\n",
            "▶ 현재 뽑힌 번호: 44 / 번호 목록: [45, 44]\n",
            "▶ 현재 뽑힌 번호: 42 / 번호 목록: [45, 44, 42]\n",
            "▶ 현재 뽑힌 번호: 5 / 번호 목록: [45, 44, 42, 5]\n",
            "▶ 현재 뽑힌 번호: 39 / 번호 목록: [45, 44, 42, 5, 39]\n",
            "▶ 현재 뽑힌 번호: 41 / 번호 목록: [45, 44, 42, 5, 39, 41]\n",
            "▶ 보너스 번호: 11 / 번호 목록: [5, 39, 41, 42, 44, 45] + 11\n",
            "▶ 출력된 결과: 5 39 41 42 44 45 + 11\n",
            "\n",
            "▶ 12번째 세트 추첨을 진행합니다\n",
            "\n",
            "▶ 현재 뽑힌 번호: 35 / 번호 목록: [35]\n",
            "▶ 현재 뽑힌 번호: 16 / 번호 목록: [35, 16]\n",
            "▶ 현재 뽑힌 번호: 11 / 번호 목록: [35, 16, 11]\n",
            "▶ 현재 뽑힌 번호: 30 / 번호 목록: [35, 16, 11, 30]\n",
            "▶ 현재 뽑힌 번호: 25 / 번호 목록: [35, 16, 11, 30, 25]\n",
            "▶ 현재 뽑힌 번호: 18 / 번호 목록: [35, 16, 11, 30, 25, 18]\n",
            "▶ 보너스 번호: 41 / 번호 목록: [11, 16, 18, 25, 30, 35] + 41\n",
            "▶ 출력된 결과: 11 16 18 25 30 35 + 41\n",
            "\n",
            "▶ 13번째 세트 추첨을 진행합니다\n",
            "\n",
            "▶ 현재 뽑힌 번호: 45 / 번호 목록: [45]\n",
            "▶ 현재 뽑힌 번호: 36 / 번호 목록: [45, 36]\n",
            "▶ 현재 뽑힌 번호: 15 / 번호 목록: [45, 36, 15]\n",
            "▶ 현재 뽑힌 번호: 44 / 번호 목록: [45, 36, 15, 44]\n",
            "▶ 현재 뽑힌 번호: 21 / 번호 목록: [45, 36, 15, 44, 21]\n",
            "▶ 현재 뽑힌 번호: 4 / 번호 목록: [45, 36, 15, 44, 21, 4]\n",
            "▶ 보너스 번호: 3 / 번호 목록: [4, 15, 21, 36, 44, 45] + 3\n",
            "▶ 출력된 결과: 4 15 21 36 44 45 + 3\n",
            "\n",
            "▶ 14번째 세트 추첨을 진행합니다\n",
            "\n",
            "▶ 현재 뽑힌 번호: 21 / 번호 목록: [21]\n",
            "▶ 현재 뽑힌 번호: 26 / 번호 목록: [21, 26]\n",
            "▶ 현재 뽑힌 번호: 18 / 번호 목록: [21, 26, 18]\n",
            "▶ 현재 뽑힌 번호: 5 / 번호 목록: [21, 26, 18, 5]\n",
            "▶ 현재 뽑힌 번호: 14 / 번호 목록: [21, 26, 18, 5, 14]\n",
            "▶ 현재 뽑힌 번호: 37 / 번호 목록: [21, 26, 18, 5, 14, 37]\n",
            "▶ 보너스 번호: 42 / 번호 목록: [5, 14, 18, 21, 26, 37] + 42\n",
            "▶ 출력된 결과: 5 14 18 21 26 37 + 42\n",
            "\n",
            "▶ 15번째 세트 추첨을 진행합니다\n",
            "\n",
            "▶ 현재 뽑힌 번호: 32 / 번호 목록: [32]\n",
            "▶ 현재 뽑힌 번호: 26 / 번호 목록: [32, 26]\n",
            "▶ 현재 뽑힌 번호: 42 / 번호 목록: [32, 26, 42]\n",
            "▶ 현재 뽑힌 번호: 30 / 번호 목록: [32, 26, 42, 30]\n",
            "▶ 현재 뽑힌 번호: 10 / 번호 목록: [32, 26, 42, 30, 10]\n",
            "▶ 현재 뽑힌 번호: 17 / 번호 목록: [32, 26, 42, 30, 10, 17]\n",
            "▶ 보너스 번호: 9 / 번호 목록: [10, 17, 26, 30, 32, 42] + 9\n",
            "▶ 출력된 결과: 10 17 26 30 32 42 + 9\n",
            "\n",
            "▶ 16번째 세트 추첨을 진행합니다\n",
            "\n",
            "▶ 현재 뽑힌 번호: 16 / 번호 목록: [16]\n",
            "▶ 현재 뽑힌 번호: 36 / 번호 목록: [16, 36]\n",
            "▶ 현재 뽑힌 번호: 35 / 번호 목록: [16, 36, 35]\n",
            "▶ 현재 뽑힌 번호: 17 / 번호 목록: [16, 36, 35, 17]\n",
            "▶ 현재 뽑힌 번호: 38 / 번호 목록: [16, 36, 35, 17, 38]\n",
            "▶ 현재 뽑힌 번호: 28 / 번호 목록: [16, 36, 35, 17, 38, 28]\n",
            "▶ 보너스 번호: 26 / 번호 목록: [16, 17, 28, 35, 36, 38] + 26\n",
            "▶ 출력된 결과: 16 17 28 35 36 38 + 26\n",
            "\n",
            "▶ 17번째 세트 추첨을 진행합니다\n",
            "\n",
            "▶ 현재 뽑힌 번호: 24 / 번호 목록: [24]\n",
            "▶ 현재 뽑힌 번호: 15 / 번호 목록: [24, 15]\n",
            "▶ 현재 뽑힌 번호: 9 / 번호 목록: [24, 15, 9]\n",
            "▶ 현재 뽑힌 번호: 33 / 번호 목록: [24, 15, 9, 33]\n",
            "▶ 현재 뽑힌 번호: 32 / 번호 목록: [24, 15, 9, 33, 32]\n",
            "▶ 현재 뽑힌 번호: 6 / 번호 목록: [24, 15, 9, 33, 32, 6]\n",
            "▶ 보너스 번호: 4 / 번호 목록: [6, 9, 15, 24, 32, 33] + 4\n",
            "▶ 출력된 결과: 6 9 15 24 32 33 + 4\n",
            "\n",
            "▶ 18번째 세트 추첨을 진행합니다\n",
            "\n",
            "▶ 현재 뽑힌 번호: 8 / 번호 목록: [8]\n",
            "▶ 현재 뽑힌 번호: 10 / 번호 목록: [8, 10]\n",
            "▶ 현재 뽑힌 번호: 41 / 번호 목록: [8, 10, 41]\n",
            "▶ 현재 뽑힌 번호: 11 / 번호 목록: [8, 10, 41, 11]\n",
            "▶ 현재 뽑힌 번호: 44 / 번호 목록: [8, 10, 41, 11, 44]\n",
            "▶ 현재 뽑힌 번호: 28 / 번호 목록: [8, 10, 41, 11, 44, 28]\n",
            "▶ 보너스 번호: 39 / 번호 목록: [8, 10, 11, 28, 41, 44] + 39\n",
            "▶ 출력된 결과: 8 10 11 28 41 44 + 39\n",
            "\n",
            "▶ 19번째 세트 추첨을 진행합니다\n",
            "\n",
            "▶ 현재 뽑힌 번호: 5 / 번호 목록: [5]\n",
            "▶ 현재 뽑힌 번호: 25 / 번호 목록: [5, 25]\n",
            "▶ 현재 뽑힌 번호: 39 / 번호 목록: [5, 25, 39]\n",
            "▶ 현재 뽑힌 번호: 30 / 번호 목록: [5, 25, 39, 30]\n",
            "▶ 현재 뽑힌 번호: 34 / 번호 목록: [5, 25, 39, 30, 34]\n",
            "▶ 현재 뽑힌 번호: 17 / 번호 목록: [5, 25, 39, 30, 34, 17]\n",
            "▶ 보너스 번호: 36 / 번호 목록: [5, 17, 25, 30, 34, 39] + 36\n",
            "▶ 출력된 결과: 5 17 25 30 34 39 + 36\n",
            "\n",
            "▶ 20번째 세트 추첨을 진행합니다\n",
            "\n",
            "▶ 현재 뽑힌 번호: 1 / 번호 목록: [1]\n",
            "▶ 현재 뽑힌 번호: 44 / 번호 목록: [1, 44]\n",
            "▶ 현재 뽑힌 번호: 8 / 번호 목록: [1, 44, 8]\n",
            "▶ 현재 뽑힌 번호: 35 / 번호 목록: [1, 44, 8, 35]\n",
            "▶ 현재 뽑힌 번호: 18 / 번호 목록: [1, 44, 8, 35, 18]\n",
            "▶ 현재 뽑힌 번호: 42 / 번호 목록: [1, 44, 8, 35, 18, 42]\n",
            "▶ 보너스 번호: 22 / 번호 목록: [1, 8, 18, 35, 42, 44] + 22\n",
            "▶ 출력된 결과: 1 8 18 35 42 44 + 22\n"
          ]
        }
      ]
    },
    {
      "cell_type": "markdown",
      "source": [
        "## **패키지 (package)**\n",
        "\n",
        "- 관련된 여러 모듈(.py)을 하나의 디렉터리로 모아 놓은 것\n",
        "\n",
        "- 패키지 디렉터리에는 ```__init__.py``` 파일이 포함되어 있어야 하며, 이 파일은 해당 디렉터리가 패키지임을 알려줌 (최근에는 필수가 아님)\n",
        "\n",
        "- 패키지를 사용하면 코드의 구조화와 조직화가 용이\n",
        "\n",
        "- 모듈 간의 이름 충돌을 방지"
      ],
      "metadata": {
        "id": "zICVB_eL0HQS"
      }
    },
    {
      "cell_type": "markdown",
      "source": [
        "## 문제 1\n",
        "\n",
        "두 숫자를 입력받아 더한 결과를 반환하는 함수를 작성한다.\n",
        "\n",
        "- 함수 이름: `add_numbers`\n",
        "- 매개변수: 두 개의 숫자\n",
        "- 반환값: 두 숫자의 합\n",
        "\n",
        "### 예시\n",
        "입력: 3, 5  \n",
        "출력: 8\n",
        "\n",
        "### 추가 : 사칙연산 모두 구현\n"
      ],
      "metadata": {
        "id": "XC_5m0cqz2Ee"
      }
    },
    {
      "cell_type": "code",
      "execution_count": null,
      "metadata": {
        "colab": {
          "base_uri": "https://localhost:8080/"
        },
        "id": "0JEgJ-RMygEe",
        "outputId": "e8e6509c-14a2-40e8-b337-ca97428e1f0e"
      },
      "outputs": [
        {
          "output_type": "stream",
          "name": "stdout",
          "text": [
            "덧셈에 사용할 첫번째 숫자를 입력해주세요 : 1\n",
            "덧셈에 사용할 두번째숫자를 입력해주세요 : 2\n",
            "3\n",
            "뺄셈에 사용할 첫번째 숫자를 입력해주세요 : 5\n",
            "뺄셈에 사용할 두번째숫자를 입력해주세요 : 4\n",
            "1\n",
            "곱셈에 사용할 첫번째 숫자를 입력해주세요 : 2\n",
            "곱셈에 사용할 두번째숫자를 입력해주세요 : 4\n",
            "8\n",
            "나눗셈에 사용할 첫번째 숫자를 입력해주세요 : 10\n",
            "나눗셈에 사용할 두번째숫자를 입력해주세요 : 5\n",
            "2.0\n"
          ]
        }
      ],
      "source": [
        "def add_numbers(a, b):\n",
        "  return print(a + b)\n",
        "\n",
        "num1 = int(input(\"덧셈에 사용할 첫번째 숫자를 입력해주세요 : \"))\n",
        "num2 = int(input(\"덧셈에 사용할 두번째숫자를 입력해주세요 : \"))\n",
        "\n",
        "add_numbers(num1, num2)\n",
        "\n",
        "\n",
        "def sub_numbers(a,b):\n",
        "  return print(a - b)\n",
        "\n",
        "num3 = int(input(\"뺄셈에 사용할 첫번째 숫자를 입력해주세요 : \"))\n",
        "num4 = int(input(\"뺄셈에 사용할 두번째숫자를 입력해주세요 : \"))\n",
        "\n",
        "sub_numbers(num3, num4)\n",
        "\n",
        "\n",
        "def mul_numbers(a,b):\n",
        "  return print(a * b)\n",
        "\n",
        "num5 = int(input(\"곱셈에 사용할 첫번째 숫자를 입력해주세요 : \"))\n",
        "num6 = int(input(\"곱셈에 사용할 두번째숫자를 입력해주세요 : \"))\n",
        "\n",
        "mul_numbers(num5, num6)\n",
        "\n",
        "\n",
        "def div_numbers(a,b):\n",
        "  return print(a / b)\n",
        "\n",
        "num7 = int(input(\"나눗셈에 사용할 첫번째 숫자를 입력해주세요 : \"))\n",
        "num8 = int(input(\"나눗셈에 사용할 두번째숫자를 입력해주세요 : \"))\n",
        "\n",
        "div_numbers(num7, num8)\n"
      ]
    },
    {
      "cell_type": "markdown",
      "source": [
        "## 문제 2\n",
        "\n",
        "정수를 입력받아 짝수인지 홀수인지 판별하는 함수를 작성한다.\n",
        "\n",
        "- 함수 이름: `check_even_odd`\n",
        "- 매개변수: 정수 하나\n",
        "- 반환값: 문자열 \"짝수입니다.\" 또는 \"홀수입니다.\"\n",
        "\n",
        "### 예시\n",
        "입력: 4  \n",
        "출력: 짝수입니다.\n",
        "\n",
        "입력: 7  \n",
        "출력: 홀수입니다.\n"
      ],
      "metadata": {
        "id": "2kUXMgNVz_He"
      }
    },
    {
      "cell_type": "code",
      "source": [
        "def check_even_odd(num):\n",
        "  return \"짝수입니다\" if num%2 == 0 else \"홀수입니다\"\n",
        "\n",
        "num = int(input(\"▶ 정수를 입력해주세요: \"))\n",
        "result = check_even_odd(num)\n",
        "print(f'\\n▶ 입력하신 숫자 {num}은 {result}')"
      ],
      "metadata": {
        "id": "-_Z0d5oRz_7-",
        "colab": {
          "base_uri": "https://localhost:8080/"
        },
        "outputId": "2b87b9b1-fb62-4e13-b749-e8e9f95755b9"
      },
      "execution_count": null,
      "outputs": [
        {
          "output_type": "stream",
          "name": "stdout",
          "text": [
            "▶ 정수를 입력해주세요: 5\n",
            "\n",
            "▶ 입력하신 숫자 5은 홀수입니다\n"
          ]
        }
      ]
    },
    {
      "cell_type": "markdown",
      "source": [
        "\n",
        "### 추가 : 짝수 / 홀수 구분하여 리스트에 저장"
      ],
      "metadata": {
        "id": "YJy79JHP0dOw"
      }
    },
    {
      "cell_type": "code",
      "source": [
        "def check_even_odd(numbers_list):\n",
        "  odd_list = []\n",
        "  even_list = []\n",
        "\n",
        "  for num in numbers_list:\n",
        "    if num % 2 == 0:\n",
        "      even_list.append(num)\n",
        "    else:\n",
        "      odd_list.append(num)\n",
        "\n",
        "  return odd_list, even_list\n",
        "\n",
        "numbers_list = []\n",
        "while True:\n",
        "  number = input('▶ 숫자를 입력하세요(숫자가 아닌 값을 입력 시 입력이 종료됩니다): ')\n",
        "\n",
        "  if number.isalpha():\n",
        "    break\n",
        "\n",
        "  numbers_list.append(int(number))\n",
        "\n",
        "odd_list, even_list = check_even_odd(numbers_list)\n",
        "print(f'\\n▶ 입력하신 숫자 리스트 {numbers_list} 중 홀수는 {odd_list}, 짝수는 {even_list}입니다')"
      ],
      "metadata": {
        "colab": {
          "base_uri": "https://localhost:8080/"
        },
        "id": "3Wib1Inr0drQ",
        "outputId": "1a6bc83f-0b6c-41e4-9eeb-265358233c05"
      },
      "execution_count": null,
      "outputs": [
        {
          "output_type": "stream",
          "name": "stdout",
          "text": [
            "▶ 숫자를 입력하세요(숫자가 아닌 값을 입력 시 입력이 종료됩니다): 25\n",
            "▶ 숫자를 입력하세요(숫자가 아닌 값을 입력 시 입력이 종료됩니다): 4\n",
            "▶ 숫자를 입력하세요(숫자가 아닌 값을 입력 시 입력이 종료됩니다): 6\n",
            "▶ 숫자를 입력하세요(숫자가 아닌 값을 입력 시 입력이 종료됩니다): 88\n",
            "▶ 숫자를 입력하세요(숫자가 아닌 값을 입력 시 입력이 종료됩니다): ㅁ\n",
            "\n",
            "▶ 입력하신 숫자 리스트 [25, 4, 6, 88] 중 홀수는 [25], 짝수는 [4, 6, 88]입니다\n"
          ]
        }
      ]
    },
    {
      "cell_type": "markdown",
      "source": [
        "## 문제 3\n",
        "\n",
        "주어진 세 숫자 중 가장 큰 수를 반환하는 함수를 작성한다.\n",
        "\n",
        "- 함수 이름: `max_of_three`\n",
        "- 매개변수: 세 개의 숫자\n",
        "- 반환값: 가장 큰 숫자\n",
        "\n",
        "### 예시\n",
        "입력: 5, 8, 2  \n",
        "출력: 8\n"
      ],
      "metadata": {
        "id": "UEs2FHGV0ATN"
      }
    },
    {
      "cell_type": "code",
      "source": [
        "def max_of_three(num1, num2, num3):\n",
        "  return max(num1, num2, num3)\n",
        "\n",
        "print(max_of_three(5, 8, 2))"
      ],
      "metadata": {
        "id": "Fk9Efik-0B6F",
        "colab": {
          "base_uri": "https://localhost:8080/"
        },
        "outputId": "d8b4c9de-0812-48ec-cc02-bdcb75cd53ad"
      },
      "execution_count": null,
      "outputs": [
        {
          "output_type": "stream",
          "name": "stdout",
          "text": [
            "8\n"
          ]
        }
      ]
    },
    {
      "cell_type": "markdown",
      "source": [
        "\n",
        "### 추가 : 별도의 내장함수 사용하지 않고 구현"
      ],
      "metadata": {
        "id": "vR8o2imo0oOK"
      }
    },
    {
      "cell_type": "code",
      "source": [
        "def max_of_three(num1, num2, num3):\n",
        "  new_list = [num1, num2, num3]\n",
        "\n",
        "  max = 0\n",
        "\n",
        "  for i in range(0, len(new_list), 1):\n",
        "    if max < new_list[i]:\n",
        "      max = new_list[i]\n",
        "\n",
        "  return max\n",
        "\n",
        "print(max_of_three(5, 8, 2))"
      ],
      "metadata": {
        "colab": {
          "base_uri": "https://localhost:8080/"
        },
        "id": "E5fgHjVJ0o3f",
        "outputId": "d1d71fe3-1c09-42fe-c7c5-be4ae3d46c66"
      },
      "execution_count": null,
      "outputs": [
        {
          "output_type": "stream",
          "name": "stdout",
          "text": [
            "8\n"
          ]
        }
      ]
    },
    {
      "cell_type": "markdown",
      "source": [
        "## 문제 4\n",
        "\n",
        "문자열을 입력받아 그 문자열의 길이를 반환하는 함수를 작성한다.\n",
        "\n",
        "- 함수 이름: `string_length`\n",
        "- 매개변수: 문자열 하나\n",
        "- 반환값: 문자열의 길이 (정수형)\n",
        "\n",
        "### 예시\n",
        "입력: \"hello\"  \n",
        "출력: 5\n"
      ],
      "metadata": {
        "id": "O4ky-aS_0CGe"
      }
    },
    {
      "cell_type": "code",
      "source": [
        "def string_length(string):\n",
        "  return len(string)\n",
        "\n",
        "input_string = input('▶ 문자열을 입력하세요: ')\n",
        "result = string_length(input_string)\n",
        "\n",
        "print(f'\\n▶ 입력하신 문자열 {input_string}의 길이는 {result}입니다')"
      ],
      "metadata": {
        "id": "G2olXJNy0D4m",
        "colab": {
          "base_uri": "https://localhost:8080/"
        },
        "outputId": "2fcec6d8-5076-4f90-cc29-4208d698a1fc"
      },
      "execution_count": null,
      "outputs": [
        {
          "output_type": "stream",
          "name": "stdout",
          "text": [
            "▶ 문자열을 입력하세요: hi\n",
            "\n",
            "▶ 입력하신 문자열 hi의 길이는 2입니다\n"
          ]
        }
      ]
    },
    {
      "cell_type": "markdown",
      "source": [
        "\n",
        "### 추가 : 별도의 내장함수 사용하지 않고 구현"
      ],
      "metadata": {
        "id": "qO6pX5NJ0vjq"
      }
    },
    {
      "cell_type": "code",
      "source": [
        "def string_length(string):\n",
        "  count = 0\n",
        "\n",
        "  for char in string:\n",
        "    count += 1\n",
        "\n",
        "  return count\n",
        "\n",
        "input_string = input('▶ 문자열을 입력하세요: ')\n",
        "result = string_length(input_string)\n",
        "\n",
        "print(f'\\n▶ 입력하신 문자열 {input_string}의 길이는 {result}입니다')"
      ],
      "metadata": {
        "colab": {
          "base_uri": "https://localhost:8080/"
        },
        "id": "_tIAZ6gg0v67",
        "outputId": "9ebc9a73-9d61-4f28-a86d-3069ff62284f"
      },
      "execution_count": null,
      "outputs": [
        {
          "output_type": "stream",
          "name": "stdout",
          "text": [
            "▶ 문자열을 입력하세요: hihello\n",
            "\n",
            "▶ 입력하신 문자열 hihello의 길이는 7입니다\n"
          ]
        }
      ]
    },
    {
      "cell_type": "markdown",
      "source": [
        "## 문제 5\n",
        "\n",
        "여러 개의 과목 점수를 입력받아 평균을 반환하는 함수를 작성한다.\n",
        "\n",
        "- 함수 이름: `average_score`\n",
        "- 매개변수: 여러 개의 점수(*args 사용)\n",
        "- 반환값: 평균 점수\n",
        "\n",
        "### 예시\n",
        "입력: 80, 90, 100  \n",
        "출력: 90.0\n"
      ],
      "metadata": {
        "id": "jQJYDKUJ0EBV"
      }
    },
    {
      "cell_type": "code",
      "source": [
        "def average_score(*args):\n",
        "  sum = 0\n",
        "\n",
        "  for score in args:\n",
        "    sum += score\n",
        "\n",
        "  return sum / len(args)\n",
        "\n",
        "result = average_score(77, 92, 95)\n",
        "print(f'평균 점수는 {result}점 입니다')"
      ],
      "metadata": {
        "id": "jZ2I55nt0FlW",
        "colab": {
          "base_uri": "https://localhost:8080/"
        },
        "outputId": "2fa4bc6c-e063-4b63-98d1-fbc4a2a4b315"
      },
      "execution_count": null,
      "outputs": [
        {
          "output_type": "stream",
          "name": "stdout",
          "text": [
            "평균 점수는 88.0점 입니다\n"
          ]
        }
      ]
    },
    {
      "cell_type": "markdown",
      "source": [
        "## 문제 6\n",
        "\n",
        "문자열 리스트를 입력받아, 각 문자열의 길이를 담은 리스트를 반환하는 함수를 작성한다.\n",
        "\n",
        "- 함수 이름: `lengths_of_strings`\n",
        "- 매개변수: 문자열 리스트 하나\n",
        "- 반환값: 정수 리스트\n",
        "\n",
        "### 예시\n",
        "입력: [\"apple\", \"banana\", \"kiwi\"]  \n",
        "출력: [5, 6, 4]\n"
      ],
      "metadata": {
        "id": "TgOApz1K0Fy2"
      }
    },
    {
      "cell_type": "code",
      "source": [
        "def lengths_of_strings(string_list):\n",
        "  list_string_length_list = []\n",
        "\n",
        "  for string in string_list:\n",
        "    list_string_length_list.append(len(string))\n",
        "\n",
        "  return list_string_length_list\n",
        "\n",
        "\n",
        "string_list = []\n",
        "while True:\n",
        "  string = input('▶ 문자열을 입력하세요 (입력 종료를 원할 시 0을 입력하세요): ')\n",
        "\n",
        "  if string == '0':\n",
        "    break;\n",
        "\n",
        "  string_list.append(string)\n",
        "\n",
        "result = lengths_of_strings(string_list)\n",
        "print(f'\\n▶ 입력하신 문자열 배열의 각 문자열의 길이는 {result}입니다')"
      ],
      "metadata": {
        "id": "V_DkIukU0HKO",
        "colab": {
          "base_uri": "https://localhost:8080/"
        },
        "outputId": "8b95f307-e43a-43ed-c8ac-e80b2a38949f"
      },
      "execution_count": null,
      "outputs": [
        {
          "output_type": "stream",
          "name": "stdout",
          "text": [
            "▶ 문자열을 입력하세요 (입력 종료를 원할 시 0을 입력하세요): banana\n",
            "▶ 문자열을 입력하세요 (입력 종료를 원할 시 0을 입력하세요): apple\n",
            "▶ 문자열을 입력하세요 (입력 종료를 원할 시 0을 입력하세요): watermelon\n",
            "▶ 문자열을 입력하세요 (입력 종료를 원할 시 0을 입력하세요): 7\n",
            "▶ 문자열을 입력하세요 (입력 종료를 원할 시 0을 입력하세요): 0\n",
            "\n",
            "▶ 입력하신 문자열 배열의 각 문자열의 길이는 [6, 5, 10, 1]입니다\n"
          ]
        }
      ]
    },
    {
      "cell_type": "markdown",
      "source": [
        "\n",
        "### 추가 : 별도의 내장함수 사용하지 않고 구현"
      ],
      "metadata": {
        "id": "mwEmtNkx1AlX"
      }
    },
    {
      "cell_type": "code",
      "source": [
        "def lengths_of_strings(string_list):\n",
        "  list_string_length_list = []\n",
        "\n",
        "  for string in string_list:\n",
        "    count = 0\n",
        "\n",
        "    for char in string:\n",
        "      count += 1\n",
        "\n",
        "    list_string_length_list.append(count)\n",
        "\n",
        "  return list_string_length_list\n",
        "\n",
        "\n",
        "string_list = []\n",
        "while True:\n",
        "  string = input('▶ 문자열을 입력하세요 (입력 종료를 원할 시 0을 입력하세요): ')\n",
        "\n",
        "  if string == '0':\n",
        "    break;\n",
        "\n",
        "  string_list.append(string)\n",
        "\n",
        "result = lengths_of_strings(string_list)\n",
        "print(f'\\n▶ 입력하신 문자열 배열의 각 문자열의 길이는 {result}입니다')"
      ],
      "metadata": {
        "colab": {
          "base_uri": "https://localhost:8080/"
        },
        "id": "-_qHvKf51BA7",
        "outputId": "b6e48661-18ef-47a2-b8ea-785c02894862"
      },
      "execution_count": null,
      "outputs": [
        {
          "output_type": "stream",
          "name": "stdout",
          "text": [
            "▶ 문자열을 입력하세요 (입력 종료를 원할 시 0을 입력하세요): watermelon\n",
            "▶ 문자열을 입력하세요 (입력 종료를 원할 시 0을 입력하세요): pineapple\n",
            "▶ 문자열을 입력하세요 (입력 종료를 원할 시 0을 입력하세요): 0\n",
            "\n",
            "▶ 입력하신 문자열 배열의 각 문자열의 길이는 [10, 9]입니다\n"
          ]
        }
      ]
    },
    {
      "cell_type": "markdown",
      "source": [
        "## 문제 7\n",
        "\n",
        "문자열을 입력받아, 대문자는 소문자로, 소문자는 대문자로 변환하여 반환하는 함수를 작성한다.\n",
        "\n",
        "- 함수 이름: `swap_case`\n",
        "- 매개변수: 문자열 하나\n",
        "- 반환값: 변환된 문자열\n",
        "\n",
        "### 예시\n",
        "입력: \"HeLLo\"  \n",
        "출력: \"hEllO\"\n"
      ],
      "metadata": {
        "id": "p4S6qTaG0Hh1"
      }
    },
    {
      "cell_type": "code",
      "source": [
        "def swap_case(string):\n",
        "  char_list = []\n",
        "\n",
        "  for char in string:\n",
        "    char_list.append(char.lower() if char.isupper() else char.upper())\n",
        "\n",
        "  return ''.join(char_list)\n",
        "\n",
        "string = input('▶ 문자열을 입력하세요: ')\n",
        "result = swap_case(string)\n",
        "\n",
        "print(f'\\n▶ 입력하신 {string}의 변환 값은 {result}입니다')"
      ],
      "metadata": {
        "id": "wJZr3urM0JTW",
        "colab": {
          "base_uri": "https://localhost:8080/"
        },
        "outputId": "470767c5-c9f7-44a8-868a-b64cb8ca1a5c"
      },
      "execution_count": null,
      "outputs": [
        {
          "output_type": "stream",
          "name": "stdout",
          "text": [
            "▶ 문자열을 입력하세요: WaterMElon\n",
            "\n",
            "▶ 입력하신 WaterMElon의 변환 값은 wATERmeLON입니다\n"
          ]
        }
      ]
    },
    {
      "cell_type": "markdown",
      "source": [
        "## 문제 8\n",
        "\n",
        "숫자 리스트를 입력받아, 0보다 큰 숫자만 골라서 새로운 리스트로 반환하는 함수를 작성한다.\n",
        "\n",
        "- 함수 이름: `filter_positive_numbers`\n",
        "- 매개변수: 숫자 리스트 하나\n",
        "- 반환값: 양수만 담긴 리스트\n",
        "\n",
        "### 예시\n",
        "입력: [-2, 0, 5, 9, -1]  \n",
        "출력: [5, 9]\n"
      ],
      "metadata": {
        "id": "0UoV26R00Jlu"
      }
    },
    {
      "cell_type": "code",
      "source": [
        "def filter_positive_numbers(numbers_list):\n",
        "  new_numbers_list = []\n",
        "\n",
        "  for number in numbers_list:\n",
        "    if number > 0:\n",
        "      new_numbers_list.append(number)\n",
        "\n",
        "  return new_numbers_list\n",
        "\n",
        "numbers_list = []\n",
        "while True:\n",
        "  number = input('▶ 숫자를 입력하세요(숫자가 아닌 값을 입력 시 입력이 종료됩니다): ')\n",
        "\n",
        "  if number.isalpha():\n",
        "    break\n",
        "\n",
        "  numbers_list.append(int(number))\n",
        "\n",
        "result = filter_positive_numbers(numbers_list)\n",
        "print(f'\\n▶ 입력하신 {numbers_list}에서 0보다 큰 숫자만 남긴 값은 {result}입니다')"
      ],
      "metadata": {
        "id": "M8GR4Gok0LGu",
        "colab": {
          "base_uri": "https://localhost:8080/"
        },
        "outputId": "b93be938-f7cc-443b-c262-6fab3d0d76df"
      },
      "execution_count": null,
      "outputs": [
        {
          "output_type": "stream",
          "name": "stdout",
          "text": [
            "▶ 숫자를 입력하세요(숫자가 아닌 값을 입력 시 입력이 종료됩니다): -9\n",
            "▶ 숫자를 입력하세요(숫자가 아닌 값을 입력 시 입력이 종료됩니다): 5\n",
            "▶ 숫자를 입력하세요(숫자가 아닌 값을 입력 시 입력이 종료됩니다): 4\n",
            "▶ 숫자를 입력하세요(숫자가 아닌 값을 입력 시 입력이 종료됩니다): 7\n",
            "▶ 숫자를 입력하세요(숫자가 아닌 값을 입력 시 입력이 종료됩니다): -4\n",
            "▶ 숫자를 입력하세요(숫자가 아닌 값을 입력 시 입력이 종료됩니다): -9\n",
            "▶ 숫자를 입력하세요(숫자가 아닌 값을 입력 시 입력이 종료됩니다): exit\n",
            "\n",
            "▶ 입력하신 [-9, 5, 4, 7, -4, -9]에서 0보다 큰 숫자만 남긴 값은 [5, 4, 7]입니다\n"
          ]
        }
      ]
    },
    {
      "cell_type": "markdown",
      "source": [
        "## 문제 9\n",
        "\n",
        "문자열을 입력받아, 단어별로 분리한 리스트를 반환하는 함수를 작성한다.\n",
        "\n",
        "- 함수 이름: `split_into_words`\n",
        "- 매개변수: 문자열 하나\n",
        "- 반환값: 단어 리스트\n",
        "\n",
        "### 예시\n",
        "입력: \"Python is fun\"  \n",
        "출력: [\"Python\", \"is\", \"fun\"]\n"
      ],
      "metadata": {
        "id": "57xIcr_a0LW2"
      }
    },
    {
      "cell_type": "code",
      "source": [
        "def split_into_words(string):\n",
        "  return string.split(' ')\n",
        "\n",
        "string = input('▶ 문자열을 입력하세요: ')\n",
        "result = split_into_words(string)\n",
        "\n",
        "print(f'▶ 입력하신 문자열 {string}을 단어별로 분리한 리스트는 {result}입니다')"
      ],
      "metadata": {
        "id": "dBUjdGYc0M_9",
        "colab": {
          "base_uri": "https://localhost:8080/"
        },
        "outputId": "bdbe1c4a-1c4d-46d5-ebb6-90073f3bde6f"
      },
      "execution_count": null,
      "outputs": [
        {
          "output_type": "stream",
          "name": "stdout",
          "text": [
            "▶ 문자열을 입력하세요: Python is FUN\n",
            "▶ 입력하신 문자열 Python is FUN을 단어별로 분리한 리스트는 ['Python', 'is', 'FUN']입니다\n"
          ]
        }
      ]
    },
    {
      "cell_type": "markdown",
      "source": [
        "\n",
        "### 추가 : 별도의 내장함수 사용하지 않고 구현"
      ],
      "metadata": {
        "id": "NaLekD8c1XQ5"
      }
    },
    {
      "cell_type": "code",
      "source": [
        "def split_into_words(string):\n",
        "  start = 0\n",
        "  new_list = []\n",
        "\n",
        "  for i in range(0, len(string), 1):\n",
        "    if string[i] == ' ':\n",
        "      new_list.append(string[start:i])\n",
        "      start = i+1\n",
        "\n",
        "    if i == len(string)-1:\n",
        "      new_list.append(string[start:i+1])\n",
        "\n",
        "  return new_list\n",
        "\n",
        "\n",
        "string = input('▶ 문자열을 입력하세요: ')\n",
        "result = split_into_words(string)\n",
        "\n",
        "print(f'▶ 입력하신 문자열 {string}을 단어별로 분리한 리스트는 {result}입니다')"
      ],
      "metadata": {
        "colab": {
          "base_uri": "https://localhost:8080/"
        },
        "id": "udIgClOU1XpC",
        "outputId": "93a000e3-6f9f-4347-e4a1-11572fd9f2fc"
      },
      "execution_count": null,
      "outputs": [
        {
          "output_type": "stream",
          "name": "stdout",
          "text": [
            "▶ 문자열을 입력하세요: PYthon IS FUN\n",
            "▶ 입력하신 문자열 PYthon IS FUN을 단어별로 분리한 리스트는 ['PYthon', 'IS', 'FUN']입니다\n"
          ]
        }
      ]
    },
    {
      "cell_type": "markdown",
      "source": [
        "## 문제 10\n",
        "\n",
        "문자열과 부분 문자열을 입력받아, 부분 문자열이 몇 번 등장하는지 세는 함수를 작성한다.\n",
        "\n",
        "- 함수 이름: `count_substring`\n",
        "- 매개변수: 문자열 하나, 부분 문자열 하나\n",
        "- 반환값: 등장 횟수 (정수형)\n",
        "\n",
        "### 예시\n",
        "입력: (\"banana\", \"na\")  \n",
        "출력: 2\n"
      ],
      "metadata": {
        "id": "vcnaypiw0NJF"
      }
    },
    {
      "cell_type": "code",
      "source": [
        "def count_substring(string, keyword):\n",
        "  count = 0\n",
        "\n",
        "  for i in range(0, len(string), 1):\n",
        "    word = string[i:i+len(keyword)]\n",
        "\n",
        "    if word == keyword:\n",
        "      count += 1\n",
        "\n",
        "  return count\n",
        "\n",
        "count_substring('banaanaaa', 'naaa')"
      ],
      "metadata": {
        "id": "rdCJ_9Xw0PLW",
        "colab": {
          "base_uri": "https://localhost:8080/"
        },
        "outputId": "70a3d90e-ecc6-4665-cac5-dc52cb66d576"
      },
      "execution_count": null,
      "outputs": [
        {
          "output_type": "execute_result",
          "data": {
            "text/plain": [
              "1"
            ]
          },
          "metadata": {},
          "execution_count": 30
        }
      ]
    },
    {
      "cell_type": "markdown",
      "source": [
        "## 문제 11\n",
        "\n",
        "정수 리스트를 입력받아, 리스트 안에서 중복된 숫자만 모아 리스트로 반환하는 함수를 작성한다.\n",
        "\n",
        "- 함수 이름: `find_duplicates`\n",
        "- 매개변수: 숫자 리스트 하나\n",
        "- 반환값: 중복 숫자 리스트\n",
        "\n",
        "### 예시\n",
        "입력: [1, 2, 3, 2, 4, 1]  \n",
        "출력: [1, 2]\n"
      ],
      "metadata": {
        "id": "UDZpOk-m0PZt"
      }
    },
    {
      "cell_type": "code",
      "source": [
        "def find_duplicates(numbers_list):\n",
        "  new_number_dictionary = {}\n",
        "  new_numbers_list = []\n",
        "\n",
        "  for number in numbers_list:\n",
        "    if number in new_number_dictionary:\n",
        "      new_number_dictionary[number] = new_number_dictionary.get(number) + 1\n",
        "    else:\n",
        "      new_number_dictionary[number] = 1\n",
        "\n",
        "  for key, value in new_number_dictionary.items():\n",
        "    if value >= 2:\n",
        "      new_numbers_list.append(key)\n",
        "\n",
        "  return new_numbers_list\n",
        "\n",
        "\n",
        "numbers_list = []\n",
        "while True:\n",
        "  number = input('▶ 숫자를 입력하세요(숫자가 아닌 값을 입력 시 입력이 종료됩니다): ')\n",
        "\n",
        "  if number.isalpha():\n",
        "    break\n",
        "\n",
        "  numbers_list.append(int(number))\n",
        "\n",
        "result = find_duplicates(numbers_list)\n",
        "print(f'\\n▶ 입력하신 {numbers_list}에서 중복된 숫자만 남긴 값은 {result}입니다')"
      ],
      "metadata": {
        "id": "lA8cHz_V0Qi2",
        "colab": {
          "base_uri": "https://localhost:8080/"
        },
        "outputId": "e28da452-a845-421b-8230-fecafab0e50f"
      },
      "execution_count": null,
      "outputs": [
        {
          "output_type": "stream",
          "name": "stdout",
          "text": [
            "▶ 숫자를 입력하세요(숫자가 아닌 값을 입력 시 입력이 종료됩니다): 1\n",
            "▶ 숫자를 입력하세요(숫자가 아닌 값을 입력 시 입력이 종료됩니다): 2\n",
            "▶ 숫자를 입력하세요(숫자가 아닌 값을 입력 시 입력이 종료됩니다): 2\n",
            "▶ 숫자를 입력하세요(숫자가 아닌 값을 입력 시 입력이 종료됩니다): 3\n",
            "▶ 숫자를 입력하세요(숫자가 아닌 값을 입력 시 입력이 종료됩니다): 4\n",
            "▶ 숫자를 입력하세요(숫자가 아닌 값을 입력 시 입력이 종료됩니다): 4\n",
            "▶ 숫자를 입력하세요(숫자가 아닌 값을 입력 시 입력이 종료됩니다): 9\n",
            "▶ 숫자를 입력하세요(숫자가 아닌 값을 입력 시 입력이 종료됩니다): 9\n",
            "▶ 숫자를 입력하세요(숫자가 아닌 값을 입력 시 입력이 종료됩니다): a\n",
            "\n",
            "▶ 입력하신 [1, 2, 2, 3, 4, 4, 9, 9]에서 중복된 숫자만 남긴 값은 [2, 4, 9]입니다\n"
          ]
        }
      ]
    },
    {
      "cell_type": "markdown",
      "source": [
        "## 문제 12\n",
        "\n",
        "두 개의 문자열을 입력받아, 두 문자열이 아나그램인지 판별하는 함수를 작성한다.\n",
        "\n",
        "아나그램: 같은 알파벳을 사용해서 순서만 바꾼 단어\n",
        "- 함수 이름: `is_anagram`\n",
        "- 매개변수: 문자열 두 개\n",
        "- 반환값: True 또는 False\n",
        "\n",
        "### 예시\n",
        "입력: (\"listen\", \"silent\")  \n",
        "출력: True\n",
        "\n",
        "입력: (\"hello\", \"world\")  \n",
        "출력: False\n"
      ],
      "metadata": {
        "id": "yf8oNHXA0QzN"
      }
    },
    {
      "cell_type": "code",
      "source": [
        "def is_anagram(string_1, string_2):\n",
        "  if sorted(list(string_1)) == sorted(list(string_2)):\n",
        "    return True\n",
        "  else:\n",
        "    return False\n",
        "\n",
        "string_1 = input('▶ 첫번째 문자열을 입력하세요: ')\n",
        "string_2 = input('▶ 두번째 문자열을 입력하세요: ')\n",
        "\n",
        "result = is_anagram(string_1, string_2)\n",
        "print(f'\\n▶ 두 단어의 아나그램 일치 여부는 {result}입니다')"
      ],
      "metadata": {
        "id": "NkeizG7f0SW2",
        "colab": {
          "base_uri": "https://localhost:8080/"
        },
        "outputId": "97ea5c01-a1c3-425a-dbdd-9e7596aed3e4"
      },
      "execution_count": null,
      "outputs": [
        {
          "output_type": "stream",
          "name": "stdout",
          "text": [
            "▶ 첫번째 문자열을 입력하세요: good\n",
            "▶ 두번째 문자열을 입력하세요: morning\n",
            "\n",
            "▶ 두 단어의 아나그램 일치 여부는 False입니다\n"
          ]
        }
      ]
    }
  ]
}