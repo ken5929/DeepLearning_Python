{
  "nbformat": 4,
  "nbformat_minor": 0,
  "metadata": {
    "colab": {
      "provenance": []
    },
    "kernelspec": {
      "name": "python3",
      "display_name": "Python 3"
    },
    "language_info": {
      "name": "python"
    }
  },
  "cells": [
    {
      "cell_type": "markdown",
      "source": [
        "# 반복문\n",
        "\n",
        "특정 코드를 여러번 실행"
      ],
      "metadata": {
        "id": "WLuuangihhCn"
      }
    },
    {
      "cell_type": "markdown",
      "source": [
        "# While 문\n",
        "\n",
        "주어진 조건이 참인 동안 코드를 반복적으로 실행하는 조건문\n",
        "\n",
        "while 조건:\n",
        "\n",
        "  조건이 참인 경우 실행하는 문장\n",
        "  \n",
        "  조건이 참인 경우 실행되는 문장"
      ],
      "metadata": {
        "id": "Q7dbmcGfhmKG"
      }
    },
    {
      "cell_type": "code",
      "execution_count": 1,
      "metadata": {
        "colab": {
          "base_uri": "https://localhost:8080/"
        },
        "id": "J_wLDaL9g8DG",
        "outputId": "46888868-440e-4a2f-b834-92884f4578d1"
      },
      "outputs": [
        {
          "output_type": "stream",
          "name": "stdout",
          "text": [
            "1\n",
            "2\n",
            "3\n",
            "4\n",
            "5\n",
            "while 문이 종료된 후 num은 6 입니다.\n"
          ]
        }
      ],
      "source": [
        "# while문 외부에서 조건을 위한 변수 선언\n",
        "num = 1\n",
        "\n",
        "# while 조건 :\n",
        "while num <= 5:\n",
        "  # 조건이 참인 경우에 실행되는 문장\n",
        "  print(num)\n",
        "  # 조건을 변경시키는 문장을 항상 while문 내부에 포함시켜야 함.\n",
        "  num += 1    # num = num + 1\n",
        "\n",
        "print(\"while 문이 종료된 후 num은 %d 입니다.\" %num)"
      ]
    },
    {
      "cell_type": "code",
      "source": [
        "# 무한 루프\n",
        "while True:\n",
        "  print(\"안녕하세요\")\n",
        "\n",
        "while False:\n",
        "  print(\"거짓이라서 실행이 안되요.\")"
      ],
      "metadata": {
        "id": "yM_L-PiPkJr4"
      },
      "execution_count": null,
      "outputs": []
    },
    {
      "cell_type": "markdown",
      "source": [
        "# Break 문\n",
        "\n",
        "while문을 조건과 관계없이 강제로 탈출하는 명령어"
      ],
      "metadata": {
        "id": "a-YSqUQ0kV4I"
      }
    },
    {
      "cell_type": "code",
      "source": [
        "while True:\n",
        "  print(\"안녕하세요\")\n",
        "  break"
      ],
      "metadata": {
        "colab": {
          "base_uri": "https://localhost:8080/"
        },
        "id": "70KIoYykkbu3",
        "outputId": "2f710ba9-69a9-4f5d-bbe6-5c528af825ad"
      },
      "execution_count": 2,
      "outputs": [
        {
          "output_type": "stream",
          "name": "stdout",
          "text": [
            "안녕하세요\n"
          ]
        }
      ]
    },
    {
      "cell_type": "code",
      "source": [
        "num = 1\n",
        "\n",
        "while True:\n",
        "  print(num)\n",
        "  num += 1\n",
        "\n",
        "  if num > 5:\n",
        "    break"
      ],
      "metadata": {
        "colab": {
          "base_uri": "https://localhost:8080/"
        },
        "id": "z6ZQvGeIktRo",
        "outputId": "493ac54e-e089-43f2-fcf8-4818034035c9"
      },
      "execution_count": 3,
      "outputs": [
        {
          "output_type": "stream",
          "name": "stdout",
          "text": [
            "1\n",
            "2\n",
            "3\n",
            "4\n",
            "5\n"
          ]
        }
      ]
    },
    {
      "cell_type": "markdown",
      "source": [
        "# CONTINUE 명령어\n",
        "\n",
        "while 문을 continue 아래의 문장을 무시하고 다름 루프로 실행시키는 코드\n",
        "== continue를 만나는 순간 즉시 조건을 검색하러 간다"
      ],
      "metadata": {
        "id": "S81S4Qg6lkhJ"
      }
    },
    {
      "cell_type": "code",
      "source": [
        "num = 0\n",
        "\n",
        "while num <= 10:\n",
        "  num += 1\n",
        "\n",
        "  if num < 5:\n",
        "    continue\n",
        "\n",
        "  print(num)\n",
        "\n",
        "\n",
        "# 1 : num = 0, num = num + 1 continue\n",
        "# 2 : num = 1, num = num + 1 continue\n",
        "# 3 : num = 2, num = num + 1 continue\n",
        "# 4 : num = 3, num = num + 1 continue\n",
        "# 5 : num = 4, num = num + 1 continue\n",
        "# 6 : num = 5, num = num + 1 if 조건 만족 안함. print(num)\n",
        "# 7 : num = 6, num = num + 1 if 조건 만족 안함. print(num)\n",
        "# 8 : num = 7, num = num + 1 if 조건 만족 안함. print(num)\n",
        "# 9 : num = 8, num = num + 1 if 조건 만족 안함. print(num)\n",
        "# 10 : num = 9, num = num + 1 if 조건 만족 안함. print(num)\n",
        "# 11 : num = 10, num = num + 1 if 조건 만족 안함. print(num)\n",
        "# 12 : num = 11, while문 조건 충족 안함. 종료."
      ],
      "metadata": {
        "colab": {
          "base_uri": "https://localhost:8080/"
        },
        "id": "LftaqjBRlqpu",
        "outputId": "0c67d82e-815e-464d-ec00-81bfabb6e064"
      },
      "execution_count": 4,
      "outputs": [
        {
          "output_type": "stream",
          "name": "stdout",
          "text": [
            "5\n",
            "6\n",
            "7\n",
            "8\n",
            "9\n",
            "10\n",
            "11\n"
          ]
        }
      ]
    },
    {
      "cell_type": "markdown",
      "source": [
        "# n보다 작거나 같은 3의 배수 합 구하기\n",
        "\n",
        "\n",
        "\n",
        "*   사용자로부터 정수 n을 입력받는다.\n",
        "*   while 반복문을 사용하여 1부터 n까지의 숫자 중 3의 배수만 더한 합계를 출력한다.\n",
        "\n"
      ],
      "metadata": {
        "id": "B2SDmf3Um9U5"
      }
    },
    {
      "cell_type": "code",
      "source": [
        "a = int(input(\"숫자를 입력해주세요 : \"))\n",
        "\n",
        "num = 1\n",
        "sum = 0\n",
        "\n",
        "while num < a:\n",
        "  if num % 3 ==0 :\n",
        "    sum += num\n",
        "  num += 1\n",
        "\n",
        "print(\"1부터 %d까지의 3의배수들의 합은 %d 입니다.\" %(a, sum))"
      ],
      "metadata": {
        "colab": {
          "base_uri": "https://localhost:8080/"
        },
        "id": "9md0nc3SnLY_",
        "outputId": "64c89896-c02f-43b8-ad40-2946cd468050"
      },
      "execution_count": 18,
      "outputs": [
        {
          "output_type": "stream",
          "name": "stdout",
          "text": [
            "숫자를 입력해주세요 : 8\n",
            "1부터 8 까지의 3의배수들의 합은 9 입니다.\n"
          ]
        }
      ]
    },
    {
      "cell_type": "markdown",
      "source": [
        "# 1부터 입력한 수까지 홀수만 출력하되, 100보다 크면 종료하는 예제\n",
        "\n",
        "\n",
        "\n",
        "*   사용자로부터 정수 n을 입력받는다.\n",
        "*   while 반복문을 사용하여 1부터 n까지의 숫자 중 홀수만 출력한다.\n",
        "*   단, 숫자가 100보다 크면 더 이상 출력하지 않고 반복문을 종료한다.\n",
        "*   continue는 짝수를 건너뛸 떄 사용하고, break는 100초과 시 종료할 때 사용한다.\n",
        "\n"
      ],
      "metadata": {
        "id": "o_--flbZqYAn"
      }
    },
    {
      "cell_type": "code",
      "source": [
        "n = int(input(\"숫자를 입력해주세요 : \"))\n",
        "\n",
        "num = 1\n",
        "\n",
        "while True:\n",
        "  if num > 100 or num > n:\n",
        "    break\n",
        "  if num % 2 != 0:\n",
        "    print(num)\n",
        "    num += 1\n",
        "  else :\n",
        "    num += 1\n",
        "    continue\n",
        "\n"
      ],
      "metadata": {
        "colab": {
          "base_uri": "https://localhost:8080/"
        },
        "id": "hlckt49Zqr-3",
        "outputId": "6a5fa46d-5448-4942-b482-a87d701aa181"
      },
      "execution_count": 25,
      "outputs": [
        {
          "output_type": "stream",
          "name": "stdout",
          "text": [
            "숫자를 입력해주세요 : 15\n",
            "1\n",
            "3\n",
            "5\n",
            "7\n",
            "9\n",
            "11\n",
            "13\n",
            "15\n"
          ]
        }
      ]
    },
    {
      "cell_type": "markdown",
      "source": [
        "# 반복문 FOR\n",
        "\n",
        "특정 코드를 여러번 실행"
      ],
      "metadata": {
        "id": "lmhfmtW8vZPw"
      }
    },
    {
      "cell_type": "markdown",
      "source": [
        "# FOR 문\n",
        "\n",
        "\n",
        "\n",
        "*   while문과 비슷하게 진행되지만, 조금 더 직관적이다.\n",
        "*   continue, break문 사용 가능\n",
        "\n",
        "for i in 시퀀스(리스트, 튜플, 문자열):\n",
        "\n",
        "수행할 문장1\n",
        "\n",
        "수행할 문장2"
      ],
      "metadata": {
        "id": "3oxioteFvkgg"
      }
    },
    {
      "cell_type": "code",
      "source": [
        "list1 = ['one', 'two', 'three', 'four', 'five']\n",
        "\n",
        "count = 1\n",
        "for i in list1:\n",
        "  print(str(count) + '회차 i의 값: ', end='')\n",
        "  print(i)\n",
        "  count = count + 1\n",
        "\n",
        "a = [(1,1),(2,2),(3,3)]\n",
        "for (b,c) in a:\n",
        "  print(b+c)"
      ],
      "metadata": {
        "colab": {
          "base_uri": "https://localhost:8080/"
        },
        "id": "YvjNK7QCv7o4",
        "outputId": "bc35b45d-0ea0-470b-db12-9155f5f8501e"
      },
      "execution_count": 29,
      "outputs": [
        {
          "output_type": "stream",
          "name": "stdout",
          "text": [
            "1회차 i의 값: one\n",
            "2회차 i의 값: two\n",
            "3회차 i의 값: three\n",
            "4회차 i의 값: four\n",
            "5회차 i의 값: five\n",
            "2\n",
            "4\n",
            "6\n"
          ]
        }
      ]
    },
    {
      "cell_type": "markdown",
      "source": [
        "# 학생들의 점수 출력 예제\n",
        "\n",
        "\n",
        "\n",
        "*   아래와 같이 (이름, 점수) 형태의 튜플이 담긴 리스트가 주어진다.\n",
        "\n",
        "  students = [('철수', 85), ('영희', 92), ('민수', 78)]\n",
        "*for 반복문을 사용하여 다음과 같이 각 학생의 이름과 점수를 출력한다.\n",
        "\n"
      ],
      "metadata": {
        "id": "-y4H3yQxyMhS"
      }
    },
    {
      "cell_type": "code",
      "source": [
        " students = [('철수', 85), ('영희', 92), ('민수', 78)]\n",
        "\n",
        "for (name, score) in students:\n",
        "  print(f\"{name}의 점수는 {score}입니다.\" )"
      ],
      "metadata": {
        "colab": {
          "base_uri": "https://localhost:8080/"
        },
        "id": "t4yMDtUIylzh",
        "outputId": "ec427e5c-3be3-4ddd-c3b0-3621f5a1cf55"
      },
      "execution_count": 30,
      "outputs": [
        {
          "output_type": "stream",
          "name": "stdout",
          "text": [
            "철수의 점수는 85입니다.\n",
            "영희의 점수는 92입니다.\n",
            "민수의 점수는 78입니다.\n"
          ]
        }
      ]
    },
    {
      "cell_type": "markdown",
      "source": [
        "# Range 함수\n",
        "\n",
        "\n",
        "\n",
        "*   항목 추가\n",
        "*   항목 추가\n",
        "*   항목 추가\n",
        "*   항목 추가\n",
        "\n"
      ],
      "metadata": {
        "id": "-C2OapDIy_bA"
      }
    },
    {
      "cell_type": "code",
      "source": [
        "# range(번호)\n",
        "for i in range(10):\n",
        "  print(i)\n",
        "\n",
        "for i in range(10, -12, 2):\n",
        "  print(i)"
      ],
      "metadata": {
        "colab": {
          "base_uri": "https://localhost:8080/"
        },
        "id": "LXx4O7bSzPOA",
        "outputId": "973edc65-f79e-46bb-fba9-0adfda4939ed"
      },
      "execution_count": 31,
      "outputs": [
        {
          "output_type": "stream",
          "name": "stdout",
          "text": [
            "0\n",
            "1\n",
            "2\n",
            "3\n",
            "4\n",
            "5\n",
            "6\n",
            "7\n",
            "8\n",
            "9\n"
          ]
        }
      ]
    },
    {
      "cell_type": "markdown",
      "source": [
        "# 구구단 9단 출력\n",
        "\n",
        "9 * 1 = 9\n",
        "\n",
        "9 * 2 = 18\n",
        "\n",
        "9 * 3 = 27\n",
        "\n",
        ".....\n",
        "\n",
        "9 * 9 = 81"
      ],
      "metadata": {
        "id": "LjFwwMfxzrs5"
      }
    },
    {
      "cell_type": "code",
      "source": [
        "for i in range(1, 10):\n",
        "  print(\"9 X\", i, \"=\", 9 * i)"
      ],
      "metadata": {
        "colab": {
          "base_uri": "https://localhost:8080/"
        },
        "id": "liUfh_n-z5tw",
        "outputId": "1746637b-72dc-481f-b6dc-1a50b249a53c"
      },
      "execution_count": 40,
      "outputs": [
        {
          "output_type": "stream",
          "name": "stdout",
          "text": [
            "9 X 1 = 9\n",
            "9 X 2 = 18\n",
            "9 X 3 = 27\n",
            "9 X 4 = 36\n",
            "9 X 5 = 45\n",
            "9 X 6 = 54\n",
            "9 X 7 = 63\n",
            "9 X 8 = 72\n",
            "9 X 9 = 81\n"
          ]
        }
      ]
    },
    {
      "cell_type": "markdown",
      "source": [
        "# 학생 점수에 따라 합격/불합격을 판별\n",
        "\n",
        "\n",
        "\n",
        "*   학생들의 점수 리스트 scores = [15, 50, 46, 86, 94]가 주어진다.\n",
        "*   for 반복문을 이용하여 리스트의 각 점수를 확인하며 다음 조건을 따른다.\n",
        "\n",
        "\n",
        "1.   num이라는 번호가 1번부터 증가시킨다.\n",
        "2.   번호가 짝수일 경우 continue를 사용하여 건너뛴다.\n",
        "3.  번호가 5가되면 break를 사용하여 반복을 중단한다.\n",
        "4.  그 외에는 점수가 50이상이면 \"0번 학생 합격\"을 출력한다.\n",
        "\n",
        "\n",
        "\n"
      ],
      "metadata": {
        "id": "w7tA_DuL0xbJ"
      }
    },
    {
      "cell_type": "code",
      "source": [
        "scores = [15, 50, 46, 86, 94]\n",
        "\n",
        "num = 1\n",
        "\n",
        "for i in scores:\n",
        "  if num % 2 == 0:\n",
        "    num += 1\n",
        "    continue\n",
        "  if num == 5:\n",
        "    break\n",
        "  if i >= 50:\n",
        "    print(\"%d번 학생 합격\" %num)\n",
        "    num += 1\n",
        "  else:\n",
        "    print(\"%d번 학생 불합격\" %num)\n",
        "    num += 1"
      ],
      "metadata": {
        "colab": {
          "base_uri": "https://localhost:8080/"
        },
        "id": "AeGeS6XO1QIb",
        "outputId": "a90060ce-3e43-4350-8d32-98a42a1bdd5a"
      },
      "execution_count": 54,
      "outputs": [
        {
          "output_type": "stream",
          "name": "stdout",
          "text": [
            "1번 학생 불합격\n",
            "3번 학생 불합격\n"
          ]
        }
      ]
    },
    {
      "cell_type": "markdown",
      "source": [
        "# 예제 심화\n",
        "\n",
        "\n",
        "\n",
        "*   학생들의 점수 리스트가 scores = [15, 50, 46, 86, 94, 100, 51, 60]으로 주어진다.\n",
        "*   for 반복문과 조건문을 활용하여 다음 작업을 수행한다.\n",
        "\n",
        "\n",
        "1.   각 학생에게 번호(1번부터)를 부여한다.\n",
        "2.   홀수 번호 학생만 검사하며, 점수가 60점 이상이면 \"0번 학생, 합격\", 그렇지 않으면 \"0번 학생, 불합격\"을 출력한다.\n",
        "3.  불학격한 홀수 번호 학생들의 점수를 누적하여 평균을 계산한다.\n",
        "4.  반복이 끝난 후, 불합격자들의 평균 점수를 \"불합격 받은 학생들의 평균 점수는 : 00점 입니다.\" 형식으로 출력한다.\n",
        "\n",
        "\n",
        "\n"
      ],
      "metadata": {
        "id": "YEEms5lY74p5"
      }
    },
    {
      "cell_type": "code",
      "source": [
        "scores = [15, 50, 46, 86, 94, 100, 51, 60]\n",
        "\n",
        "num = 0\n",
        "count = 0\n",
        "sum = 0\n",
        "\n",
        "for i in scores:\n",
        "  num += 1\n",
        "\n",
        "  if num % 2 == 0:\n",
        "    continue\n",
        "  if i >= 60:\n",
        "    print(\"%d번 학생, 합격\" %num)\n",
        "  else:\n",
        "    print(\"%d번 학생, 불합격\" %num)\n",
        "    count += 1\n",
        "    sum = sum + i\n",
        "\n",
        "avg = sum / count\n",
        "print(\"불합격을 받은 학생들은 %d명이며, 평균 점수는 %d점 입니다.\" %(count,avg))"
      ],
      "metadata": {
        "colab": {
          "base_uri": "https://localhost:8080/"
        },
        "id": "9xBTAVr88fVS",
        "outputId": "48934803-134c-47a6-bcca-d5568c2bb60b"
      },
      "execution_count": 57,
      "outputs": [
        {
          "output_type": "stream",
          "name": "stdout",
          "text": [
            "1번 학생, 불합격\n",
            "3번 학생, 불합격\n",
            "5번 학생, 합격\n",
            "7번 학생, 불합격\n",
            "불합격을 받은 학생들은 3명이며, 평균 점수는 37점 입니다.\n"
          ]
        }
      ]
    },
    {
      "cell_type": "code",
      "source": [
        "# 3번 반복 1회차 떄, 내부에 있는 for문이 끝날 때 까지 기다린다.\n",
        "        # 2회차 떄, 다시한번 * 5개가 출력\n",
        "        # 3회차 때, * 5개 출력 → 엔터 → 출력 종료\n",
        "for i in range(4):\n",
        "  # 5번 반복\n",
        "  for j in range(3):\n",
        "    print('*', end='')\n",
        "\n",
        "  print()"
      ],
      "metadata": {
        "colab": {
          "base_uri": "https://localhost:8080/"
        },
        "id": "M0D0ZWOX_YzD",
        "outputId": "d315d1b0-ede9-4e6b-f5b8-3a24d4999f79"
      },
      "execution_count": 59,
      "outputs": [
        {
          "output_type": "stream",
          "name": "stdout",
          "text": [
            "***\n",
            "***\n",
            "***\n",
            "***\n"
          ]
        }
      ]
    },
    {
      "cell_type": "markdown",
      "source": [
        "# 되세김 문제"
      ],
      "metadata": {
        "id": "ubKH42_VA4Xi"
      }
    },
    {
      "cell_type": "markdown",
      "source": [
        "# 1. 다음 코드의 결괏값은 무엇일까?"
      ],
      "metadata": {
        "id": "AMod9v2qA7B5"
      }
    },
    {
      "cell_type": "code",
      "source": [
        "a = \"Life is too short, you need python\"\n",
        "\n",
        "if \"wife\" in a : pirnt(\"wife\")\n",
        "elif \"python\" in a and \"you\" not in a: print(\"python\")\n",
        "elif \"shirt\" not in a : print(\"shirt\")\n",
        "elif \"need\" in a : print(\"need\")\n",
        "else: print(\"none\")"
      ],
      "metadata": {
        "colab": {
          "base_uri": "https://localhost:8080/"
        },
        "id": "ZmFgwnGsAf6j",
        "outputId": "b6ff191d-6c7f-4a91-83f0-529fe1a64f93"
      },
      "execution_count": 60,
      "outputs": [
        {
          "output_type": "stream",
          "name": "stdout",
          "text": [
            "shirt\n"
          ]
        }
      ]
    },
    {
      "cell_type": "markdown",
      "source": [
        "# 2. while 문을 사용해 1부터 1000까지의 자연수 중 3의 배수의 합을 구해보자"
      ],
      "metadata": {
        "id": "BCwGPPYOA9di"
      }
    },
    {
      "cell_type": "code",
      "source": [
        "result = 0\n",
        "i = 1\n",
        "\n",
        "while i <= 1000:\n",
        "  if i % 3 == 0:\n",
        "    result += i\n",
        "  i += 1\n",
        "\n",
        "print(result)"
      ],
      "metadata": {
        "colab": {
          "base_uri": "https://localhost:8080/"
        },
        "id": "LXxRMg8HBBX6",
        "outputId": "a3dd1bf6-1f9d-4706-d55b-b43ab5cc505a"
      },
      "execution_count": 61,
      "outputs": [
        {
          "output_type": "stream",
          "name": "stdout",
          "text": [
            "166833\n"
          ]
        }
      ]
    },
    {
      "cell_type": "markdown",
      "source": [
        "# 3. while 문을 사용하여 다음과 같이 별(*)을 표시하는 프로그램을 작성해보자"
      ],
      "metadata": {
        "id": "D1v-kQJlBPqq"
      }
    },
    {
      "cell_type": "code",
      "source": [
        "i = 0\n",
        "\n",
        "while True:\n",
        "  i += 1\n",
        "  if i > 5 :\n",
        "    break\n",
        "  print(i*'*')"
      ],
      "metadata": {
        "colab": {
          "base_uri": "https://localhost:8080/"
        },
        "id": "IlXVgGPeBNvB",
        "outputId": "bfe611b5-2ca2-40aa-f0e6-6e6a44e4b13e"
      },
      "execution_count": 62,
      "outputs": [
        {
          "output_type": "stream",
          "name": "stdout",
          "text": [
            "*\n",
            "**\n",
            "***\n",
            "****\n",
            "*****\n"
          ]
        }
      ]
    },
    {
      "cell_type": "markdown",
      "source": [
        "# 4. for문을 사용해 1부터 100까지의 숫자를 출력해보자"
      ],
      "metadata": {
        "id": "ANwUcoblBdoC"
      }
    },
    {
      "cell_type": "code",
      "source": [
        "for i in range(101):\n",
        "  print(i)"
      ],
      "metadata": {
        "colab": {
          "base_uri": "https://localhost:8080/"
        },
        "id": "YuVdp6n9Bmoi",
        "outputId": "05aa1cb8-04b3-45a3-829e-af44fde461a1"
      },
      "execution_count": 64,
      "outputs": [
        {
          "output_type": "stream",
          "name": "stdout",
          "text": [
            "0\n",
            "1\n",
            "2\n",
            "3\n",
            "4\n",
            "5\n",
            "6\n",
            "7\n",
            "8\n",
            "9\n",
            "10\n",
            "11\n",
            "12\n",
            "13\n",
            "14\n",
            "15\n",
            "16\n",
            "17\n",
            "18\n",
            "19\n",
            "20\n",
            "21\n",
            "22\n",
            "23\n",
            "24\n",
            "25\n",
            "26\n",
            "27\n",
            "28\n",
            "29\n",
            "30\n",
            "31\n",
            "32\n",
            "33\n",
            "34\n",
            "35\n",
            "36\n",
            "37\n",
            "38\n",
            "39\n",
            "40\n",
            "41\n",
            "42\n",
            "43\n",
            "44\n",
            "45\n",
            "46\n",
            "47\n",
            "48\n",
            "49\n",
            "50\n",
            "51\n",
            "52\n",
            "53\n",
            "54\n",
            "55\n",
            "56\n",
            "57\n",
            "58\n",
            "59\n",
            "60\n",
            "61\n",
            "62\n",
            "63\n",
            "64\n",
            "65\n",
            "66\n",
            "67\n",
            "68\n",
            "69\n",
            "70\n",
            "71\n",
            "72\n",
            "73\n",
            "74\n",
            "75\n",
            "76\n",
            "77\n",
            "78\n",
            "79\n",
            "80\n",
            "81\n",
            "82\n",
            "83\n",
            "84\n",
            "85\n",
            "86\n",
            "87\n",
            "88\n",
            "89\n",
            "90\n",
            "91\n",
            "92\n",
            "93\n",
            "94\n",
            "95\n",
            "96\n",
            "97\n",
            "98\n",
            "99\n",
            "100\n"
          ]
        }
      ]
    },
    {
      "cell_type": "markdown",
      "source": [
        "# 5. A학급에서 총 10명의 학생이 있다. 이 학생들의 중간고사 점수는 다음과 같다\n",
        "#  scores = [70, 60, 55, 75, 95, 90, 80, 80, 85, 100]\n",
        "#  for 문을 사용하여 A학급의 평균 점수를"
      ],
      "metadata": {
        "id": "6htN9v8yBszC"
      }
    },
    {
      "cell_type": "code",
      "source": [
        "A = [70, 60, 55, 75, 95, 90, 80, 80, 85, 100]\n",
        "total = 0\n",
        "\n",
        "for score in A:\n",
        "  total += score\n",
        "\n",
        "average = total / len(A)\n",
        "\n",
        "print(average)"
      ],
      "metadata": {
        "colab": {
          "base_uri": "https://localhost:8080/"
        },
        "id": "gKau-WtOB7vy",
        "outputId": "1b8a8042-a05e-41cd-92af-3fd48669d9e6"
      },
      "execution_count": 65,
      "outputs": [
        {
          "output_type": "stream",
          "name": "stdout",
          "text": [
            "79.0\n"
          ]
        }
      ]
    },
    {
      "cell_type": "markdown",
      "source": [
        "# WHILE 반복문"
      ],
      "metadata": {
        "id": "fDovDb4tZMBV"
      }
    },
    {
      "cell_type": "markdown",
      "source": [
        "# 1. 제곱 출력하기\n",
        "\n",
        "## 요구 사항\n",
        "- 사용자로부터 하나의 정수를 입력받는다.  \n",
        "- 입력된 정수 `num`까지의 숫자에 대해 다음을 수행한다:  \n",
        "  - `while` 문을 이용하여 1부터 `num`까지 각 수의 제곱을 출력한다.  \n",
        "  - `for` 문을 이용하여 1부터 `num`까지 각 수의 제곱을 출력한다.  \n",
        "- 두 반복문 모두 `1^2`, `2^2`, ..., `num^2`까지의 결과를 출력해야 한다.\n"
      ],
      "metadata": {
        "id": "x8_2VMnUZMx1"
      }
    },
    {
      "cell_type": "code",
      "source": [
        "num = int(input(\"정수를 입력해 주세요: \"))\n",
        "a = 1\n",
        "\n",
        "print(\"While 문\")\n",
        "while a <= num:\n",
        "  print(a*a)\n",
        "  a += 1\n",
        "\n",
        "print(\"\\nFor 문\")\n",
        "a = 1\n",
        "for i in range(num):\n",
        "  if a <= num:\n",
        "    print(a*a)\n",
        "    a += 1\n"
      ],
      "metadata": {
        "colab": {
          "base_uri": "https://localhost:8080/"
        },
        "id": "GhAAZQ8HZPRt",
        "outputId": "2ee55f1a-87d2-4383-b165-90b31e611f93"
      },
      "execution_count": 79,
      "outputs": [
        {
          "output_type": "stream",
          "name": "stdout",
          "text": [
            "정수를 입력해 주세요: 5\n",
            "While 문\n",
            "1\n",
            "4\n",
            "9\n",
            "16\n",
            "25\n",
            "\n",
            "For 문\n",
            "1\n",
            "4\n",
            "9\n",
            "16\n",
            "25\n"
          ]
        }
      ]
    },
    {
      "cell_type": "markdown",
      "source": [
        "# 2. 공 튀기기 시뮬레이션\n",
        "\n",
        "## 요구 사항\n",
        "- 사용자로부터 하나의 정수를 입력받는다.  \n",
        "- 공의 초기 높이는 100cm이다.  \n",
        "- 공은 한 번 튈 때마다 이전 높이의 3/5만큼 튄다.  \n",
        "- 입력한 횟수만큼 공이 튄 후, 최종 높이를 출력한다.  \n",
        "- 최종 출력 형식은 `\"최종 높이: ○○\"`와 같이 표시한다.\n"
      ],
      "metadata": {
        "id": "OMCcPV0Ta6hV"
      }
    },
    {
      "cell_type": "code",
      "source": [
        "num = int(input(\"정수를 입력해주세요 : \"))\n",
        "\n",
        "h = 100\n",
        "count = 1\n",
        "\n",
        "while count < num:\n",
        "  h = h * 3/5\n",
        "  count +=1\n",
        "\n",
        "print(\"최종 높이: %d cm입니다\" %h)"
      ],
      "metadata": {
        "colab": {
          "base_uri": "https://localhost:8080/"
        },
        "id": "9pNtVz4Ja8sd",
        "outputId": "bce518b2-892b-4670-9c72-bb02576d7964"
      },
      "execution_count": 88,
      "outputs": [
        {
          "output_type": "stream",
          "name": "stdout",
          "text": [
            "정수를 입력해주세요 : 5\n",
            "최종 높이: 12 cm입니다\n"
          ]
        }
      ]
    },
    {
      "cell_type": "markdown",
      "source": [
        "# 3. 별찍기 문제\n",
        "## 요구사항(4입력 예시)\n",
        "- 패턴 1: 정방향 삼각형\n",
        "- 패턴 2: 오른쪽 정렬 정방향 삼각형\n",
        "- 패턴 3: 역삼각형\n",
        "- 패턴 4: 오른쪽 정렬 역삼각형\n",
        "- 패턴 5: 피라미드"
      ],
      "metadata": {
        "id": "UpExqsLpcUWl"
      }
    },
    {
      "cell_type": "markdown",
      "source": [
        "# 패턴 1"
      ],
      "metadata": {
        "id": "ESyY0ovNe5We"
      }
    },
    {
      "cell_type": "code",
      "source": [
        "i = 1\n",
        "\n",
        "while i <= 5:\n",
        "    print('*' * i)\n",
        "    i += 1"
      ],
      "metadata": {
        "colab": {
          "base_uri": "https://localhost:8080/"
        },
        "id": "LGamSP7NcWmF",
        "outputId": "f5a0480d-4d16-4db3-ada3-9643f390d4fe"
      },
      "execution_count": 234,
      "outputs": [
        {
          "output_type": "stream",
          "name": "stdout",
          "text": [
            "*\n",
            "**\n",
            "***\n",
            "****\n",
            "*****\n"
          ]
        }
      ]
    },
    {
      "cell_type": "markdown",
      "source": [
        "# 패턴 2"
      ],
      "metadata": {
        "id": "MeXtpsQIe7Y2"
      }
    },
    {
      "cell_type": "code",
      "source": [
        "i = 1\n",
        "n = 5\n",
        "\n",
        "while i <= n:\n",
        "    print(' ' * (n - i) + '*' * i)\n",
        "    i += 1\n",
        "\n",
        "print()"
      ],
      "metadata": {
        "colab": {
          "base_uri": "https://localhost:8080/"
        },
        "id": "7ErD_2iMd3uW",
        "outputId": "9dd191c7-90b5-44ed-aad7-b246f9a5be46"
      },
      "execution_count": 248,
      "outputs": [
        {
          "output_type": "stream",
          "name": "stdout",
          "text": [
            "    *\n",
            "   **\n",
            "  ***\n",
            " ****\n",
            "*****\n",
            "\n"
          ]
        }
      ]
    },
    {
      "cell_type": "markdown",
      "source": [
        "# 패턴 3"
      ],
      "metadata": {
        "id": "MXCWM3GIe8tW"
      }
    },
    {
      "cell_type": "code",
      "source": [
        "i = 5\n",
        "\n",
        "while i >= 1:\n",
        "    print('*' * i)\n",
        "    i -= 1\n",
        "\n",
        "print()\n"
      ],
      "metadata": {
        "colab": {
          "base_uri": "https://localhost:8080/"
        },
        "id": "-tgiezJIdB1N",
        "outputId": "2d07d16d-2f3a-4549-a4fb-17a958abd814"
      },
      "execution_count": 236,
      "outputs": [
        {
          "output_type": "stream",
          "name": "stdout",
          "text": [
            "*****\n",
            "****\n",
            "***\n",
            "**\n",
            "*\n",
            "\n"
          ]
        }
      ]
    },
    {
      "cell_type": "markdown",
      "source": [
        "# 패턴 4"
      ],
      "metadata": {
        "id": "WN5FctQQg3GO"
      }
    },
    {
      "cell_type": "code",
      "source": [
        "i = 5\n",
        "n = 5\n",
        "\n",
        "while i >= 1:\n",
        "    print(' ' * (n - i) + '*' * i)\n",
        "    i -= 1"
      ],
      "metadata": {
        "colab": {
          "base_uri": "https://localhost:8080/"
        },
        "id": "RPSXD56ug4jW",
        "outputId": "3552ddd8-fa11-4e08-9a5d-6724055bb8d0"
      },
      "execution_count": 247,
      "outputs": [
        {
          "output_type": "stream",
          "name": "stdout",
          "text": [
            "*****\n",
            " ****\n",
            "  ***\n",
            "   **\n",
            "    *\n"
          ]
        }
      ]
    },
    {
      "cell_type": "markdown",
      "source": [
        "# 패턴 5"
      ],
      "metadata": {
        "id": "-7Ke9iGfjgf6"
      }
    },
    {
      "cell_type": "code",
      "source": [
        "i = 1\n",
        "n = 7\n",
        "\n",
        "while i <= n:\n",
        "    print(' ' * (n - i) + '*' * (2 * i - 1))\n",
        "    i += 1"
      ],
      "metadata": {
        "colab": {
          "base_uri": "https://localhost:8080/"
        },
        "id": "Ejfl-LDZjh26",
        "outputId": "f7a54daa-9d07-4043-9dca-fe7af092826d"
      },
      "execution_count": 246,
      "outputs": [
        {
          "output_type": "stream",
          "name": "stdout",
          "text": [
            "      *\n",
            "     ***\n",
            "    *****\n",
            "   *******\n",
            "  *********\n",
            " ***********\n",
            "*************\n"
          ]
        }
      ]
    },
    {
      "cell_type": "markdown",
      "source": [
        "# 4. 커피 자판기 시뮬레이션\n",
        "\n",
        "## 요구 사항\n",
        "- 사용자에게 커피 개수를 입력받는다.\n",
        "- 사용자가 돈을 넣으면 다음 조건에 따라 처리한다:\n",
        "  - 커피 값은 300원이다.\n",
        "  - 300원을 넣으면 \"커피를 줍니다.\"를 출력하고 커피를 1개 줄인다.  \n",
        "  - 300원보다 많이 넣으면 \"거스름돈 ○○원을 주고 커피를 줍니다.\"를 출력하고 커피를 1개 줄인다.  \n",
        "  - 300원보다 적게 넣으면 \"돈을 다시 돌려주고 커피를 주지 않습니다.\"를 출력하고, 남은 커피 수를 출력한다.  \n",
        "- 커피가 0개가 되면 \"커피가 다 떨어졌습니다. 판매를 중지합니다.\"를 출력하고 반복을 종료한다.\n"
      ],
      "metadata": {
        "id": "eM9S8FmBj8n5"
      }
    },
    {
      "cell_type": "code",
      "source": [
        "a = int(input(\"커피 개수를 입력해주세요 : \"))\n",
        "\n",
        "m = 0\n",
        "n = 0\n",
        "\n",
        "while a != 0:\n",
        "  m = int(input(\"돈을 넣어주세요 : \"))\n",
        "  if m == 300:\n",
        "    print(\"커피를 줍니다.\")\n",
        "    a = a - 1\n",
        "    print(\"남은 커피는 %d잔입니다\" %a)\n",
        "  elif m > 300:\n",
        "    n = m - 300\n",
        "    print(\"거스름돈은 %d원을 돌려주고 커피를 줍니다.\" %n)\n",
        "    a = a -1\n",
        "    print(\"남은 커피는 %d잔입니다.\" %a)\n",
        "  else:\n",
        "    print(\"돈을 다시 돌려주고 커피를 주지 않습니다.\")\n",
        "    print(\"남은 커피는 %d잔입니다.\" %a)\n",
        "\n",
        "print(\"커피가 다 떨어졌습니다. 판매를 중지합니다.\")"
      ],
      "metadata": {
        "colab": {
          "base_uri": "https://localhost:8080/"
        },
        "id": "iwjGAkLAj9Up",
        "outputId": "cbde5974-58c8-425d-c7b6-0dfb531adfd2"
      },
      "execution_count": 227,
      "outputs": [
        {
          "output_type": "stream",
          "name": "stdout",
          "text": [
            "커피 개수를 입력해주세요 : 2\n",
            "돈을 넣어주세요 : 300\n",
            "커피를 줍니다.\n",
            "남은 커피는 1잔입니다\n",
            "돈을 넣어주세요 : 500\n",
            "거스름돈은 200원을 돌려주고 커피를 줍니다.\n",
            "남은 커피는 0잔입니다.\n",
            "커피가 다 떨어졌습니다. 판매를 중지합니다.\n"
          ]
        }
      ]
    },
    {
      "cell_type": "markdown",
      "source": [
        "# FOR 반복문"
      ],
      "metadata": {
        "id": "l4ZHxaUgqwLb"
      }
    },
    {
      "cell_type": "markdown",
      "source": [
        "# 1. 문자열 내 알파벳 빈도수 출력\n",
        "\n",
        "## 요구 사항\n",
        "- 사용자로부터 문자열을 입력받는다.  \n",
        "- 입력된 문자열에서 알파벳(a~z, A~Z)의 빈도수를 출력한다.  \n",
        "- 대소문자는 구분하지 않는다.  \n",
        "- 알파벳이 아닌 문자는 무시한다.  \n",
        "- 알파벳은 오름차순으로 정렬하여 출력한다.\n",
        "\n",
        "### 예시 입력\n",
        "Hello, Python!\n",
        "\n",
        "### 예시 출력\n",
        "- e: 1\n",
        "- h: 2\n",
        "- l: 2\n",
        "- n: 1\n",
        "- o: 2\n",
        "- p: 1\n",
        "- t: 1\n",
        "- y: 1"
      ],
      "metadata": {
        "id": "jSLjX0w2qxvy"
      }
    },
    {
      "cell_type": "code",
      "source": [
        "s = input(\"문자열을 입력하세요: \")\n",
        "\n",
        "count = {}\n",
        "\n",
        "for char in s:\n",
        "    if char.encode().isalpha():\n",
        "        char = char.lower()\n",
        "        if char in count:\n",
        "            count[char] += 1\n",
        "        else:\n",
        "            count[char] = 1\n",
        "\n",
        "\n",
        "for char in sorted(count):\n",
        "    print(f\"- {char}: {count[char]}\")"
      ],
      "metadata": {
        "colab": {
          "base_uri": "https://localhost:8080/"
        },
        "id": "CdD1-RCxqy7i",
        "outputId": "6ab86406-f59c-4dfa-92d0-604894cd483a"
      },
      "execution_count": 244,
      "outputs": [
        {
          "output_type": "stream",
          "name": "stdout",
          "text": [
            "문자열을 입력하세요: asdㅁㄴㅇ\n",
            "- a: 1\n",
            "- d: 1\n",
            "- s: 1\n"
          ]
        }
      ]
    },
    {
      "cell_type": "markdown",
      "source": [
        "# 2. 계단식 숫자 출력\n",
        "\n",
        "## 요구 사항\n",
        "- 사용자로부터 정수 n을 입력받는다.  \n",
        "- `for` 반복문을 이용해 다음과 같은 숫자 계단을 출력한다.  \n",
        "- 각 줄에는 1부터 해당 줄 번호까지의 숫자를 공백과 함께 출력한다. 단, 마지막에는 공백이 있어선 안된다.\n",
        "- 줄 수는 입력한 정수만큼 출력한다.\n",
        "\n",
        "### 예시 출력 (입력: 5)\n",
        "- 1\n",
        "- 1 2\n",
        "- 1 2 3\n",
        "- 1 2 3 4\n",
        "- 1 2 3 4 5"
      ],
      "metadata": {
        "id": "gytjyoYOuRYM"
      }
    },
    {
      "cell_type": "code",
      "source": [
        "a = int(input(\"정수를 입력해주세요 : \"))\n",
        "\n",
        "for i in range(a):\n",
        "  for j in range(i+1):\n",
        "    if(j + 1 == i + 1):\n",
        "      print(j+1)\n",
        "    else:\n",
        "      print(j+1, end=' ')\n",
        "\n",
        "  print()"
      ],
      "metadata": {
        "colab": {
          "base_uri": "https://localhost:8080/"
        },
        "id": "PD6p1727uTNj",
        "outputId": "f7fe2a54-8487-4e76-f7b7-e54a92fa9d70"
      },
      "execution_count": 254,
      "outputs": [
        {
          "output_type": "stream",
          "name": "stdout",
          "text": [
            "정수를 입력해주세요 : 7\n",
            "1\n",
            "\n",
            "1 2\n",
            "\n",
            "1 2 3\n",
            "\n",
            "1 2 3 4\n",
            "\n",
            "1 2 3 4 5\n",
            "\n",
            "1 2 3 4 5 6\n",
            "\n",
            "1 2 3 4 5 6 7\n",
            "\n"
          ]
        }
      ]
    },
    {
      "cell_type": "markdown",
      "source": [
        "# 3. 1부터 500까지 3과 5의 공배수 출력\n",
        "\n",
        "## 요구 사항\n",
        "- 1부터 500까지 숫자 중에서 **3과 5의 공배수**만 출력한다.  \n",
        "- 출력 결과는 한 줄에 5개씩 출력되도록 한다.  \n",
        "- 줄바꿈은 5개를 출력할 때마다 적용한다.  \n",
        "- 각 숫자는 가독성을 위해 일정한 간격으로 정렬한다.\n",
        "\n",
        "### 예시 출력\n",
        "15 30 45 60 75\n",
        "\n",
        "90 ..."
      ],
      "metadata": {
        "id": "2jbnKIvQxt2L"
      }
    },
    {
      "cell_type": "code",
      "source": [
        "count = 0\n",
        "\n",
        "for i in range(500):\n",
        "  if (i % 3 ==0 and i % 5 == 0):\n",
        "    print(i, end= '\\t')\n",
        "    count += 1\n",
        "    if count % 5 ==0:\n",
        "      print()\n"
      ],
      "metadata": {
        "colab": {
          "base_uri": "https://localhost:8080/"
        },
        "id": "0zWLNEiuxuzL",
        "outputId": "89b9c2aa-ca97-4f95-8ca0-df53d0314855"
      },
      "execution_count": 214,
      "outputs": [
        {
          "output_type": "stream",
          "name": "stdout",
          "text": [
            "0\t15\t30\t45\t60\t\n",
            "75\t90\t105\t120\t135\t\n",
            "150\t165\t180\t195\t210\t\n",
            "225\t240\t255\t270\t285\t\n",
            "300\t315\t330\t345\t360\t\n",
            "375\t390\t405\t420\t435\t\n",
            "450\t465\t480\t495\t"
          ]
        }
      ]
    },
    {
      "cell_type": "markdown",
      "source": [
        "# 4. 구구단 2단부터 9단까지 출력하기\n",
        "\n",
        "## 요구 사항\n",
        "- `for` 반복문을 중첩 사용하여 **2단부터 9단까지**의 구구단을 출력한다.  \n",
        "- 각 단은 `단 제목`을 먼저 출력한 후, 그 단의 곱셈 결과를 1부터 9까지 출력한다.  \n",
        "- 출력 형식은 `2 x 1 = 2`, `3 x 2 = 6`과 같은 형태로 출력한다."
      ],
      "metadata": {
        "id": "KgJKNVcw1epc"
      }
    },
    {
      "cell_type": "code",
      "source": [
        "for i in range(2, 10):\n",
        "  print(i,'단')\n",
        "  for j in range(1, 10):\n",
        "    print(i, 'X', j, '=', i*j)"
      ],
      "metadata": {
        "colab": {
          "base_uri": "https://localhost:8080/"
        },
        "id": "PMIRcqHh1hBM",
        "outputId": "9c0fd649-5a05-419d-f8f4-52483bb9f8be"
      },
      "execution_count": 221,
      "outputs": [
        {
          "output_type": "stream",
          "name": "stdout",
          "text": [
            "2 단\n",
            "2 X 1 = 2\n",
            "2 X 2 = 4\n",
            "2 X 3 = 6\n",
            "2 X 4 = 8\n",
            "2 X 5 = 10\n",
            "2 X 6 = 12\n",
            "2 X 7 = 14\n",
            "2 X 8 = 16\n",
            "2 X 9 = 18\n",
            "3 단\n",
            "3 X 1 = 3\n",
            "3 X 2 = 6\n",
            "3 X 3 = 9\n",
            "3 X 4 = 12\n",
            "3 X 5 = 15\n",
            "3 X 6 = 18\n",
            "3 X 7 = 21\n",
            "3 X 8 = 24\n",
            "3 X 9 = 27\n",
            "4 단\n",
            "4 X 1 = 4\n",
            "4 X 2 = 8\n",
            "4 X 3 = 12\n",
            "4 X 4 = 16\n",
            "4 X 5 = 20\n",
            "4 X 6 = 24\n",
            "4 X 7 = 28\n",
            "4 X 8 = 32\n",
            "4 X 9 = 36\n",
            "5 단\n",
            "5 X 1 = 5\n",
            "5 X 2 = 10\n",
            "5 X 3 = 15\n",
            "5 X 4 = 20\n",
            "5 X 5 = 25\n",
            "5 X 6 = 30\n",
            "5 X 7 = 35\n",
            "5 X 8 = 40\n",
            "5 X 9 = 45\n",
            "6 단\n",
            "6 X 1 = 6\n",
            "6 X 2 = 12\n",
            "6 X 3 = 18\n",
            "6 X 4 = 24\n",
            "6 X 5 = 30\n",
            "6 X 6 = 36\n",
            "6 X 7 = 42\n",
            "6 X 8 = 48\n",
            "6 X 9 = 54\n",
            "7 단\n",
            "7 X 1 = 7\n",
            "7 X 2 = 14\n",
            "7 X 3 = 21\n",
            "7 X 4 = 28\n",
            "7 X 5 = 35\n",
            "7 X 6 = 42\n",
            "7 X 7 = 49\n",
            "7 X 8 = 56\n",
            "7 X 9 = 63\n",
            "8 단\n",
            "8 X 1 = 8\n",
            "8 X 2 = 16\n",
            "8 X 3 = 24\n",
            "8 X 4 = 32\n",
            "8 X 5 = 40\n",
            "8 X 6 = 48\n",
            "8 X 7 = 56\n",
            "8 X 8 = 64\n",
            "8 X 9 = 72\n",
            "9 단\n",
            "9 X 1 = 9\n",
            "9 X 2 = 18\n",
            "9 X 3 = 27\n",
            "9 X 4 = 36\n",
            "9 X 5 = 45\n",
            "9 X 6 = 54\n",
            "9 X 7 = 63\n",
            "9 X 8 = 72\n",
            "9 X 9 = 81\n"
          ]
        }
      ]
    }
  ]
}