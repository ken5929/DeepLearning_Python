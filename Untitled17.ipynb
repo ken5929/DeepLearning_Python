{
  "nbformat": 4,
  "nbformat_minor": 0,
  "metadata": {
    "colab": {
      "provenance": []
    },
    "kernelspec": {
      "name": "python3",
      "display_name": "Python 3"
    },
    "language_info": {
      "name": "python"
    }
  },
  "cells": [
    {
      "cell_type": "markdown",
      "source": [
        "# 리스트 자료형(list)\n",
        "\n",
        "**모든 종류의 자료형을 자유롭게 묶어서 사용할 수 있는 자료형의 묶음**\n",
        "\n",
        "리스트(list)\n",
        "\n",
        "[]             [1,2,3]      요소 변경 가능\n",
        "\n",
        "대괄호를 사용해 정의\n",
        "\n",
        "리스트 생성\n",
        "\n",
        "  my_list = [10, 20, 30, 40]\n",
        "\n",
        "빈 리스트 생성\n",
        "\n",
        "  my_list = []\n",
        "\n",
        "  my_list=list()"
      ],
      "metadata": {
        "id": "ITFT6VLEkeFt"
      }
    },
    {
      "cell_type": "code",
      "source": [
        "# 비어 있는 리스트 생성\n",
        "a = list()\n",
        "\n",
        "# 리스트를 직접 선언\n",
        "b = [1, \"문자열\", -0.5, '안녕']\n",
        "\n",
        "# b리스트를 c에 복사\n",
        "c = list(b)\n",
        "\n",
        "print(a)\n",
        "print(b)\n",
        "print(c)"
      ],
      "metadata": {
        "colab": {
          "base_uri": "https://localhost:8080/"
        },
        "id": "beOixtVbjKu1",
        "outputId": "fe39687f-4972-4cc1-a096-bcd206e2f187"
      },
      "execution_count": null,
      "outputs": [
        {
          "output_type": "stream",
          "name": "stdout",
          "text": [
            "[]\n",
            "[1, '문자열', -0.5, '안녕']\n",
            "[1, '문자열', -0.5, '안녕']\n"
          ]
        }
      ]
    },
    {
      "cell_type": "markdown",
      "source": [
        "# 리스트 인덱싱\n",
        "\n",
        "리스트도 문자열과 유사하게 인덱싱 및 슬라이싱이 가능하다.\n",
        "\n",
        "단, 문자열이나, 리스트 내부의 리스트도 하나의 요소로 취급한다.\n"
      ],
      "metadata": {
        "id": "tUhC0ivjlFm9"
      }
    },
    {
      "cell_type": "code",
      "source": [
        "a = [1, \"문자열\", -0.5, \"안녕\"]\n",
        "print(a)\n",
        "\n",
        "\n",
        "# c리스트 안에 있는 요소 'b'에 접근하는 방법\n",
        "c = [1, 2, 3, ['python', 'is', 'good', ['a', 'b', 'c']]]\n",
        "\n",
        "print(c[3][3][1])"
      ],
      "metadata": {
        "colab": {
          "base_uri": "https://localhost:8080/"
        },
        "id": "-0dWmhiTlWF1",
        "outputId": "17386576-ff7b-4e82-ce41-c58fb364eec3"
      },
      "execution_count": null,
      "outputs": [
        {
          "output_type": "stream",
          "name": "stdout",
          "text": [
            "[1, '문자열', -0.5, '안녕']\n",
            "b\n"
          ]
        }
      ]
    },
    {
      "cell_type": "markdown",
      "source": [
        "# 리스트슬라이싱    \n",
        "특정 인덱스를 사용하여 리스트나 문자열의 일부분을 잘라서 가져오기\n",
        "\n",
        "\n",
        "*   [시작 인덱스 : 끝 인덱스]\n",
        "\n",
        "\n",
        "시작 인덱스의 기본값은 0\n",
        "끝 인덱스는 포함되지 않음"
      ],
      "metadata": {
        "id": "xHA1x0RrgKwn"
      }
    },
    {
      "cell_type": "code",
      "source": [
        "b = [1, 2, 3, ['python', 'is', 'good', ['a', 'b', 'c']]]"
      ],
      "metadata": {
        "id": "pg2qRgMmmywF"
      },
      "execution_count": null,
      "outputs": []
    },
    {
      "cell_type": "markdown",
      "source": [
        "# 리스트 덧셈과 곱셈\n",
        "\n"
      ],
      "metadata": {
        "id": "dsB50aQHm5Gl"
      }
    },
    {
      "cell_type": "code",
      "source": [
        "a = [1, 2, 3]\n",
        "b = [4, 5, 6]\n",
        "\n",
        "#리스트 덧셈\n",
        "c = a + b\n",
        "print('a + b = ', c)\n",
        "\n",
        "#리스트 곱셈\n",
        "print('a * 3 = ', a*3)\n",
        "print('b * 4 = ', b*4)"
      ],
      "metadata": {
        "colab": {
          "base_uri": "https://localhost:8080/"
        },
        "id": "qEFkW3Aqm-Rl",
        "outputId": "c752cd3c-fab9-45f5-dcb5-dde16912ed56"
      },
      "execution_count": null,
      "outputs": [
        {
          "output_type": "stream",
          "name": "stdout",
          "text": [
            "a + b =  [1, 2, 3, 4, 5, 6]\n",
            "a * 3 =  [1, 2, 3, 1, 2, 3, 1, 2, 3]\n",
            "b * 4 =  [4, 5, 6, 4, 5, 6, 4, 5, 6, 4, 5, 6]\n"
          ]
        }
      ]
    },
    {
      "cell_type": "markdown",
      "source": [
        "# 리스트 관련 함수\n",
        "\n",
        "\n",
        "\n",
        "\n",
        "*   LEN()\n",
        "*   APPEND()\n",
        "*   SORT()\n",
        "*   REVERSE()\n",
        "*   INDEX()\n",
        "*   INSERT()\n",
        "*   REMOVE()\n",
        "*   POP()\n",
        "*   COUNT()\n",
        "*   EXTEND()\n",
        "\n",
        "\n",
        "\n",
        "\n",
        "\n"
      ],
      "metadata": {
        "id": "KxdoHcNJnXeN"
      }
    },
    {
      "cell_type": "markdown",
      "source": [
        "# LEN()\n",
        "\n",
        "리스트의 길이를 구하는 함수"
      ],
      "metadata": {
        "id": "2sPRSr1ine-9"
      }
    },
    {
      "cell_type": "code",
      "source": [
        "b = [1, 2, 3, ['python', 'is', 'good', ['a', 'b', 'c']]]\n",
        "\n",
        "print(len(b))               # ['python', 'is', 'good', ['a', 'b', 'c']] 1개의 요소로 취급\n",
        "print(len(b[3]))            # ['a', 'b', 'c'] 1개의 요소로 취급\n",
        "print(len(b[3][0]))         #'python'"
      ],
      "metadata": {
        "colab": {
          "base_uri": "https://localhost:8080/"
        },
        "id": "sD9hHpo-niUc",
        "outputId": "d70f3eb7-1e60-42c2-f34a-f8e505211ab4"
      },
      "execution_count": null,
      "outputs": [
        {
          "output_type": "stream",
          "name": "stdout",
          "text": [
            "4\n",
            "4\n",
            "6\n"
          ]
        }
      ]
    },
    {
      "cell_type": "markdown",
      "source": [
        "# INSERT()\n",
        "\n",
        "insert(a,b) 리스트의 a번째 위치에 b를 삽입하는 함수이다."
      ],
      "metadata": {
        "id": "C2vLi1CdsdbF"
      }
    },
    {
      "cell_type": "code",
      "source": [
        "# insert(위치, 값)으로 원하는 위치에 값을 삽입한다.\n",
        "\n",
        "a = [1,2,3,4,5]\n",
        "print(a)\n",
        "\n",
        "a.insert(0,6)\n",
        "print(a)\n"
      ],
      "metadata": {
        "colab": {
          "base_uri": "https://localhost:8080/"
        },
        "id": "DDMjKy4PsVuu",
        "outputId": "4aba0974-ed27-4c3c-cbd1-5c86cf716960"
      },
      "execution_count": null,
      "outputs": [
        {
          "output_type": "stream",
          "name": "stdout",
          "text": [
            "[1, 2, 3, 4, 5]\n",
            "[6, 1, 2, 3, 4, 5]\n"
          ]
        }
      ]
    },
    {
      "cell_type": "markdown",
      "source": [
        "# APPEND()\n",
        "\n",
        "리스트의 맨 마지막에 ()안에 값을 추가하는 함수이다."
      ],
      "metadata": {
        "id": "WarUyVek1eDu"
      }
    },
    {
      "cell_type": "code",
      "source": [
        "a = [1,2,3,4,5]\n",
        "print(a)\n",
        "\n",
        "a.append([6,7])\n",
        "print(a)"
      ],
      "metadata": {
        "colab": {
          "base_uri": "https://localhost:8080/"
        },
        "id": "W1zBoG6L2CO2",
        "outputId": "88804a99-0632-44a1-bf89-5c1ad3533d1e"
      },
      "execution_count": null,
      "outputs": [
        {
          "output_type": "stream",
          "name": "stdout",
          "text": [
            "[1, 2, 3, 4, 5]\n",
            "[1, 2, 3, 4, 5, [6, 7]]\n"
          ]
        }
      ]
    },
    {
      "cell_type": "markdown",
      "source": [
        "# SORT()\n",
        "\n",
        "리시트의 요소를 순서대로 정렬해 준다."
      ],
      "metadata": {
        "id": "dcn2DUIG2Qam"
      }
    },
    {
      "cell_type": "code",
      "source": [
        "a = [4,6,1,3,5]\n",
        "print(a)\n",
        "\n",
        "a.sort()\n",
        "print(a)"
      ],
      "metadata": {
        "colab": {
          "base_uri": "https://localhost:8080/"
        },
        "id": "28grbW2i2X12",
        "outputId": "98b39ca8-aa8a-4eb5-bb0f-c8500f15b7da"
      },
      "execution_count": null,
      "outputs": [
        {
          "output_type": "stream",
          "name": "stdout",
          "text": [
            "[4, 6, 1, 3, 5]\n",
            "[1, 3, 4, 5, 6]\n"
          ]
        }
      ]
    },
    {
      "cell_type": "markdown",
      "source": [
        "# REVERSE()\n",
        "\n",
        "리스트를 역순으로 뒤집어준다.\n",
        "\n",
        "* 리스트를 정렬한 다음 역순으로 정렬하는것이 아니라 현재의 리스트 그대로 거꾸로 뒤집는다.\n",
        "\n"
      ],
      "metadata": {
        "id": "KdMrR2W-2f92"
      }
    },
    {
      "cell_type": "code",
      "source": [
        "a = ['b', 'c', 'a', 'e']\n",
        "print(a)\n",
        "\n",
        "a.reverse()\n",
        "print(a)"
      ],
      "metadata": {
        "colab": {
          "base_uri": "https://localhost:8080/"
        },
        "id": "B_eaSW2S2vxO",
        "outputId": "e7c8f49c-c5af-415e-9d1e-04d26c0d2c7e"
      },
      "execution_count": null,
      "outputs": [
        {
          "output_type": "stream",
          "name": "stdout",
          "text": [
            "['b', 'c', 'a', 'e']\n",
            "['e', 'a', 'c', 'b']\n"
          ]
        }
      ]
    },
    {
      "cell_type": "markdown",
      "source": [
        "# INDEX()\n",
        "\n",
        "리스트에서 ()안에 들어간 값이 존재하면 인덱스 값을 리턴한다\n"
      ],
      "metadata": {
        "id": "-6Lg28hd26XO"
      }
    },
    {
      "cell_type": "code",
      "source": [
        "a = [1,2,3,4,5]\n",
        "print(a.index(2))\n",
        "\n",
        "print(a.index(4))"
      ],
      "metadata": {
        "colab": {
          "base_uri": "https://localhost:8080/"
        },
        "id": "-Ieq_o_I3K-e",
        "outputId": "be8b81c5-27fc-4df4-e807-0af6f0328a59"
      },
      "execution_count": null,
      "outputs": [
        {
          "output_type": "stream",
          "name": "stdout",
          "text": [
            "1\n",
            "3\n"
          ]
        }
      ]
    },
    {
      "cell_type": "markdown",
      "source": [
        "# EXTEND()\n",
        "\n",
        "리스트의 덧샘과 마찬가지로 원래의 리스트에 다른 리스트를 더하게 된다.\n"
      ],
      "metadata": {
        "id": "g9hTKJXQ3Y4O"
      }
    },
    {
      "cell_type": "code",
      "source": [
        "a = [1,2,3]\n",
        "print(a)\n",
        "\n",
        "a.extend([4,5])\n",
        "print(a)\n",
        "\n"
      ],
      "metadata": {
        "colab": {
          "base_uri": "https://localhost:8080/"
        },
        "id": "BQAC6mVn3tb2",
        "outputId": "7b7915e9-eb05-4a63-afb5-953e5ad43c09"
      },
      "execution_count": null,
      "outputs": [
        {
          "output_type": "stream",
          "name": "stdout",
          "text": [
            "[1, 2, 3]\n",
            "[1, 2, 3, 4, 5]\n"
          ]
        }
      ]
    },
    {
      "cell_type": "markdown",
      "source": [
        "# REMOVE()\n",
        "\n",
        "리스트의 원하는 요소(값) 제거\n",
        "\n",
        "\n",
        "*   중복된 값이 있을 때, 첫 번째 값만 제거한다.\n",
        "\n"
      ],
      "metadata": {
        "id": "cXsxqBqrscz9"
      }
    },
    {
      "cell_type": "code",
      "source": [
        "a = [1,2,3,1,4,5]\n",
        "print(a)\n",
        "\n",
        "a.remove(1)\n",
        "print(a)\n",
        "\n",
        "a.remove(3)\n",
        "print(a)"
      ],
      "metadata": {
        "colab": {
          "base_uri": "https://localhost:8080/"
        },
        "id": "ThAD71QPsnbl",
        "outputId": "1508a7ad-921d-4dee-b734-29661c76ef99"
      },
      "execution_count": null,
      "outputs": [
        {
          "output_type": "stream",
          "name": "stdout",
          "text": [
            "[1, 2, 3, 1, 4, 5]\n",
            "[2, 3, 1, 4, 5]\n",
            "[2, 1, 4, 5]\n"
          ]
        }
      ]
    },
    {
      "cell_type": "markdown",
      "source": [
        "# POP()\n",
        "\n",
        "리스트의 특정 위치에 있는 요소 '추출'하기"
      ],
      "metadata": {
        "id": "bEl2yLAWsyud"
      }
    },
    {
      "cell_type": "code",
      "source": [
        "a = [1,2,3,4,5]\n",
        "print(a)\n",
        "\n",
        "b = a.pop(2)\n",
        "print(a)\n",
        "print(b)"
      ],
      "metadata": {
        "colab": {
          "base_uri": "https://localhost:8080/"
        },
        "id": "mspCmKbHs3b-",
        "outputId": "a6143ab1-ec94-41b3-ed30-261eeba9581f"
      },
      "execution_count": null,
      "outputs": [
        {
          "output_type": "stream",
          "name": "stdout",
          "text": [
            "[1, 2, 3, 4, 5]\n",
            "[1, 2, 4, 5]\n",
            "3\n"
          ]
        }
      ]
    },
    {
      "cell_type": "markdown",
      "source": [
        "# COUNT()\n",
        "\n",
        "리스트에 있는 원하는 요소의 개수 세기"
      ],
      "metadata": {
        "id": "VaNphZ-StO4-"
      }
    },
    {
      "cell_type": "code",
      "source": [
        "a = [12,3,4,5,1,2.2,45,2,1,3,4,2]\n",
        "print(a)\n",
        "\n",
        "print(a.count(2))             # a리스트 안에 있는 요소 2의 개수를 세서 출력"
      ],
      "metadata": {
        "colab": {
          "base_uri": "https://localhost:8080/"
        },
        "id": "owMjWp-otSyu",
        "outputId": "b174c5c2-c265-49f2-e3f1-dd4884b714cb"
      },
      "execution_count": null,
      "outputs": [
        {
          "output_type": "stream",
          "name": "stdout",
          "text": [
            "[12, 3, 4, 5, 1, 2.2, 45, 2, 1, 3, 4, 2]\n",
            "2\n"
          ]
        }
      ]
    },
    {
      "cell_type": "markdown",
      "source": [
        "# 튜플 자료형\n",
        "\n",
        "리스트와 마찬가지로, 모든 자료형을 담을 수 있는 자료형.\n",
        "\n",
        "튜플은 한번 생성하면 값의 변경, 삭제가 불가능하다."
      ],
      "metadata": {
        "id": "-Vl4ERdZthMG"
      }
    },
    {
      "cell_type": "code",
      "source": [
        "# 모든 자료형을 담을 수 있는 자료형\n",
        "t1 = (1, 2, 3, ('python', 'is', 'good', ('a', 'b', 'c')))\n",
        "print(t1)\n",
        "\n",
        "#튜플 내부에 요소가 하나만 존재할 때 맨 뒤에,를 붙인다\n",
        "t2 = (1,)\n",
        "print(t2)\n",
        "\n",
        "#튜플 생성시 ()를 생략해도 가능하다.\n",
        "t3 = 1,2,3\n",
        "print(t3)\n",
        "\n",
        "# 1. 튜플 인덱싱\n",
        "# 2. 튜플 슬라이싱\n",
        "# 3. 튜플 더하기\n",
        "# 4. 튜플 곱하기\n",
        "# 5. LEN() 함수\n",
        "\n",
        "# 위 함수는 사용이 가능하다."
      ],
      "metadata": {
        "colab": {
          "base_uri": "https://localhost:8080/"
        },
        "id": "uYNvygT8tgJu",
        "outputId": "f3ad4395-7195-432c-a632-7ab651e1ff4c"
      },
      "execution_count": null,
      "outputs": [
        {
          "output_type": "stream",
          "name": "stdout",
          "text": [
            "(1, 2, 3, ('python', 'is', 'good', ('a', 'b', 'c')))\n",
            "(1,)\n",
            "(1, 2, 3)\n"
          ]
        }
      ]
    },
    {
      "cell_type": "markdown",
      "source": [
        "# 튜플 인덱싱"
      ],
      "metadata": {
        "id": "m5Wmk7cF40ym"
      }
    },
    {
      "cell_type": "code",
      "source": [
        "t1 = (1, 2, 3, ('python', 'is', 'good', ('a', 'b', 'c')))\n",
        "\n",
        "print(t1[0])\n",
        "\n",
        "print(t1[3])"
      ],
      "metadata": {
        "colab": {
          "base_uri": "https://localhost:8080/"
        },
        "id": "SQHOm08Q4-7W",
        "outputId": "92b20995-6d63-4b6d-9499-5c525b14b935"
      },
      "execution_count": null,
      "outputs": [
        {
          "output_type": "stream",
          "name": "stdout",
          "text": [
            "1\n",
            "('python', 'is', 'good', ('a', 'b', 'c'))\n"
          ]
        }
      ]
    },
    {
      "cell_type": "markdown",
      "source": [
        "# 튜플 슬라이싱"
      ],
      "metadata": {
        "id": "hWu6G4Ay5H4-"
      }
    },
    {
      "cell_type": "code",
      "source": [
        "t1 = (1, 2, 3, ('python', 'is', 'good', ('a', 'b', 'c')))\n",
        "\n",
        "print(t1[2:])"
      ],
      "metadata": {
        "colab": {
          "base_uri": "https://localhost:8080/"
        },
        "id": "iCOZPrJP5J8m",
        "outputId": "1842c0ca-bdbe-4bf8-b442-1c0224fec3b5"
      },
      "execution_count": null,
      "outputs": [
        {
          "output_type": "stream",
          "name": "stdout",
          "text": [
            "(3, ('python', 'is', 'good', ('a', 'b', 'c')))\n"
          ]
        }
      ]
    },
    {
      "cell_type": "markdown",
      "source": [
        "# 튜플 더하기"
      ],
      "metadata": {
        "id": "6kk2w_eM5RZX"
      }
    },
    {
      "cell_type": "code",
      "source": [
        "t1 = (1, 2, 3, ('python', 'is', 'good', ('a', 'b', 'c')))\n",
        "t2 = 3,4\n",
        "\n",
        "print(t1)\n",
        "print(t2)\n",
        "\n",
        "t3 = t1 + t2\n",
        "print(t3)\n"
      ],
      "metadata": {
        "colab": {
          "base_uri": "https://localhost:8080/"
        },
        "id": "SnZDD7TP5S-e",
        "outputId": "73eea707-b4b8-4167-f4c6-8d02713ed742"
      },
      "execution_count": null,
      "outputs": [
        {
          "output_type": "stream",
          "name": "stdout",
          "text": [
            "(1, 2, 3, ('python', 'is', 'good', ('a', 'b', 'c')))\n",
            "(3, 4)\n",
            "(1, 2, 3, ('python', 'is', 'good', ('a', 'b', 'c')), 3, 4)\n"
          ]
        }
      ]
    },
    {
      "cell_type": "markdown",
      "source": [
        "# 튜플 곱하기"
      ],
      "metadata": {
        "id": "3pNmSqvi5dd2"
      }
    },
    {
      "cell_type": "code",
      "source": [
        "t1 = (1, 2, 3, ('python', 'is', 'good', ('a', 'b', 'c')))\n",
        "t2 = t1 * 3\n",
        "\n",
        "print(t1)\n",
        "print(t2)"
      ],
      "metadata": {
        "colab": {
          "base_uri": "https://localhost:8080/"
        },
        "id": "EKjIKke25e7P",
        "outputId": "01275da6-1843-4694-f97d-632d4a27b6cd"
      },
      "execution_count": null,
      "outputs": [
        {
          "output_type": "stream",
          "name": "stdout",
          "text": [
            "(1, 2, 3, ('python', 'is', 'good', ('a', 'b', 'c')))\n",
            "(1, 2, 3, ('python', 'is', 'good', ('a', 'b', 'c')), 1, 2, 3, ('python', 'is', 'good', ('a', 'b', 'c')), 1, 2, 3, ('python', 'is', 'good', ('a', 'b', 'c')))\n"
          ]
        }
      ]
    },
    {
      "cell_type": "markdown",
      "source": [
        "# 튜플 길이구하기"
      ],
      "metadata": {
        "id": "hsy4De3n5xFv"
      }
    },
    {
      "cell_type": "code",
      "source": [
        "t1 = (1, 2, 3, ('python', 'is', 'good', ('a', 'b', 'c')))\n",
        "\n",
        "len(t1)"
      ],
      "metadata": {
        "colab": {
          "base_uri": "https://localhost:8080/"
        },
        "id": "dVQ9Xz8r52Pu",
        "outputId": "5e895f1a-12ac-426e-8d54-3e3e63be17c8"
      },
      "execution_count": null,
      "outputs": [
        {
          "output_type": "execute_result",
          "data": {
            "text/plain": [
              "4"
            ]
          },
          "metadata": {},
          "execution_count": 26
        }
      ]
    },
    {
      "cell_type": "markdown",
      "source": [
        "# 불 자료형(BOOL)\n",
        "\n",
        "True(참), False(거짓)의 값만을 갖는 자료형"
      ],
      "metadata": {
        "id": "5Y3-l6RbuJVx"
      }
    },
    {
      "cell_type": "code",
      "source": [
        "a = True\n",
        "b = False\n",
        "\n",
        "print(type(a))\n",
        "print(type(b))"
      ],
      "metadata": {
        "colab": {
          "base_uri": "https://localhost:8080/"
        },
        "id": "oSz_fXwQuQud",
        "outputId": "def79c13-5b06-4d85-a66a-2e37a9c4c03e"
      },
      "execution_count": null,
      "outputs": [
        {
          "output_type": "stream",
          "name": "stdout",
          "text": [
            "<class 'bool'>\n",
            "<class 'bool'>\n"
          ]
        }
      ]
    },
    {
      "cell_type": "markdown",
      "source": [
        "# 논리 연산자\n",
        "\n",
        "\n",
        "\n",
        "*   == 두 값이 같을 때 참을 반환\n",
        "*   != 두 값이 다를 때 참을 반환\n",
        "*   < 비교값보다 작을 때 참을 반환\n",
        "*   '>' 비교값보다 클 때 참을 반환\n",
        "*   <= 비교값보다 작거나 같을 때 참을 반환\n",
        "*   '>=' 비교값보다 크거나 같을 때 참을 반환\n",
        "\n"
      ],
      "metadata": {
        "id": "uh49a1n_ubKu"
      }
    },
    {
      "cell_type": "code",
      "source": [
        "# 함수 생성\n",
        "a = 5\n",
        "b = 3\n",
        "c = 5\n",
        "\n",
        "# ==\n",
        "print(a==b)\n",
        "print(a==c)\n",
        "print()\n",
        "\n",
        "# !=\n",
        "print(a!=b)\n",
        "print(a!=c)\n",
        "print()\n",
        "\n",
        "# <\n",
        "print(a<b)\n",
        "print(a<c)\n",
        "print()\n",
        "\n",
        "# >\n",
        "print(a>b)\n",
        "print(a>c)\n",
        "print()\n",
        "\n",
        "# <=\n",
        "print(a<=b)\n",
        "print(a<=c)\n",
        "print()\n",
        "\n",
        "# >=\n",
        "print(a>=b)\n",
        "print(a>=c)"
      ],
      "metadata": {
        "colab": {
          "base_uri": "https://localhost:8080/"
        },
        "id": "gjH_eE79ueku",
        "outputId": "6603c2fc-404d-4e5d-8364-79aca44cbd04"
      },
      "execution_count": null,
      "outputs": [
        {
          "output_type": "stream",
          "name": "stdout",
          "text": [
            "False\n",
            "True\n",
            "\n",
            "True\n",
            "False\n",
            "\n",
            "False\n",
            "False\n",
            "\n",
            "True\n",
            "False\n",
            "\n",
            "False\n",
            "True\n",
            "\n",
            "True\n",
            "True\n"
          ]
        }
      ]
    },
    {
      "cell_type": "markdown",
      "source": [
        "# 딕셔너리 자료형\n",
        "\n",
        "사전, key와 Value를 한 쌍으로 가지는 자료형.\n",
        "\n",
        "*   순차적으로 접근하지 않고, 오직 Key를 통해서 Value값에 접근.\n",
        "*   순서가 없기 때문에, 인덱싱 및 슬라이싱이 불가능.\n",
        "*   Key값은 고유한 값이므로, 중복되는 Key값을 사용하면 안됨.\n",
        "\n",
        "\n",
        "\n"
      ],
      "metadata": {
        "id": "Mcyq_Di6up1l"
      }
    },
    {
      "cell_type": "code",
      "source": [
        "dic = {'사과' : 'apple', '바나나' : 'banana', '메론' : 'melon', '복숭아' : 'peach'}\n",
        "dic1 = {'a' : [1,2,3]}                                                                    # Value값에 리스트를 넣을 수 도 있다.\n",
        "\n",
        "print(dic)\n",
        "print(dic1)"
      ],
      "metadata": {
        "colab": {
          "base_uri": "https://localhost:8080/"
        },
        "id": "3sVrXrKsu6Xe",
        "outputId": "8f03bab3-45f4-45cc-c031-81baa046ad1d"
      },
      "execution_count": null,
      "outputs": [
        {
          "output_type": "stream",
          "name": "stdout",
          "text": [
            "{'사과': 'apple', '바나나': 'banana', '메론': 'melon', '복숭아': 'peach'}\n",
            "{'a': [1, 2, 3]}\n"
          ]
        }
      ]
    },
    {
      "cell_type": "markdown",
      "source": [
        "# 딕셔너리 추가 및 삭제\n",
        "\n",
        "딕셔너리 쌍 추가\n",
        "딕셔너리의 키와 값을 변수에 그대로 대입한다.\n",
        "\n",
        "*   변수명[Key] = Value\n",
        "\n",
        "딕셔너리 요소 삭제\n",
        "del 키워드를 사용하여 요소를 삭제한다.\n",
        "\n",
        "\n",
        "*   del 변수명[Key]\n",
        "\n",
        "\n"
      ],
      "metadata": {
        "id": "zIezQjZIvIZ2"
      }
    },
    {
      "cell_type": "code",
      "source": [
        "# 딕셔너리 생성\n",
        "a = {1: 'a'}\n",
        "a[2] = 'b'\n",
        "\n",
        "print(a)\n",
        "\n",
        "#딕셔너리에 쌍추가\n",
        "a['name'] = 'rey'\n",
        "print(a)\n",
        "\n",
        "#한쌍 더 추가\n",
        "a[3] = [1,2,3]\n",
        "print(a)\n",
        "\n",
        "#딕셔너리 요소 삭제하기\n",
        "del a[1]\n",
        "print(a)"
      ],
      "metadata": {
        "colab": {
          "base_uri": "https://localhost:8080/"
        },
        "id": "C7PQYo75vagm",
        "outputId": "6d89145a-653f-41be-f712-2f1884e67755"
      },
      "execution_count": null,
      "outputs": [
        {
          "output_type": "stream",
          "name": "stdout",
          "text": [
            "{1: 'a', 2: 'b'}\n",
            "{1: 'a', 2: 'b', 'name': 'rey'}\n",
            "{1: 'a', 2: 'b', 'name': 'rey', 3: [1, 2, 3]}\n",
            "{2: 'b', 'name': 'rey', 3: [1, 2, 3]}\n"
          ]
        }
      ]
    },
    {
      "cell_type": "markdown",
      "source": [
        "# 딕셔너리 관련 함수\n",
        "\n",
        "\n",
        "*   KEYS()\n",
        "*   VALUES()\n",
        "*   ITEMS()\n",
        "*   CLEAR()\n",
        "*   GET()\n",
        "*   IN()\n",
        "\n",
        "\n",
        "\n"
      ],
      "metadata": {
        "id": "seoJHjFW8WYX"
      }
    },
    {
      "cell_type": "markdown",
      "source": [
        "# keys()\n",
        "\n",
        "딕셔너리의 Key만을 모아서 리턴해준다."
      ],
      "metadata": {
        "id": "tqXWMUpg8vIX"
      }
    },
    {
      "cell_type": "code",
      "source": [
        "dic = {'사과' : 'apple', '바나나' : 'banana', '메론' : 'melon', '복숭아' : 'peach'}\n",
        "\n",
        "print(dic.keys())"
      ],
      "metadata": {
        "colab": {
          "base_uri": "https://localhost:8080/"
        },
        "id": "YexTom9L8mAv",
        "outputId": "47f75445-f63a-4a44-87ef-73d114703bc5"
      },
      "execution_count": null,
      "outputs": [
        {
          "output_type": "stream",
          "name": "stdout",
          "text": [
            "dict_keys(['사과', '바나나', '메론', '복숭아'])\n"
          ]
        }
      ]
    },
    {
      "cell_type": "markdown",
      "source": [
        "# values()\n",
        "\n",
        "딕셔너리의 Value값만을 모아서 리턴해준다."
      ],
      "metadata": {
        "id": "uKG3AJcS89YP"
      }
    },
    {
      "cell_type": "code",
      "source": [
        "dic = {'사과' : 'apple', '바나나' : 'banana', '메론' : 'melon', '복숭아' : 'peach'}\n",
        "\n",
        "print(dic.values())"
      ],
      "metadata": {
        "colab": {
          "base_uri": "https://localhost:8080/"
        },
        "id": "ACVNR_tG9EAn",
        "outputId": "91c6fe0e-55b4-4fe8-8d81-298fdb2935d9"
      },
      "execution_count": null,
      "outputs": [
        {
          "output_type": "stream",
          "name": "stdout",
          "text": [
            "dict_values(['apple', 'banana', 'melon', 'peach'])\n"
          ]
        }
      ]
    },
    {
      "cell_type": "markdown",
      "source": [
        "# items()\n",
        "\n",
        "딕셔너리의 Key와 Value값을 모두 리턴한다"
      ],
      "metadata": {
        "id": "x3zeoNf89Hbf"
      }
    },
    {
      "cell_type": "code",
      "source": [
        "dic = {'사과' : 'apple', '바나나' : 'banana', '메론' : 'melon', '복숭아' : 'peach'}\n",
        "\n",
        "print(dic.items())"
      ],
      "metadata": {
        "colab": {
          "base_uri": "https://localhost:8080/"
        },
        "id": "C-1SkvR-9Mh4",
        "outputId": "2be0c14e-d648-4c7f-d942-6ec2a6f9a5de"
      },
      "execution_count": null,
      "outputs": [
        {
          "output_type": "stream",
          "name": "stdout",
          "text": [
            "dict_items([('사과', 'apple'), ('바나나', 'banana'), ('메론', 'melon'), ('복숭아', 'peach')])\n"
          ]
        }
      ]
    },
    {
      "cell_type": "markdown",
      "source": [
        "# clear()\n",
        "\n",
        "딕셔너리에 저장된 key값과 value값을 모두 지운다"
      ],
      "metadata": {
        "id": "GSIrSr0K9QrP"
      }
    },
    {
      "cell_type": "code",
      "source": [
        "dic = {'사과' : 'apple', '바나나' : 'banana', '메론' : 'melon', '복숭아' : 'peach'}\n",
        "\n",
        "print(dic)\n",
        "\n",
        "dic.clear()\n",
        "\n",
        "print(dic)"
      ],
      "metadata": {
        "colab": {
          "base_uri": "https://localhost:8080/"
        },
        "id": "J0cP8Ya79Yi-",
        "outputId": "732cbf9a-4193-4045-e388-7ac20cfb271d"
      },
      "execution_count": null,
      "outputs": [
        {
          "output_type": "stream",
          "name": "stdout",
          "text": [
            "{'사과': 'apple', '바나나': 'banana', '메론': 'melon', '복숭아': 'peach'}\n",
            "{}\n"
          ]
        }
      ]
    },
    {
      "cell_type": "markdown",
      "source": [
        "# get()\n",
        "\n",
        "Key값을 활요해서 Value값을 가져 올 수 있다."
      ],
      "metadata": {
        "id": "IZKUkHjp9h4e"
      }
    },
    {
      "cell_type": "code",
      "source": [
        "dic = {'사과' : 'apple', '바나나' : 'banana', '메론' : 'melon', '복숭아' : 'peach'}\n",
        "\n",
        "print(dic.get('사과'))\n"
      ],
      "metadata": {
        "colab": {
          "base_uri": "https://localhost:8080/"
        },
        "id": "z72b4fHA9plX",
        "outputId": "c4b6b80a-a31a-44fb-8c34-ed08cc2b3b42"
      },
      "execution_count": null,
      "outputs": [
        {
          "output_type": "stream",
          "name": "stdout",
          "text": [
            "apple\n"
          ]
        }
      ]
    },
    {
      "cell_type": "markdown",
      "source": [
        "# in()\n",
        "\n",
        "해당 Key가 딕셔너리 안에 있는지 확인하기"
      ],
      "metadata": {
        "id": "27OSGcT29x73"
      }
    },
    {
      "cell_type": "code",
      "source": [
        "dic = {'사과' : 'apple', '바나나' : 'banana', '메론' : 'melon', '복숭아' : 'peach'}\n",
        "\n",
        "print('사과' in dic)\n",
        "print('오렌지' in dic)"
      ],
      "metadata": {
        "colab": {
          "base_uri": "https://localhost:8080/"
        },
        "id": "rprEIpvO916Y",
        "outputId": "ed909211-614e-4190-ca60-7c0ba49bb5df"
      },
      "execution_count": null,
      "outputs": [
        {
          "output_type": "stream",
          "name": "stdout",
          "text": [
            "True\n",
            "False\n"
          ]
        }
      ]
    },
    {
      "cell_type": "markdown",
      "source": [
        "# 집합 자료형\n",
        "\n",
        "집합(set)과 관련된 것을 처리하기 위해 만든 자료형\n",
        "\n",
        "*   변수명 = set()\n",
        "*   변수명 = set([1, 2, 3)\n",
        "*   변수명 = set(\"python\")\n",
        "\n",
        "1. 중복을 허용하지 않는다\n",
        "2. 순서가 없다."
      ],
      "metadata": {
        "id": "WdhWisFHxtFw"
      }
    },
    {
      "cell_type": "code",
      "source": [
        "# 집합의 생성\n",
        "s1 = set([1, 2, 3])\n",
        "\n",
        "print(s1)\n",
        "\n",
        "# 집합의 인덱싱을 사용하가 위해 리스트로 변환\n",
        "l1 = list(s1)\n",
        "print(l1)\n",
        "print(l1[1])\n",
        "\n",
        "# 집합을 튜플로 변환\n",
        "\n",
        "t1 = tuple(s1)\n",
        "print(t1)\n",
        "print(t1[0])"
      ],
      "metadata": {
        "colab": {
          "base_uri": "https://localhost:8080/"
        },
        "id": "UvRd-hhtyPz-",
        "outputId": "428d2fd7-ef6f-49c6-9eec-dfc6ece8a52e"
      },
      "execution_count": null,
      "outputs": [
        {
          "output_type": "stream",
          "name": "stdout",
          "text": [
            "{1, 2, 3}\n",
            "[1, 2, 3]\n",
            "2\n",
            "(1, 2, 3)\n",
            "1\n"
          ]
        }
      ]
    },
    {
      "cell_type": "markdown",
      "source": [
        "# 집합 연산\n",
        "\n",
        "\n",
        "*   교집합 &\n",
        "*   합집합 |\n",
        "*   차집합 -\n",
        "\n"
      ],
      "metadata": {
        "id": "Dyd_qteDyoVt"
      }
    },
    {
      "cell_type": "code",
      "source": [
        "# 집합 생성\n",
        "s1 = set([1, 2, 3, 4, 5, 6])\n",
        "s2 = set([4, 5, 6, 7, 8, 9])\n",
        "\n",
        "# 교집합 구하기\n",
        "print(s1 & s2)\n",
        "\n",
        "# 합집합 구하기\n",
        "print(s1|s2)\n",
        "\n",
        "# 차집합 구하기\n",
        "print(s1-s2)\n",
        "\n"
      ],
      "metadata": {
        "colab": {
          "base_uri": "https://localhost:8080/"
        },
        "id": "OWoIR0xC-q4_",
        "outputId": "061db75c-ea18-43d6-94cc-390a6a55c85c"
      },
      "execution_count": null,
      "outputs": [
        {
          "output_type": "stream",
          "name": "stdout",
          "text": [
            "{4, 5, 6}\n",
            "{1, 2, 3, 4, 5, 6, 7, 8, 9}\n",
            "{1, 2, 3}\n"
          ]
        }
      ]
    },
    {
      "cell_type": "markdown",
      "source": [
        "# 집합 관련 함수\n",
        "\n",
        "*   ADD()\n",
        "*   UPDATE()\n",
        "*   REMOVE()\n",
        "\n"
      ],
      "metadata": {
        "id": "KatVzQeJ_FBn"
      }
    },
    {
      "cell_type": "markdown",
      "source": [
        "# add() 함수\n",
        "이미 만들어진 자료형에 값을 추가 할 수 있다."
      ],
      "metadata": {
        "id": "g6V4Cjn2_UkW"
      }
    },
    {
      "cell_type": "code",
      "source": [
        "# 집합 생성\n",
        "s1 = set([1,2,3,4,5])\n",
        "print(s1)\n",
        "\n",
        "# 값 추가\n",
        "s1.add(7)\n",
        "print(s1)"
      ],
      "metadata": {
        "colab": {
          "base_uri": "https://localhost:8080/"
        },
        "id": "ZFZa_9U6_Lan",
        "outputId": "4682521d-fe9b-4cee-ba3a-d38c320fbaf3"
      },
      "execution_count": null,
      "outputs": [
        {
          "output_type": "stream",
          "name": "stdout",
          "text": [
            "{1, 2, 3, 4, 5}\n",
            "{1, 2, 3, 4, 5, 7}\n"
          ]
        }
      ]
    },
    {
      "cell_type": "markdown",
      "source": [
        "# update() 함수\n",
        "\n",
        "여러개의 값을 한번에 추가 할 때 사용한다."
      ],
      "metadata": {
        "id": "Hsw1ckJ3_Ziu"
      }
    },
    {
      "cell_type": "code",
      "source": [
        "# 집합 생성\n",
        "s1 = set([1,2,3,4,5])\n",
        "print(s1)\n",
        "\n",
        "# 값 여러개 추가\n",
        "s1.update([6,7,8,9])\n",
        "print(s1)"
      ],
      "metadata": {
        "colab": {
          "base_uri": "https://localhost:8080/"
        },
        "id": "dGi8eEOy_c3_",
        "outputId": "079c8602-dd33-4648-ece2-9876d5c78a0e"
      },
      "execution_count": null,
      "outputs": [
        {
          "output_type": "stream",
          "name": "stdout",
          "text": [
            "{1, 2, 3, 4, 5}\n",
            "{1, 2, 3, 4, 5, 6, 7, 8, 9}\n"
          ]
        }
      ]
    },
    {
      "cell_type": "markdown",
      "source": [
        "# remove() 함수\n",
        "\n",
        "특정 값을 제거 하고 싶을 때 사용한다"
      ],
      "metadata": {
        "id": "bZFypXsG_uxn"
      }
    },
    {
      "cell_type": "code",
      "source": [
        "# 집합 생성\n",
        "s1 = set([1,2,3,4,5,67])\n",
        "print(s1)\n",
        "\n",
        "# 값 제거\n",
        "s1.remove(67)\n",
        "print(s1)"
      ],
      "metadata": {
        "colab": {
          "base_uri": "https://localhost:8080/"
        },
        "id": "kPRxVcSE_1Rv",
        "outputId": "ad35f1a8-5c02-467d-b410-50874541e85f"
      },
      "execution_count": null,
      "outputs": [
        {
          "output_type": "stream",
          "name": "stdout",
          "text": [
            "{1, 2, 3, 4, 5, 67}\n",
            "{1, 2, 3, 4, 5}\n"
          ]
        }
      ]
    },
    {
      "cell_type": "markdown",
      "source": [
        "# 조건문\n",
        "\n",
        "*   특정 조건을 평가하고, 그 조건에 따라 다른 코드를 실행한다.\n",
        "\n",
        "- if 문 : 주어진 조건이 참(True)일 경우에만 특정 코드를 실행\n",
        "\n",
        "- else 문 : if 문의 조건이 거짓(False)일 경우에 실행\n",
        "\n",
        "- elif문 : 첫 번째 if 조건이 거짓이고, 다른 조건을 평가하고자 할 때 실행\n"
      ],
      "metadata": {
        "id": "XnjIDFj1U3-b"
      }
    },
    {
      "cell_type": "code",
      "source": [
        "# 사용자의 문자 입력 받기\n",
        "character = input(\"문자를 입력하세요 : \")\n",
        "\n",
        "# 입력한 문자가 'a'인지 판별\n",
        "if character == 'a':\n",
        "  print(\"입력 받은 문자는 'a'입니다.\")\n",
        "else :\n",
        "  print(\"입력 받은 문자는 'a'가 아닙니다.\")"
      ],
      "metadata": {
        "colab": {
          "base_uri": "https://localhost:8080/"
        },
        "id": "XmAk73yCWM0T",
        "outputId": "2d84d2f0-18c6-418e-d1b0-00afdd08633c"
      },
      "execution_count": 56,
      "outputs": [
        {
          "output_type": "stream",
          "name": "stdout",
          "text": [
            "문자를 입력하세요 : b\n",
            "입력 받은 문자는 'a'가 아닙니다.\n"
          ]
        }
      ]
    },
    {
      "cell_type": "code",
      "source": [
        "a = False\n",
        "\n",
        "if a:\n",
        "  print(\"a는 True입니다.\")\n",
        "  print(\"if 문에 속해있는 문장입니다.\")\n",
        "else:\n",
        "  print(\"a는 False입니다.\")\n",
        "  print(\"else문에 속해있는 문장입니다.\")\n",
        "  # else문이 들여쓰기를 통해 끝이 났음을 보여줌\n",
        "print(\"테스트용 문장\")"
      ],
      "metadata": {
        "colab": {
          "base_uri": "https://localhost:8080/"
        },
        "id": "8nmaL2J5XPOD",
        "outputId": "499a6164-e439-4e89-a23e-6139f969dbe8"
      },
      "execution_count": 61,
      "outputs": [
        {
          "output_type": "stream",
          "name": "stdout",
          "text": [
            "a는 False입니다.\n",
            "else문에 속해있는 문장입니다.\n",
            "테스트용 문장\n"
          ]
        }
      ]
    },
    {
      "cell_type": "code",
      "source": [
        "# 수학점수와 영어줌수가 모두 60점 이상이면 합격을 통보\n",
        "# and 연산자 : true, true → true\n",
        "\n",
        "math = 70\n",
        "eng = 60\n",
        "\n",
        "# 하나라도 Flase면, False → 둘다 True 여면 True\n",
        "if math and eng >= 60:\n",
        "  print(\"합격\")\n",
        "else:\n",
        "  print(\"불합격\")\n"
      ],
      "metadata": {
        "colab": {
          "base_uri": "https://localhost:8080/"
        },
        "id": "2pCAQI25YHWK",
        "outputId": "a4e6f538-bd40-457e-ed6f-0c7289fb9672"
      },
      "execution_count": 63,
      "outputs": [
        {
          "output_type": "stream",
          "name": "stdout",
          "text": [
            "합격\n"
          ]
        }
      ]
    },
    {
      "cell_type": "markdown",
      "source": [
        "# IN연산자\n",
        "\n",
        "문자열, 리스트, 튜플에 원하는 원소가 있는지 확인하는 연산자\n"
      ],
      "metadata": {
        "id": "WPOrxjk4YjMr"
      }
    },
    {
      "cell_type": "code",
      "source": [
        "list1 = [1,2,3,4,5]\n",
        "tuple1 = (2,3,4,5)\n",
        "\n",
        "print(1 in list1)\n",
        "print(1 in tuple1)"
      ],
      "metadata": {
        "colab": {
          "base_uri": "https://localhost:8080/"
        },
        "id": "vEaUTRhXYoST",
        "outputId": "b9b03a1a-9b95-4447-d61c-d28f6eda7aac"
      },
      "execution_count": 62,
      "outputs": [
        {
          "output_type": "stream",
          "name": "stdout",
          "text": [
            "True\n",
            "False\n"
          ]
        }
      ]
    },
    {
      "cell_type": "code",
      "source": [
        "# 만약에 주머니에 돈이 있으면 택시를 타고, 없으면 걸어가라고 명령\n",
        "\n",
        "pocket = ['phone', 'wallet', 'money', 'IDcard']\n",
        "\n",
        "# in 사용시\n",
        "if ('money' in pocket):\n",
        "  print(\"택시를 타자!\")\n",
        "else:\n",
        "  print(\"걸어서 가자!\")\n",
        "\n",
        "# not in 사용시\n",
        "if ('money' not in pocket):\n",
        "  print(\"걸어서 가자!\")\n",
        "else:\n",
        "  print(\"택시를 타자!\")"
      ],
      "metadata": {
        "colab": {
          "base_uri": "https://localhost:8080/"
        },
        "id": "UmnhqfMLY9Wj",
        "outputId": "04e11f0c-d162-44e5-95e1-96c66203afce"
      },
      "execution_count": 65,
      "outputs": [
        {
          "output_type": "stream",
          "name": "stdout",
          "text": [
            "택시를 타자!\n",
            "택시를 타자!\n"
          ]
        }
      ]
    },
    {
      "cell_type": "code",
      "source": [
        "# 만약 주머니에 돈이 있거나 카드가 있으면 택시를 타고, 없으면 걸어가라고 명령.\n",
        "\n",
        "pocket = ['phone', 'card', 'money', 'IDcard']\n",
        "\n",
        "if('money' in pocket):\n",
        "  print(\"택시를 타자\")\n",
        "elif('card'in pocket):\n",
        "  print(\"택시를 타자\")\n",
        "else:\n",
        "  print(\"걸어서 돌아가자\")\n",
        "\n",
        "# 논리 연산자 사용 경우\n",
        "\n",
        "if ('money' in pocket or 'card' in pocket):\n",
        "  print(\"택시를 타자\")\n",
        "else:\n",
        "  print(\"걸어서 돌아가자\")"
      ],
      "metadata": {
        "colab": {
          "base_uri": "https://localhost:8080/"
        },
        "id": "VL4Qp0GxaqBD",
        "outputId": "a41b16ec-b528-447a-c9ef-c8338426c440"
      },
      "execution_count": 66,
      "outputs": [
        {
          "output_type": "stream",
          "name": "stdout",
          "text": [
            "택시를 타자\n",
            "택시를 타자\n"
          ]
        }
      ]
    },
    {
      "cell_type": "markdown",
      "source": [
        "# 점수에 따른 등급 부여 문제\n",
        "\n",
        "학생들에게 점수에 따라서 등급을 부여하려고 한다.\n",
        "\n",
        "90점 이상일 경우 A등급\n",
        "\n",
        "80점 이상일 경우 B등급\n",
        "\n",
        "70점 이상일 경우 C등급\n",
        "\n",
        "70점 미만일 경우에는 D등급을 부여하는 코드를 작성하시오."
      ],
      "metadata": {
        "id": "cxOKsuIth2Kk"
      }
    },
    {
      "cell_type": "code",
      "source": [
        "score = int(input(\"점수를 입력해 주세요 : \"))\n",
        "\n",
        "\n",
        "if (score >= 90):\n",
        "  print(\"A\")\n",
        "elif (score >= 80):\n",
        "  print(\"B\")\n",
        "elif (score >= 70):\n",
        "  print(\"C\")\n",
        "else:\n",
        "  print(\"D\")"
      ],
      "metadata": {
        "colab": {
          "base_uri": "https://localhost:8080/"
        },
        "id": "2AmLFZMtifn8",
        "outputId": "c5a97a89-598e-46f6-8e25-e608196852de"
      },
      "execution_count": 71,
      "outputs": [
        {
          "output_type": "stream",
          "name": "stdout",
          "text": [
            "점수를 입력해 주세요 : 75\n",
            "C\n"
          ]
        }
      ]
    },
    {
      "cell_type": "markdown",
      "source": [
        "# 더 큰 숫자 출력 문제\n",
        "\n",
        "사용자에게 정수 값을 2개 입력받아, 더큰 숫자를 출력하고, 만약 같은 숫자라면 같습니다. 라는 문장을 출력하시오.\n"
      ],
      "metadata": {
        "id": "wshfJcmQiIhU"
      }
    },
    {
      "cell_type": "code",
      "source": [
        "a = int(input(\"첫번째 숫자를 입력해주세요 : \"))\n",
        "b = int(input(\"두번쨰 숫자를 입력해주세요 : \"))\n",
        "\n",
        "if a > b:\n",
        "  print(a)\n",
        "elif a < b:\n",
        "  print(b)\n",
        "elif a==b:\n",
        "  print(\"입력된 두 수는 같습니다.\")"
      ],
      "metadata": {
        "colab": {
          "base_uri": "https://localhost:8080/"
        },
        "id": "OWuICIWRjx4U",
        "outputId": "4df40d4e-1796-481f-ae9d-596bc77f991f"
      },
      "execution_count": 75,
      "outputs": [
        {
          "output_type": "stream",
          "name": "stdout",
          "text": [
            "첫번째 숫자를 입력해주세요 : 2\n",
            "두번쨰 숫자를 입력해주세요 : 2\n",
            "입력된 두 수는 같습니다.\n"
          ]
        }
      ]
    },
    {
      "cell_type": "markdown",
      "source": [
        "# 숫자에 따른 단위 부여 문제\n",
        "\n",
        "숫자가 1000이상이면, 백단위를 생략하고 K를 붙인다.\n",
        "\n",
        "숫자가 1000000 이상이면, 십만 단위를 생략하고 M을 붙인다.\n",
        "\n",
        "ex) 1,000 = K\n",
        "\n",
        "1,000,000 = M\n",
        "\n",
        "1,000,000,000 = G"
      ],
      "metadata": {
        "id": "CYEUfx4ziqN1"
      }
    },
    {
      "cell_type": "code",
      "source": [
        "num = int(input(\"숫자를 입력해 주세요 : \"))\n",
        "result = num\n",
        "\n",
        "if (num >= 1000 and 1000000 > num):\n",
        "  result = str(round(num / 1000)) + 'k'\n",
        "elif (num >= 1000000 and 1000000000 > num):\n",
        "  result = str(round(num / 1000000)) + 'm'\n",
        "elif (num >= 1000000000):\n",
        "  result = str(round(num / 1000000000)) + 'g'\n",
        "print(result)"
      ],
      "metadata": {
        "colab": {
          "base_uri": "https://localhost:8080/"
        },
        "id": "0PVfsvIbkMLk",
        "outputId": "e30ce835-b61a-48f6-a182-206b07ecfbea"
      },
      "execution_count": 127,
      "outputs": [
        {
          "output_type": "stream",
          "name": "stdout",
          "text": [
            "숫자를 입력해 주세요 : 1234567\n",
            "1m\n"
          ]
        }
      ]
    },
    {
      "cell_type": "markdown",
      "source": [
        "# 1. 평균 점수 구하기\n",
        "\n",
        "홍길동 씨의 과목별 점수는 국어 80점 영어 75점 수학 55점이다. 홍길동씨의 평균 점수를 구해보자"
      ],
      "metadata": {
        "id": "rmLq4HDAlpcM"
      }
    },
    {
      "cell_type": "code",
      "source": [
        "lang = 80\n",
        "eng = 75\n",
        "math = 55\n",
        "\n",
        "avg = (lang + eng + math) / 3\n",
        "\n",
        "print(\"홍길동씨의 평균 점수는 \", avg, \"점 입니다.\")"
      ],
      "metadata": {
        "colab": {
          "base_uri": "https://localhost:8080/"
        },
        "id": "Cop_t4tvlxfc",
        "outputId": "2a2f2038-d952-4ced-aedb-1d5019cd2ee0"
      },
      "execution_count": 87,
      "outputs": [
        {
          "output_type": "stream",
          "name": "stdout",
          "text": [
            "홍길동씨의 평균 점수는  70.0 점 입니다.\n"
          ]
        }
      ]
    },
    {
      "cell_type": "markdown",
      "source": [
        "# 2. 홀수, 짝수 판별하기\n",
        "\n",
        "자연수 13이 홀수인지, 짝수인지 판별하는 코드를 작성하시오\n"
      ],
      "metadata": {
        "id": "i-njbly-mI8F"
      }
    },
    {
      "cell_type": "code",
      "source": [
        "a = 13\n",
        "\n",
        "if (a%2 == 1):\n",
        "  print(\"홀수입니다.\")\n",
        "else:\n",
        "  print(\"짝수입니다.\")"
      ],
      "metadata": {
        "colab": {
          "base_uri": "https://localhost:8080/"
        },
        "id": "nlSYOVl6mO6M",
        "outputId": "b517d0c0-6aae-478d-8560-5d6d4bbcebae"
      },
      "execution_count": 88,
      "outputs": [
        {
          "output_type": "stream",
          "name": "stdout",
          "text": [
            "홀수입니다.\n"
          ]
        }
      ]
    },
    {
      "cell_type": "markdown",
      "source": [
        "# 3. 주민등록번호 나누기\n",
        "\n",
        "홍길동씨의 주민등록번호는 881120 - 1068234이다. 홍길동 씨의 주민등록 번호를 연월일(YYYYMMDD) 부분과 그 뒤의 숫자 부분으로 나누어 출력해 보자"
      ],
      "metadata": {
        "id": "447_1lSTmd1t"
      }
    },
    {
      "cell_type": "code",
      "source": [
        "pin = \"881120-1068234\"\n",
        "\n",
        "print(\"YYYYMMDD : 19\"+pin[:6])\n",
        "print(\"num :\", pin[7:])"
      ],
      "metadata": {
        "colab": {
          "base_uri": "https://localhost:8080/"
        },
        "id": "ghh0R69Xmpnc",
        "outputId": "b41ff5ad-8d64-407b-c61e-e4b4ad9ba753"
      },
      "execution_count": 129,
      "outputs": [
        {
          "output_type": "stream",
          "name": "stdout",
          "text": [
            "YYYYMMDD : 19881120\n",
            "num : 1068234\n"
          ]
        }
      ]
    },
    {
      "cell_type": "markdown",
      "source": [
        "# 4. 주민등록번호 인덱싱\n",
        "\n",
        "주민등록번호 뒷자리의 맨 첫 번째 숫자는 성별을 나타낸다. 주민등록번호에서 성별을 나타내는 숫자를 출력해보자."
      ],
      "metadata": {
        "id": "myez1TYFnT0l"
      }
    },
    {
      "cell_type": "code",
      "source": [
        "pin = \"881120-1068234\"\n",
        "\n",
        "if(pin[7:8] == '1'):\n",
        "  print(\"남성입니다.\")\n",
        "else:\n",
        "  print(\"여성입니다.\")"
      ],
      "metadata": {
        "colab": {
          "base_uri": "https://localhost:8080/"
        },
        "id": "0vLuT6nYnc7s",
        "outputId": "8291f129-842e-4de2-cf6d-d1ec4d1310d5"
      },
      "execution_count": 95,
      "outputs": [
        {
          "output_type": "stream",
          "name": "stdout",
          "text": [
            "1\n",
            "남성입니다.\n"
          ]
        }
      ]
    },
    {
      "cell_type": "markdown",
      "source": [
        "# 5. 문자열 바꾸기\n",
        "\n",
        "다음과 같은 문자열 a:b:c:d가 있다. replace 함수를 사용하여 a#b#c#d로 바꿔출력하라"
      ],
      "metadata": {
        "id": "EeN-Gjx8ncRs"
      }
    },
    {
      "cell_type": "code",
      "source": [
        "a = \"a:b:c:d\"\n",
        "b = a.replace(\":\",\"#\")\n",
        "\n",
        "print(b)"
      ],
      "metadata": {
        "colab": {
          "base_uri": "https://localhost:8080/"
        },
        "id": "Hp9mtdJ0oFtk",
        "outputId": "e5cdf4f9-2e39-4bf3-f9c0-cab74191a9e5"
      },
      "execution_count": 96,
      "outputs": [
        {
          "output_type": "stream",
          "name": "stdout",
          "text": [
            "a#b#c#d\n"
          ]
        }
      ]
    },
    {
      "cell_type": "markdown",
      "source": [
        "# 6. 리스트 역순 정렬하기\n",
        "\n",
        "[1,3,5,4,2] 리스트를 [5,4,3,2,1] 로 만들어보자"
      ],
      "metadata": {
        "id": "feg1W3utoFUs"
      }
    },
    {
      "cell_type": "code",
      "source": [
        "a = [1, 3, 5, 4, 2]\n",
        "a.sort()\n",
        "a.reverse()\n",
        "\n",
        "print(a)"
      ],
      "metadata": {
        "colab": {
          "base_uri": "https://localhost:8080/"
        },
        "id": "-QRT-EO5oVR0",
        "outputId": "d8a703b0-d4c6-4a1b-a767-ae446c20ff3d"
      },
      "execution_count": 97,
      "outputs": [
        {
          "output_type": "stream",
          "name": "stdout",
          "text": [
            "[5, 4, 3, 2, 1]\n"
          ]
        }
      ]
    },
    {
      "cell_type": "markdown",
      "source": [
        "# 7. 리스트를 문자열로 만들기\n",
        "\n",
        "['Life', 'is, 'too', 'short'] 리스트를 Life is too short 문자열로 만들어 출력하시오"
      ],
      "metadata": {
        "id": "7tG9V-vToUzE"
      }
    },
    {
      "cell_type": "code",
      "source": [
        "a = ['Life', 'is', 'too', 'short']\n",
        "\n",
        "result = ' '.join(a)\n",
        "\n",
        "print(result)"
      ],
      "metadata": {
        "colab": {
          "base_uri": "https://localhost:8080/"
        },
        "id": "EHcdZz_romt8",
        "outputId": "930cdacb-a366-48b6-f0ee-9faef41be46d"
      },
      "execution_count": 104,
      "outputs": [
        {
          "output_type": "stream",
          "name": "stdout",
          "text": [
            "Life is too short\n"
          ]
        }
      ]
    },
    {
      "cell_type": "markdown",
      "source": [
        "# 8. 튜플 더하기\n",
        "\n",
        "(1, 2, 3) 튜플에 값 4를 추가하여 (1, 2, 3, 4)로 만든 후 출력하시오"
      ],
      "metadata": {
        "id": "CFzFtLSzpg01"
      }
    },
    {
      "cell_type": "code",
      "source": [
        "t1 = (1, 2, 3)\n",
        "t2 = (4,)\n",
        "t3 = t1 + t2\n",
        "\n",
        "print(t3)"
      ],
      "metadata": {
        "colab": {
          "base_uri": "https://localhost:8080/"
        },
        "id": "pV83LUzYpnhE",
        "outputId": "fb3193b9-3577-48f3-8730-c4820fd1817b"
      },
      "execution_count": 109,
      "outputs": [
        {
          "output_type": "stream",
          "name": "stdout",
          "text": [
            "(1, 2, 3, 4)\n"
          ]
        }
      ]
    },
    {
      "cell_type": "markdown",
      "source": [
        "# 9. 딕셔너리의 키\n",
        "\n",
        "다음과 같은 딕셔너리 a 가 있다. 다음 중 오류가 발생하는 경우를 고르고, 그 이유를 설명해 보자\n",
        "\n",
        "a = dict()\n",
        "\n",
        "a['name'] = 'python'\n",
        "\n",
        "a[('a',)] = 'python'\n",
        "\n",
        "a[[1]] = 'python'\n",
        "\n",
        "a[250] = 'python'\n"
      ],
      "metadata": {
        "id": "nysjP26JqJGt"
      }
    },
    {
      "cell_type": "code",
      "source": [
        "a = dict()\n",
        "\n",
        "a['name'] = 'python'\n",
        "a[('a',)] = 'python'\n",
        "# a[[1]] = 'python'   리스트는 Key에 사용이 불가능하다.\n",
        "a[250] = 'python'"
      ],
      "metadata": {
        "id": "oX7UDCpRr9x8"
      },
      "execution_count": 114,
      "outputs": []
    },
    {
      "cell_type": "markdown",
      "source": [
        "# 10. 딕셔너리 값 추출하기\n",
        "\n",
        "딕셔너리 a에서 'B'에 해당하는 값을 추출 해보자"
      ],
      "metadata": {
        "id": "14aUnuzXq4q1"
      }
    },
    {
      "cell_type": "code",
      "source": [
        "a = {'A' : 90, 'B' : 80, 'C' : 70}\n",
        "\n",
        "b = a.get('B')\n",
        "\n",
        "print(b)"
      ],
      "metadata": {
        "colab": {
          "base_uri": "https://localhost:8080/"
        },
        "id": "Rs-PHI_Sq-XE",
        "outputId": "15b4a1d2-751c-4623-c54c-000528a6f756"
      },
      "execution_count": 111,
      "outputs": [
        {
          "output_type": "stream",
          "name": "stdout",
          "text": [
            "80\n"
          ]
        }
      ]
    },
    {
      "cell_type": "markdown",
      "source": [
        "# 11. 리스트에서 중복 제거하기\n",
        "\n",
        "a 리스트에서 중복 숫자를 제거해 보자."
      ],
      "metadata": {
        "id": "U-ynTfv7rVkU"
      }
    },
    {
      "cell_type": "code",
      "source": [
        "a = [1, 1, 1, 2, 2, 3, 3, 3, 4, 4, 5]\n",
        "\n",
        "b = set(a)\n",
        "\n",
        "print(b)"
      ],
      "metadata": {
        "colab": {
          "base_uri": "https://localhost:8080/"
        },
        "id": "4mhOJDO4rZlN",
        "outputId": "3e2c0c6d-16a7-44b4-ec59-3e519804b4c7"
      },
      "execution_count": 112,
      "outputs": [
        {
          "output_type": "stream",
          "name": "stdout",
          "text": [
            "{1, 2, 3, 4, 5}\n"
          ]
        }
      ]
    },
    {
      "cell_type": "markdown",
      "source": [
        "# 12. 파이썬 변수\n",
        "\n",
        "파이썬은 다음처럼 동일한 값에 여러 개의 변수를 선언할 수 있다. 다음과 같이 a,b 변수를 선언한 후 a의 두번째 요솟값을 변경하면 b 값은 어떻게 될까? 그리고 이런 결과가 나타나는 이유를 설명해 보자."
      ],
      "metadata": {
        "id": "qV4OqnX2rlpd"
      }
    },
    {
      "cell_type": "code",
      "source": [
        "a = b = [1, 2, 3]\n",
        "a[1] = 4\n",
        "print(b)      # 동일한 리스트 객체를 가지고 있기 때문에 4로 바뀌어서 출력 된다."
      ],
      "metadata": {
        "colab": {
          "base_uri": "https://localhost:8080/"
        },
        "id": "WYIUwc_ztje1",
        "outputId": "0b8db3a6-b19a-4605-8a58-7238267e1c76"
      },
      "execution_count": 115,
      "outputs": [
        {
          "output_type": "stream",
          "name": "stdout",
          "text": [
            "[1, 4, 3]\n"
          ]
        }
      ]
    }
  ]
}